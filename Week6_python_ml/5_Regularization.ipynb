{
 "cells": [
  {
   "cell_type": "markdown",
   "metadata": {},
   "source": [
    "## Predictive modeling \n",
    "### Week 5: Regularization"
   ]
  },
  {
   "cell_type": "code",
   "execution_count": null,
   "metadata": {},
   "outputs": [],
   "source": [
    "pip install pandas"
   ]
  },
  {
   "cell_type": "code",
   "execution_count": null,
   "metadata": {},
   "outputs": [],
   "source": [
    "pip install sklearn"
   ]
  },
  {
   "cell_type": "code",
   "execution_count": null,
   "metadata": {},
   "outputs": [],
   "source": [
    "pip install missingno"
   ]
  },
  {
   "cell_type": "code",
   "execution_count": 11,
   "metadata": {},
   "outputs": [
    {
     "name": "stdout",
     "output_type": "stream",
     "text": [
      "Collecting statsmodels\n",
      "  Downloading statsmodels-0.13.2-cp310-cp310-macosx_10_9_x86_64.whl (9.7 MB)\n",
      "\u001b[2K     \u001b[90m━━━━━━━━━━━━━━━━━━━━━━━━━━━━━━━━━━━━━━━━\u001b[0m \u001b[32m9.7/9.7 MB\u001b[0m \u001b[31m4.3 MB/s\u001b[0m eta \u001b[36m0:00:00\u001b[0m00:01\u001b[0m00:01\u001b[0m\n",
      "\u001b[?25hRequirement already satisfied: packaging>=21.3 in /Library/Frameworks/Python.framework/Versions/3.10/lib/python3.10/site-packages (from statsmodels) (21.3)\n",
      "Requirement already satisfied: numpy>=1.17 in /Library/Frameworks/Python.framework/Versions/3.10/lib/python3.10/site-packages (from statsmodels) (1.22.4)\n",
      "Requirement already satisfied: scipy>=1.3 in /Library/Frameworks/Python.framework/Versions/3.10/lib/python3.10/site-packages (from statsmodels) (1.8.1)\n",
      "Collecting patsy>=0.5.2\n",
      "  Downloading patsy-0.5.2-py2.py3-none-any.whl (233 kB)\n",
      "\u001b[2K     \u001b[90m━━━━━━━━━━━━━━━━━━━━━━━━━━━━━━━━━━━━━━━\u001b[0m \u001b[32m233.7/233.7 kB\u001b[0m \u001b[31m5.6 MB/s\u001b[0m eta \u001b[36m0:00:00\u001b[0ma \u001b[36m0:00:01\u001b[0m\n",
      "\u001b[?25hRequirement already satisfied: pandas>=0.25 in /Library/Frameworks/Python.framework/Versions/3.10/lib/python3.10/site-packages (from statsmodels) (1.4.2)\n",
      "Requirement already satisfied: pyparsing!=3.0.5,>=2.0.2 in /Library/Frameworks/Python.framework/Versions/3.10/lib/python3.10/site-packages (from packaging>=21.3->statsmodels) (3.0.9)\n",
      "Requirement already satisfied: python-dateutil>=2.8.1 in /Library/Frameworks/Python.framework/Versions/3.10/lib/python3.10/site-packages (from pandas>=0.25->statsmodels) (2.8.2)\n",
      "Requirement already satisfied: pytz>=2020.1 in /Library/Frameworks/Python.framework/Versions/3.10/lib/python3.10/site-packages (from pandas>=0.25->statsmodels) (2022.1)\n",
      "Requirement already satisfied: six in /Library/Frameworks/Python.framework/Versions/3.10/lib/python3.10/site-packages (from patsy>=0.5.2->statsmodels) (1.16.0)\n",
      "Installing collected packages: patsy, statsmodels\n",
      "Successfully installed patsy-0.5.2 statsmodels-0.13.2\n",
      "Note: you may need to restart the kernel to use updated packages.\n"
     ]
    }
   ],
   "source": [
    "pip install statsmodels"
   ]
  },
  {
   "cell_type": "code",
   "execution_count": 7,
   "metadata": {},
   "outputs": [
    {
     "name": "stdout",
     "output_type": "stream",
     "text": [
      "Requirement already satisfied: pip in /Library/Frameworks/Python.framework/Versions/3.10/lib/python3.10/site-packages (22.0.4)\n",
      "Collecting pip\n",
      "  Using cached pip-22.2-py3-none-any.whl (2.0 MB)\n",
      "Installing collected packages: pip\n",
      "  Attempting uninstall: pip\n",
      "    Found existing installation: pip 22.0.4\n",
      "    Uninstalling pip-22.0.4:\n",
      "      Successfully uninstalled pip-22.0.4\n",
      "Successfully installed pip-22.2\n",
      "Note: you may need to restart the kernel to use updated packages.\n"
     ]
    }
   ],
   "source": [
    "pip install --upgrade pip"
   ]
  },
  {
   "cell_type": "code",
   "execution_count": 12,
   "metadata": {},
   "outputs": [],
   "source": [
    "# libraries\n",
    "import pandas as pd # process dataframe\n",
    "import numpy as np # scientific calculation\n",
    "import seaborn as sns # visualization complete stastistics\n",
    "import matplotlib.pyplot as plt # visualization\n",
    "from sklearn.model_selection import train_test_split # train test split\n",
    "from sklearn.preprocessing import MinMaxScaler # load scaler from sklearn\n",
    "from sklearn.metrics import mean_squared_error # mse \n",
    "import missingno as msno # miss data visuals\n",
    "\n",
    "import statsmodels.api as sm # statsmodels to build regression model"
   ]
  },
  {
   "cell_type": "markdown",
   "metadata": {},
   "source": [
    "### 0. Dataset and some cleansing job"
   ]
  },
  {
   "cell_type": "code",
   "execution_count": 13,
   "metadata": {},
   "outputs": [
    {
     "name": "stdout",
     "output_type": "stream",
     "text": [
      "Training set size:  4213\n",
      "Test set size:  1806\n"
     ]
    }
   ],
   "source": [
    "data = pd.read_csv('/Users/astroxjrk/Desktop/SEAC/Week6_python_ml/data/train-data.csv')\n",
    "train_0 = data.drop(columns=['Unnamed: 0', 'New_Price'])\n",
    "\n",
    "# strings to float transformation\n",
    "train_0['Mileage'] = train_0['Mileage']\\\n",
    "    .str.replace('km/kg','').str.replace('kmpl','').astype(float)\n",
    "train_0['Engine'] = train_0['Engine'].str.replace('CC','').astype(float)\n",
    "train_0['Power'] = train_0['Power']\\\n",
    "    .str.replace('bhp','').str.replace('null', '0').fillna('0').astype(float)\n",
    "\n",
    "# perform train test split \n",
    "X_all = train_0.drop(columns=['Price'])\n",
    "y_all = train_0[['Price']]\n",
    "\n",
    "X_train, X_test, y_train, y_test = train_test_split(X_all, y_all, \n",
    "                                                    test_size=0.3, \n",
    "                                                    random_state=42)\n",
    "\n",
    "# check data size \n",
    "print('Training set size: ', len(X_train)) # 70% of total data\n",
    "print('Test set size: ', len(X_test)) # 30% of total data"
   ]
  },
  {
   "cell_type": "markdown",
   "metadata": {},
   "source": [
    "### 1. Data processing"
   ]
  },
  {
   "cell_type": "code",
   "execution_count": 15,
   "metadata": {},
   "outputs": [],
   "source": [
    "# Tukey's method\n",
    "def tukeys_method(df, variable, q_range=1.5):\n",
    "    #Takes two parameters: dataframe & variable of interest as string\n",
    "    q1 = df[variable].quantile(0.25)\n",
    "    q3 = df[variable].quantile(0.75)\n",
    "    iqr = q3-q1\n",
    "    inner_fence = q_range*iqr\n",
    "    \n",
    "    #inner fence lower and upper end\n",
    "    inner_fence_le = q1-inner_fence\n",
    "    inner_fence_ue = q3+inner_fence\n",
    "    \n",
    "    outliers_poss = []\n",
    "    \n",
    "    for index, x in enumerate(df[variable]):\n",
    "        if x <= inner_fence_le or x >= inner_fence_ue:\n",
    "            outliers_poss.append(index)\n",
    "    return outliers_poss, inner_fence_le, inner_fence_ue "
   ]
  },
  {
   "cell_type": "markdown",
   "metadata": {},
   "source": [
    "#### 1.1 Training data"
   ]
  },
  {
   "cell_type": "code",
   "execution_count": 16,
   "metadata": {},
   "outputs": [
    {
     "name": "stdout",
     "output_type": "stream",
     "text": [
      "Lower limit:  -6.100000000000001\n",
      "Upper limit:  19.5\n",
      "<class 'pandas.core.frame.DataFrame'>\n",
      "RangeIndex: 3716 entries, 0 to 3715\n",
      "Data columns (total 28 columns):\n",
      " #   Column                     Non-Null Count  Dtype  \n",
      "---  ------                     --------------  -----  \n",
      " 0   Kilometers_Driven          3716 non-null   float64\n",
      " 1   Mileage                    3716 non-null   float64\n",
      " 2   Engine                     3716 non-null   float64\n",
      " 3   Power                      3716 non-null   float64\n",
      " 4   Seats                      3716 non-null   float64\n",
      " 5   Age                        3716 non-null   float64\n",
      " 6   Location_Ahmedabad         3716 non-null   float64\n",
      " 7   Location_Bangalore         3716 non-null   float64\n",
      " 8   Location_Chennai           3716 non-null   float64\n",
      " 9   Location_Coimbatore        3716 non-null   float64\n",
      " 10  Location_Delhi             3716 non-null   float64\n",
      " 11  Location_Hyderabad         3716 non-null   float64\n",
      " 12  Location_Jaipur            3716 non-null   float64\n",
      " 13  Location_Kochi             3716 non-null   float64\n",
      " 14  Location_Kolkata           3716 non-null   float64\n",
      " 15  Location_Mumbai            3716 non-null   float64\n",
      " 16  Location_Pune              3716 non-null   float64\n",
      " 17  Fuel_Type_CNG              3716 non-null   float64\n",
      " 18  Fuel_Type_Diesel           3716 non-null   float64\n",
      " 19  Fuel_Type_Electric         3716 non-null   float64\n",
      " 20  Fuel_Type_LPG              3716 non-null   float64\n",
      " 21  Fuel_Type_Petrol           3716 non-null   float64\n",
      " 22  Transmission_Automatic     3716 non-null   float64\n",
      " 23  Transmission_Manual        3716 non-null   float64\n",
      " 24  Owner_Type_First           3716 non-null   float64\n",
      " 25  Owner_Type_Fourth & Above  3716 non-null   float64\n",
      " 26  Owner_Type_Second          3716 non-null   float64\n",
      " 27  Owner_Type_Third           3716 non-null   float64\n",
      "dtypes: float64(28)\n",
      "memory usage: 813.0 KB\n"
     ]
    }
   ],
   "source": [
    "X_train_1 = X_train.copy()\n",
    "\n",
    "# outliers removal \n",
    "outlier_indices, lower_limit, upper_limit = tukeys_method(y_train,'Price')\n",
    "print('Lower limit: ', lower_limit)\n",
    "print('Upper limit: ', upper_limit)\n",
    "\n",
    "y_train_ul = y_train[y_train['Price']>upper_limit]\n",
    "X_train_1 = X_train_1.drop(index=y_train_ul.index)\n",
    "y_train_1 = y_train.drop(index=y_train_ul.index)\n",
    "\n",
    "# missing data treatment\n",
    "X_train_1['Mileage'] = X_train_1['Mileage'].fillna(X_train_1['Mileage'].mean())\n",
    "X_train_1['Engine'] = X_train_1['Engine'].fillna(X_train_1['Engine'].median())\n",
    "X_train_1['Seats'] = X_train_1['Seats'].fillna(int(X_train_1['Seats'].mode()))\n",
    "\n",
    "# year transformation\n",
    "X_train_1['Age'] = 2021 - X_train_1['Year']\n",
    "X_train_1 = X_train_1.drop(columns=['Year'])\n",
    "\n",
    "# categorical encoding\n",
    "Location_enc = pd.get_dummies(X_train_1[['Location']])\n",
    "Fuel_Type_enc = pd.get_dummies(X_train_1[['Fuel_Type']])\n",
    "Transmission_enc = pd.get_dummies(X_train_1[['Transmission']])\n",
    "Owner_Type_enc = pd.get_dummies(X_train_1[['Owner_Type']])\n",
    "X_train_1 = X_train_1.drop(columns=['Location', 'Fuel_Type', 'Transmission', 'Owner_Type'])\n",
    "X_train_1 = pd.concat([X_train_1, Location_enc, Fuel_Type_enc, Transmission_enc, Owner_Type_enc], axis=1)\n",
    "\n",
    "# define data to be scaled \n",
    "x = X_train_1.drop(columns=['Name'])\n",
    "\n",
    "scaler = MinMaxScaler() # instantiate the scaler\n",
    "scaler_fit = scaler.fit(x) # fit the scaler on the data\n",
    "x_sc = scaler_fit.transform(x) # tranform the data using the fitted scaler\n",
    "X_train_1 = pd.DataFrame(x_sc, columns=x.columns)\n",
    "X_train_1.info()"
   ]
  },
  {
   "cell_type": "markdown",
   "metadata": {},
   "source": [
    "#### 1.2 Test data"
   ]
  },
  {
   "cell_type": "code",
   "execution_count": 21,
   "metadata": {},
   "outputs": [
    {
     "name": "stdout",
     "output_type": "stream",
     "text": [
      "<class 'pandas.core.frame.DataFrame'>\n",
      "RangeIndex: 1806 entries, 0 to 1805\n",
      "Data columns (total 28 columns):\n",
      " #   Column                     Non-Null Count  Dtype  \n",
      "---  ------                     --------------  -----  \n",
      " 0   Kilometers_Driven          1806 non-null   float64\n",
      " 1   Mileage                    1806 non-null   float64\n",
      " 2   Engine                     1806 non-null   float64\n",
      " 3   Power                      1806 non-null   float64\n",
      " 4   Seats                      1806 non-null   float64\n",
      " 5   Age                        1806 non-null   float64\n",
      " 6   Location_Ahmedabad         1806 non-null   float64\n",
      " 7   Location_Bangalore         1806 non-null   float64\n",
      " 8   Location_Chennai           1806 non-null   float64\n",
      " 9   Location_Coimbatore        1806 non-null   float64\n",
      " 10  Location_Delhi             1806 non-null   float64\n",
      " 11  Location_Hyderabad         1806 non-null   float64\n",
      " 12  Location_Jaipur            1806 non-null   float64\n",
      " 13  Location_Kochi             1806 non-null   float64\n",
      " 14  Location_Kolkata           1806 non-null   float64\n",
      " 15  Location_Mumbai            1806 non-null   float64\n",
      " 16  Location_Pune              1806 non-null   float64\n",
      " 17  Fuel_Type_CNG              1806 non-null   float64\n",
      " 18  Fuel_Type_Diesel           1806 non-null   float64\n",
      " 19  Fuel_Type_Electric         1806 non-null   float64\n",
      " 20  Fuel_Type_LPG              1806 non-null   float64\n",
      " 21  Fuel_Type_Petrol           1806 non-null   float64\n",
      " 22  Transmission_Automatic     1806 non-null   float64\n",
      " 23  Transmission_Manual        1806 non-null   float64\n",
      " 24  Owner_Type_First           1806 non-null   float64\n",
      " 25  Owner_Type_Fourth & Above  1806 non-null   float64\n",
      " 26  Owner_Type_Second          1806 non-null   float64\n",
      " 27  Owner_Type_Third           1806 non-null   float64\n",
      "dtypes: float64(28)\n",
      "memory usage: 395.2 KB\n"
     ]
    }
   ],
   "source": [
    "X_test_1 = X_test.copy()\n",
    "## missing data imputation\n",
    "X_test_1['Mileage'] = X_test_1['Mileage'].fillna(X_test_1['Mileage'].mean())\n",
    "X_test_1['Engine'] = X_test_1['Engine'].fillna(X_test_1['Engine'].median())\n",
    "X_test_1['Seats'] = X_test_1['Seats'].fillna(int(X_test_1['Seats'].mode()))\n",
    "\n",
    "## year to age transformation\n",
    "X_test_1['Age'] = 2021 - X_test_1['Year']\n",
    "X_test_1 = X_test_1.drop(columns=['Year'])\n",
    "\n",
    "## categorical transformation\n",
    "# encoding\n",
    "Location_enc = pd.get_dummies(X_test_1[['Location']])\n",
    "Fuel_Type_enc = pd.get_dummies(X_test_1[['Fuel_Type']])\n",
    "Transmission_enc = pd.get_dummies(X_test_1[['Transmission']])\n",
    "Owner_Type_enc = pd.get_dummies(X_test_1[['Owner_Type']])\n",
    "\n",
    "# adding them back the test data \n",
    "X_test_1 = X_test_1.drop(columns=['Location', 'Fuel_Type', 'Transmission', 'Owner_Type'])\n",
    "X_test_1 = pd.concat([X_test_1, Location_enc, Fuel_Type_enc, Transmission_enc, Owner_Type_enc], axis=1)\n",
    "\n",
    "## min-max scaling\n",
    "# define data to be scaled \n",
    "x = X_test_1.drop(columns=['Name'])\n",
    "X_test_1_sc = scaler_fit.transform(x) # tranform the data using the fitted scaler\n",
    "X_test_1 = pd.DataFrame(X_test_1_sc, columns=x.columns)\n",
    "X_test_1.info()"
   ]
  },
  {
   "cell_type": "markdown",
   "metadata": {},
   "source": [
    "### 2. Model fitting"
   ]
  },
  {
   "cell_type": "code",
   "execution_count": 22,
   "metadata": {},
   "outputs": [
    {
     "data": {
      "text/html": [
       "<table class=\"simpletable\">\n",
       "<caption>OLS Regression Results</caption>\n",
       "<tr>\n",
       "  <th>Dep. Variable:</th>          <td>Price</td>      <th>  R-squared:         </th> <td>   0.718</td> \n",
       "</tr>\n",
       "<tr>\n",
       "  <th>Model:</th>                   <td>OLS</td>       <th>  Adj. R-squared:    </th> <td>   0.717</td> \n",
       "</tr>\n",
       "<tr>\n",
       "  <th>Method:</th>             <td>Least Squares</td>  <th>  F-statistic:       </th> <td>   392.4</td> \n",
       "</tr>\n",
       "<tr>\n",
       "  <th>Date:</th>             <td>Wed, 27 Jul 2022</td> <th>  Prob (F-statistic):</th>  <td>  0.00</td>  \n",
       "</tr>\n",
       "<tr>\n",
       "  <th>Time:</th>                 <td>16:25:43</td>     <th>  Log-Likelihood:    </th> <td> -8060.5</td> \n",
       "</tr>\n",
       "<tr>\n",
       "  <th>No. Observations:</th>      <td>  3716</td>      <th>  AIC:               </th> <td>1.617e+04</td>\n",
       "</tr>\n",
       "<tr>\n",
       "  <th>Df Residuals:</th>          <td>  3691</td>      <th>  BIC:               </th> <td>1.633e+04</td>\n",
       "</tr>\n",
       "<tr>\n",
       "  <th>Df Model:</th>              <td>    24</td>      <th>                     </th>     <td> </td>    \n",
       "</tr>\n",
       "<tr>\n",
       "  <th>Covariance Type:</th>      <td>nonrobust</td>    <th>                     </th>     <td> </td>    \n",
       "</tr>\n",
       "</table>\n",
       "<table class=\"simpletable\">\n",
       "<tr>\n",
       "              <td></td>                 <th>coef</th>     <th>std err</th>      <th>t</th>      <th>P>|t|</th>  <th>[0.025</th>    <th>0.975]</th>  \n",
       "</tr>\n",
       "<tr>\n",
       "  <th>const</th>                     <td> 4.385e+11</td> <td> 3.08e+12</td> <td>    0.142</td> <td> 0.887</td> <td>-5.61e+12</td> <td> 6.48e+12</td>\n",
       "</tr>\n",
       "<tr>\n",
       "  <th>Kilometers_Driven</th>         <td>   -6.0034</td> <td>    0.846</td> <td>   -7.096</td> <td> 0.000</td> <td>   -7.662</td> <td>   -4.345</td>\n",
       "</tr>\n",
       "<tr>\n",
       "  <th>Mileage</th>                   <td>   -4.9481</td> <td>    0.462</td> <td>  -10.708</td> <td> 0.000</td> <td>   -5.854</td> <td>   -4.042</td>\n",
       "</tr>\n",
       "<tr>\n",
       "  <th>Engine</th>                    <td>    8.4977</td> <td>    0.724</td> <td>   11.739</td> <td> 0.000</td> <td>    7.078</td> <td>    9.917</td>\n",
       "</tr>\n",
       "<tr>\n",
       "  <th>Power</th>                     <td>   10.0871</td> <td>    0.575</td> <td>   17.533</td> <td> 0.000</td> <td>    8.959</td> <td>   11.215</td>\n",
       "</tr>\n",
       "<tr>\n",
       "  <th>Seats</th>                     <td>   -1.5038</td> <td>    0.609</td> <td>   -2.469</td> <td> 0.014</td> <td>   -2.698</td> <td>   -0.310</td>\n",
       "</tr>\n",
       "<tr>\n",
       "  <th>Age</th>                       <td>  -10.6862</td> <td>    0.306</td> <td>  -34.879</td> <td> 0.000</td> <td>  -11.287</td> <td>  -10.085</td>\n",
       "</tr>\n",
       "<tr>\n",
       "  <th>Location_Ahmedabad</th>        <td> 2.755e+09</td> <td> 1.94e+10</td> <td>    0.142</td> <td> 0.887</td> <td>-3.52e+10</td> <td> 4.07e+10</td>\n",
       "</tr>\n",
       "<tr>\n",
       "  <th>Location_Bangalore</th>        <td> 2.755e+09</td> <td> 1.94e+10</td> <td>    0.142</td> <td> 0.887</td> <td>-3.52e+10</td> <td> 4.07e+10</td>\n",
       "</tr>\n",
       "<tr>\n",
       "  <th>Location_Chennai</th>          <td> 2.755e+09</td> <td> 1.94e+10</td> <td>    0.142</td> <td> 0.887</td> <td>-3.52e+10</td> <td> 4.07e+10</td>\n",
       "</tr>\n",
       "<tr>\n",
       "  <th>Location_Coimbatore</th>       <td> 2.755e+09</td> <td> 1.94e+10</td> <td>    0.142</td> <td> 0.887</td> <td>-3.52e+10</td> <td> 4.07e+10</td>\n",
       "</tr>\n",
       "<tr>\n",
       "  <th>Location_Delhi</th>            <td> 2.755e+09</td> <td> 1.94e+10</td> <td>    0.142</td> <td> 0.887</td> <td>-3.52e+10</td> <td> 4.07e+10</td>\n",
       "</tr>\n",
       "<tr>\n",
       "  <th>Location_Hyderabad</th>        <td> 2.755e+09</td> <td> 1.94e+10</td> <td>    0.142</td> <td> 0.887</td> <td>-3.52e+10</td> <td> 4.07e+10</td>\n",
       "</tr>\n",
       "<tr>\n",
       "  <th>Location_Jaipur</th>           <td> 2.755e+09</td> <td> 1.94e+10</td> <td>    0.142</td> <td> 0.887</td> <td>-3.52e+10</td> <td> 4.07e+10</td>\n",
       "</tr>\n",
       "<tr>\n",
       "  <th>Location_Kochi</th>            <td> 2.755e+09</td> <td> 1.94e+10</td> <td>    0.142</td> <td> 0.887</td> <td>-3.52e+10</td> <td> 4.07e+10</td>\n",
       "</tr>\n",
       "<tr>\n",
       "  <th>Location_Kolkata</th>          <td> 2.755e+09</td> <td> 1.94e+10</td> <td>    0.142</td> <td> 0.887</td> <td>-3.52e+10</td> <td> 4.07e+10</td>\n",
       "</tr>\n",
       "<tr>\n",
       "  <th>Location_Mumbai</th>           <td> 2.755e+09</td> <td> 1.94e+10</td> <td>    0.142</td> <td> 0.887</td> <td>-3.52e+10</td> <td> 4.07e+10</td>\n",
       "</tr>\n",
       "<tr>\n",
       "  <th>Location_Pune</th>             <td> 2.755e+09</td> <td> 1.94e+10</td> <td>    0.142</td> <td> 0.887</td> <td>-3.52e+10</td> <td> 4.07e+10</td>\n",
       "</tr>\n",
       "<tr>\n",
       "  <th>Fuel_Type_CNG</th>             <td> 6.427e+11</td> <td> 4.52e+12</td> <td>    0.142</td> <td> 0.887</td> <td>-8.22e+12</td> <td>  9.5e+12</td>\n",
       "</tr>\n",
       "<tr>\n",
       "  <th>Fuel_Type_Diesel</th>          <td> 6.427e+11</td> <td> 4.52e+12</td> <td>    0.142</td> <td> 0.887</td> <td>-8.22e+12</td> <td>  9.5e+12</td>\n",
       "</tr>\n",
       "<tr>\n",
       "  <th>Fuel_Type_Electric</th>        <td> 6.427e+11</td> <td> 4.52e+12</td> <td>    0.142</td> <td> 0.887</td> <td>-8.22e+12</td> <td>  9.5e+12</td>\n",
       "</tr>\n",
       "<tr>\n",
       "  <th>Fuel_Type_LPG</th>             <td> 6.427e+11</td> <td> 4.52e+12</td> <td>    0.142</td> <td> 0.887</td> <td>-8.22e+12</td> <td>  9.5e+12</td>\n",
       "</tr>\n",
       "<tr>\n",
       "  <th>Fuel_Type_Petrol</th>          <td> 6.427e+11</td> <td> 4.52e+12</td> <td>    0.142</td> <td> 0.887</td> <td>-8.22e+12</td> <td>  9.5e+12</td>\n",
       "</tr>\n",
       "<tr>\n",
       "  <th>Transmission_Automatic</th>    <td>-7.738e+11</td> <td> 5.44e+12</td> <td>   -0.142</td> <td> 0.887</td> <td>-1.14e+13</td> <td> 9.89e+12</td>\n",
       "</tr>\n",
       "<tr>\n",
       "  <th>Transmission_Manual</th>       <td>-7.738e+11</td> <td> 5.44e+12</td> <td>   -0.142</td> <td> 0.887</td> <td>-1.14e+13</td> <td> 9.89e+12</td>\n",
       "</tr>\n",
       "<tr>\n",
       "  <th>Owner_Type_First</th>          <td>  -3.1e+11</td> <td> 2.18e+12</td> <td>   -0.142</td> <td> 0.887</td> <td>-4.58e+12</td> <td> 3.96e+12</td>\n",
       "</tr>\n",
       "<tr>\n",
       "  <th>Owner_Type_Fourth & Above</th> <td>  -3.1e+11</td> <td> 2.18e+12</td> <td>   -0.142</td> <td> 0.887</td> <td>-4.58e+12</td> <td> 3.96e+12</td>\n",
       "</tr>\n",
       "<tr>\n",
       "  <th>Owner_Type_Second</th>         <td>  -3.1e+11</td> <td> 2.18e+12</td> <td>   -0.142</td> <td> 0.887</td> <td>-4.58e+12</td> <td> 3.96e+12</td>\n",
       "</tr>\n",
       "<tr>\n",
       "  <th>Owner_Type_Third</th>          <td>  -3.1e+11</td> <td> 2.18e+12</td> <td>   -0.142</td> <td> 0.887</td> <td>-4.58e+12</td> <td> 3.96e+12</td>\n",
       "</tr>\n",
       "</table>\n",
       "<table class=\"simpletable\">\n",
       "<tr>\n",
       "  <th>Omnibus:</th>       <td>519.272</td> <th>  Durbin-Watson:     </th> <td>   1.988</td>\n",
       "</tr>\n",
       "<tr>\n",
       "  <th>Prob(Omnibus):</th> <td> 0.000</td>  <th>  Jarque-Bera (JB):  </th> <td>1711.176</td>\n",
       "</tr>\n",
       "<tr>\n",
       "  <th>Skew:</th>          <td> 0.702</td>  <th>  Prob(JB):          </th> <td>    0.00</td>\n",
       "</tr>\n",
       "<tr>\n",
       "  <th>Kurtosis:</th>      <td> 6.014</td>  <th>  Cond. No.          </th> <td>1.17e+16</td>\n",
       "</tr>\n",
       "</table><br/><br/>Notes:<br/>[1] Standard Errors assume that the covariance matrix of the errors is correctly specified.<br/>[2] The smallest eigenvalue is 1.05e-28. This might indicate that there are<br/>strong multicollinearity problems or that the design matrix is singular."
      ],
      "text/plain": [
       "<class 'statsmodels.iolib.summary.Summary'>\n",
       "\"\"\"\n",
       "                            OLS Regression Results                            \n",
       "==============================================================================\n",
       "Dep. Variable:                  Price   R-squared:                       0.718\n",
       "Model:                            OLS   Adj. R-squared:                  0.717\n",
       "Method:                 Least Squares   F-statistic:                     392.4\n",
       "Date:                Wed, 27 Jul 2022   Prob (F-statistic):               0.00\n",
       "Time:                        16:25:43   Log-Likelihood:                -8060.5\n",
       "No. Observations:                3716   AIC:                         1.617e+04\n",
       "Df Residuals:                    3691   BIC:                         1.633e+04\n",
       "Df Model:                          24                                         \n",
       "Covariance Type:            nonrobust                                         \n",
       "=============================================================================================\n",
       "                                coef    std err          t      P>|t|      [0.025      0.975]\n",
       "---------------------------------------------------------------------------------------------\n",
       "const                      4.385e+11   3.08e+12      0.142      0.887   -5.61e+12    6.48e+12\n",
       "Kilometers_Driven            -6.0034      0.846     -7.096      0.000      -7.662      -4.345\n",
       "Mileage                      -4.9481      0.462    -10.708      0.000      -5.854      -4.042\n",
       "Engine                        8.4977      0.724     11.739      0.000       7.078       9.917\n",
       "Power                        10.0871      0.575     17.533      0.000       8.959      11.215\n",
       "Seats                        -1.5038      0.609     -2.469      0.014      -2.698      -0.310\n",
       "Age                         -10.6862      0.306    -34.879      0.000     -11.287     -10.085\n",
       "Location_Ahmedabad         2.755e+09   1.94e+10      0.142      0.887   -3.52e+10    4.07e+10\n",
       "Location_Bangalore         2.755e+09   1.94e+10      0.142      0.887   -3.52e+10    4.07e+10\n",
       "Location_Chennai           2.755e+09   1.94e+10      0.142      0.887   -3.52e+10    4.07e+10\n",
       "Location_Coimbatore        2.755e+09   1.94e+10      0.142      0.887   -3.52e+10    4.07e+10\n",
       "Location_Delhi             2.755e+09   1.94e+10      0.142      0.887   -3.52e+10    4.07e+10\n",
       "Location_Hyderabad         2.755e+09   1.94e+10      0.142      0.887   -3.52e+10    4.07e+10\n",
       "Location_Jaipur            2.755e+09   1.94e+10      0.142      0.887   -3.52e+10    4.07e+10\n",
       "Location_Kochi             2.755e+09   1.94e+10      0.142      0.887   -3.52e+10    4.07e+10\n",
       "Location_Kolkata           2.755e+09   1.94e+10      0.142      0.887   -3.52e+10    4.07e+10\n",
       "Location_Mumbai            2.755e+09   1.94e+10      0.142      0.887   -3.52e+10    4.07e+10\n",
       "Location_Pune              2.755e+09   1.94e+10      0.142      0.887   -3.52e+10    4.07e+10\n",
       "Fuel_Type_CNG              6.427e+11   4.52e+12      0.142      0.887   -8.22e+12     9.5e+12\n",
       "Fuel_Type_Diesel           6.427e+11   4.52e+12      0.142      0.887   -8.22e+12     9.5e+12\n",
       "Fuel_Type_Electric         6.427e+11   4.52e+12      0.142      0.887   -8.22e+12     9.5e+12\n",
       "Fuel_Type_LPG              6.427e+11   4.52e+12      0.142      0.887   -8.22e+12     9.5e+12\n",
       "Fuel_Type_Petrol           6.427e+11   4.52e+12      0.142      0.887   -8.22e+12     9.5e+12\n",
       "Transmission_Automatic    -7.738e+11   5.44e+12     -0.142      0.887   -1.14e+13    9.89e+12\n",
       "Transmission_Manual       -7.738e+11   5.44e+12     -0.142      0.887   -1.14e+13    9.89e+12\n",
       "Owner_Type_First            -3.1e+11   2.18e+12     -0.142      0.887   -4.58e+12    3.96e+12\n",
       "Owner_Type_Fourth & Above   -3.1e+11   2.18e+12     -0.142      0.887   -4.58e+12    3.96e+12\n",
       "Owner_Type_Second           -3.1e+11   2.18e+12     -0.142      0.887   -4.58e+12    3.96e+12\n",
       "Owner_Type_Third            -3.1e+11   2.18e+12     -0.142      0.887   -4.58e+12    3.96e+12\n",
       "==============================================================================\n",
       "Omnibus:                      519.272   Durbin-Watson:                   1.988\n",
       "Prob(Omnibus):                  0.000   Jarque-Bera (JB):             1711.176\n",
       "Skew:                           0.702   Prob(JB):                         0.00\n",
       "Kurtosis:                       6.014   Cond. No.                     1.17e+16\n",
       "==============================================================================\n",
       "\n",
       "Notes:\n",
       "[1] Standard Errors assume that the covariance matrix of the errors is correctly specified.\n",
       "[2] The smallest eigenvalue is 1.05e-28. This might indicate that there are\n",
       "strong multicollinearity problems or that the design matrix is singular.\n",
       "\"\"\""
      ]
     },
     "metadata": {},
     "output_type": "display_data"
    },
    {
     "name": "stdout",
     "output_type": "stream",
     "text": [
      "Test RMSE:  8.42987640686407\n"
     ]
    }
   ],
   "source": [
    "# fit the model\n",
    "X = sm.add_constant(X_train_1)\n",
    "y = y_train_1.reset_index(drop=True)\n",
    "lr = sm.OLS(y, X).fit()\n",
    "\n",
    "display(lr.summary())\n",
    "\n",
    "# predict the model\n",
    "X = X_test_1\n",
    "X = sm.add_constant(X)\n",
    "tst_pred = lr.predict(X)\n",
    "print('Test RMSE: ', mean_squared_error(y_test, tst_pred, squared=False))"
   ]
  },
  {
   "cell_type": "code",
   "execution_count": 23,
   "metadata": {},
   "outputs": [
    {
     "name": "stderr",
     "output_type": "stream",
     "text": [
      "/Library/Frameworks/Python.framework/Versions/3.10/lib/python3.10/site-packages/seaborn/_decorators.py:36: FutureWarning: Pass the following variables as keyword args: x, y. From version 0.12, the only valid positional argument will be `data`, and passing other arguments without an explicit keyword will result in an error or misinterpretation.\n",
      "  warnings.warn(\n"
     ]
    },
    {
     "data": {
      "image/png": "[encoded data removed]",
      "text/plain": [
       "<Figure size 432x288 with 1 Axes>"
      ]
     },
     "metadata": {
      "needs_background": "light"
     },
     "output_type": "display_data"
    }
   ],
   "source": [
    "# prediction plot\n",
    "sns.scatterplot(tst_pred, y_test['Price'])\n",
    "plt.xlabel(\"Predicted price\")\n",
    "plt.ylabel(\"Actual price\")\n",
    "plt.show();"
   ]
  },
  {
   "cell_type": "markdown",
   "metadata": {},
   "source": [
    "### 3. Model fitting improvement \n",
    "- Changing the outlier cutoff to be 3 IQR\n",
    "- Log scaling on the target variable\n",
    "- Recode cities into two zones high and low GDP"
   ]
  },
  {
   "cell_type": "code",
   "execution_count": 24,
   "metadata": {},
   "outputs": [],
   "source": [
    "high_gdp = ['Coimbatore', 'Mumbai', 'Pune']\n",
    "medium_gdp = ['Ahmedabad', 'Bangalore', 'Chennai', 'Delhi', 'Hyderabad']\n",
    "low_gdp = ['Jaipur', 'Kochi', 'Kolkata']"
   ]
  },
  {
   "cell_type": "code",
   "execution_count": 25,
   "metadata": {},
   "outputs": [
    {
     "name": "stdout",
     "output_type": "stream",
     "text": [
      "Lower limit:  -15.700000000000003\n",
      "Upper limit:  29.1\n",
      "<class 'pandas.core.frame.DataFrame'>\n",
      "RangeIndex: 3950 entries, 0 to 3949\n",
      "Data columns (total 20 columns):\n",
      " #   Column                     Non-Null Count  Dtype  \n",
      "---  ------                     --------------  -----  \n",
      " 0   Kilometers_Driven          3950 non-null   float64\n",
      " 1   Mileage                    3950 non-null   float64\n",
      " 2   Engine                     3950 non-null   float64\n",
      " 3   Power                      3950 non-null   float64\n",
      " 4   Seats                      3950 non-null   float64\n",
      " 5   Age                        3950 non-null   float64\n",
      " 6   GDP_High                   3950 non-null   float64\n",
      " 7   GDP_Low                    3950 non-null   float64\n",
      " 8   GDP_Medium                 3950 non-null   float64\n",
      " 9   Fuel_Type_CNG              3950 non-null   float64\n",
      " 10  Fuel_Type_Diesel           3950 non-null   float64\n",
      " 11  Fuel_Type_Electric         3950 non-null   float64\n",
      " 12  Fuel_Type_LPG              3950 non-null   float64\n",
      " 13  Fuel_Type_Petrol           3950 non-null   float64\n",
      " 14  Transmission_Automatic     3950 non-null   float64\n",
      " 15  Transmission_Manual        3950 non-null   float64\n",
      " 16  Owner_Type_First           3950 non-null   float64\n",
      " 17  Owner_Type_Fourth & Above  3950 non-null   float64\n",
      " 18  Owner_Type_Second          3950 non-null   float64\n",
      " 19  Owner_Type_Third           3950 non-null   float64\n",
      "dtypes: float64(20)\n",
      "memory usage: 617.3 KB\n"
     ]
    }
   ],
   "source": [
    "X_train_2 = X_train.copy()\n",
    "\n",
    "# outliers removal \n",
    "outlier_indices, lower_limit, upper_limit = tukeys_method(y_train, 'Price', 3.0)\n",
    "print('Lower limit: ', lower_limit)\n",
    "print('Upper limit: ', upper_limit)\n",
    "\n",
    "y_train_ul = y_train[y_train['Price']>upper_limit]\n",
    "X_train_2 = X_train_2.drop(index=y_train_ul.index)\n",
    "y_train_2 = y_train.drop(index=y_train_ul.index)\n",
    "\n",
    "# missing data treatment\n",
    "X_train_2['Mileage'] = X_train_2['Mileage'].fillna(X_train_2['Mileage'].mean())\n",
    "X_train_2['Engine'] = X_train_2['Engine'].fillna(X_train_2['Engine'].median())\n",
    "X_train_2['Seats'] = X_train_2['Seats'].fillna(int(X_train_2['Seats'].mode()))\n",
    "\n",
    "# year transformation\n",
    "X_train_2['Age'] = 2021 - X_train_2['Year']\n",
    "X_train_2 = X_train_2.drop(columns=['Year'])\n",
    "\n",
    "# categorical encoding\n",
    "X_train_2['GDP'] = np.where(X_train_2['Location'].isin(high_gdp), 'High',\n",
    "                   np.where(X_train_2['Location'].isin(medium_gdp), 'Medium', 'Low'))\n",
    "Location_enc = pd.get_dummies(X_train_2[['GDP']])\n",
    "Fuel_Type_enc = pd.get_dummies(X_train_2[['Fuel_Type']])\n",
    "Transmission_enc = pd.get_dummies(X_train_2[['Transmission']])\n",
    "Owner_Type_enc = pd.get_dummies(X_train_2[['Owner_Type']])\n",
    "X_train_2 = X_train_2.drop(columns=['Location', 'GDP', 'Fuel_Type', 'Transmission', 'Owner_Type'])\n",
    "X_train_2 = pd.concat([X_train_2, Location_enc, Fuel_Type_enc, Transmission_enc, Owner_Type_enc], axis=1)\n",
    "\n",
    "# define data to be scaled \n",
    "x = X_train_2.drop(columns=['Name'])\n",
    "\n",
    "scaler = MinMaxScaler() # instantiate the scaler\n",
    "scaler_fit = scaler.fit(x) # fit the scaler on the data\n",
    "x_sc = scaler_fit.transform(x) # tranform the data using the fitted scaler\n",
    "X_train_2 = pd.DataFrame(x_sc, columns=x.columns)\n",
    "X_train_2.info()"
   ]
  },
  {
   "cell_type": "code",
   "execution_count": 26,
   "metadata": {},
   "outputs": [
    {
     "name": "stdout",
     "output_type": "stream",
     "text": [
      "<class 'pandas.core.frame.DataFrame'>\n",
      "RangeIndex: 1806 entries, 0 to 1805\n",
      "Data columns (total 20 columns):\n",
      " #   Column                     Non-Null Count  Dtype  \n",
      "---  ------                     --------------  -----  \n",
      " 0   Kilometers_Driven          1806 non-null   float64\n",
      " 1   Mileage                    1806 non-null   float64\n",
      " 2   Engine                     1806 non-null   float64\n",
      " 3   Power                      1806 non-null   float64\n",
      " 4   Seats                      1806 non-null   float64\n",
      " 5   Age                        1806 non-null   float64\n",
      " 6   GDP_High                   1806 non-null   float64\n",
      " 7   GDP_Low                    1806 non-null   float64\n",
      " 8   GDP_Medium                 1806 non-null   float64\n",
      " 9   Fuel_Type_CNG              1806 non-null   float64\n",
      " 10  Fuel_Type_Diesel           1806 non-null   float64\n",
      " 11  Fuel_Type_Electric         1806 non-null   float64\n",
      " 12  Fuel_Type_LPG              1806 non-null   float64\n",
      " 13  Fuel_Type_Petrol           1806 non-null   float64\n",
      " 14  Transmission_Automatic     1806 non-null   float64\n",
      " 15  Transmission_Manual        1806 non-null   float64\n",
      " 16  Owner_Type_First           1806 non-null   float64\n",
      " 17  Owner_Type_Fourth & Above  1806 non-null   float64\n",
      " 18  Owner_Type_Second          1806 non-null   float64\n",
      " 19  Owner_Type_Third           1806 non-null   float64\n",
      "dtypes: float64(20)\n",
      "memory usage: 282.3 KB\n"
     ]
    }
   ],
   "source": [
    "X_test_2 = X_test.copy()\n",
    "## missing data imputation\n",
    "X_test_2['Mileage'] = X_test_2['Mileage'].fillna(X_test_2['Mileage'].mean())\n",
    "X_test_2['Engine'] = X_test_2['Engine'].fillna(X_test_2['Engine'].median())\n",
    "X_test_2['Seats'] = X_test_2['Seats'].fillna(int(X_test_2['Seats'].mode()))\n",
    "\n",
    "## year to age transformation\n",
    "X_test_2['Age'] = 2021 - X_test_2['Year']\n",
    "X_test_2 = X_test_2.drop(columns=['Year'])\n",
    "\n",
    "## categorical transformation\n",
    "# categorical encoding\n",
    "X_test_2['GDP'] = np.where(X_test_2['Location'].isin(high_gdp), 'High',\n",
    "                   np.where(X_test_2['Location'].isin(medium_gdp), 'Medium', 'Low'))\n",
    "Location_enc = pd.get_dummies(X_test_2[['GDP']])\n",
    "Fuel_Type_enc = pd.get_dummies(X_test_2[['Fuel_Type']])\n",
    "Transmission_enc = pd.get_dummies(X_test_2[['Transmission']])\n",
    "Owner_Type_enc = pd.get_dummies(X_test_2[['Owner_Type']])\n",
    "\n",
    "# adding them back the test data \n",
    "X_test_2 = X_test_2.drop(columns=['Location', 'GDP', 'Fuel_Type', 'Transmission', 'Owner_Type'])\n",
    "X_test_2 = pd.concat([X_test_2, Location_enc, Fuel_Type_enc, Transmission_enc, Owner_Type_enc], axis=1)\n",
    "\n",
    "## min-max scaling\n",
    "# define data to be scaled \n",
    "x = X_test_2.drop(columns=['Name'])\n",
    "X_test_2_sc = scaler_fit.transform(x) # tranform the data using the fitted scaler\n",
    "X_test_2 = pd.DataFrame(X_test_2_sc, columns=x.columns)\n",
    "X_test_2.info()"
   ]
  },
  {
   "cell_type": "code",
   "execution_count": 27,
   "metadata": {},
   "outputs": [
    {
     "data": {
      "text/html": [
       "<table class=\"simpletable\">\n",
       "<caption>OLS Regression Results</caption>\n",
       "<tr>\n",
       "  <th>Dep. Variable:</th>          <td>Price</td>      <th>  R-squared:         </th> <td>   0.832</td>\n",
       "</tr>\n",
       "<tr>\n",
       "  <th>Model:</th>                   <td>OLS</td>       <th>  Adj. R-squared:    </th> <td>   0.832</td>\n",
       "</tr>\n",
       "<tr>\n",
       "  <th>Method:</th>             <td>Least Squares</td>  <th>  F-statistic:       </th> <td>   1219.</td>\n",
       "</tr>\n",
       "<tr>\n",
       "  <th>Date:</th>             <td>Wed, 27 Jul 2022</td> <th>  Prob (F-statistic):</th>  <td>  0.00</td> \n",
       "</tr>\n",
       "<tr>\n",
       "  <th>Time:</th>                 <td>16:35:22</td>     <th>  Log-Likelihood:    </th> <td> -860.11</td>\n",
       "</tr>\n",
       "<tr>\n",
       "  <th>No. Observations:</th>      <td>  3950</td>      <th>  AIC:               </th> <td>   1754.</td>\n",
       "</tr>\n",
       "<tr>\n",
       "  <th>Df Residuals:</th>          <td>  3933</td>      <th>  BIC:               </th> <td>   1861.</td>\n",
       "</tr>\n",
       "<tr>\n",
       "  <th>Df Model:</th>              <td>    16</td>      <th>                     </th>     <td> </td>   \n",
       "</tr>\n",
       "<tr>\n",
       "  <th>Covariance Type:</th>      <td>nonrobust</td>    <th>                     </th>     <td> </td>   \n",
       "</tr>\n",
       "</table>\n",
       "<table class=\"simpletable\">\n",
       "<tr>\n",
       "              <td></td>                 <th>coef</th>     <th>std err</th>      <th>t</th>      <th>P>|t|</th>  <th>[0.025</th>    <th>0.975]</th>  \n",
       "</tr>\n",
       "<tr>\n",
       "  <th>const</th>                     <td>-2.244e+10</td> <td> 4.57e+11</td> <td>   -0.049</td> <td> 0.961</td> <td>-9.19e+11</td> <td> 8.74e+11</td>\n",
       "</tr>\n",
       "<tr>\n",
       "  <th>Kilometers_Driven</th>         <td>   -0.7313</td> <td>    0.115</td> <td>   -6.362</td> <td> 0.000</td> <td>   -0.957</td> <td>   -0.506</td>\n",
       "</tr>\n",
       "<tr>\n",
       "  <th>Mileage</th>                   <td>   -0.7221</td> <td>    0.061</td> <td>  -11.766</td> <td> 0.000</td> <td>   -0.842</td> <td>   -0.602</td>\n",
       "</tr>\n",
       "<tr>\n",
       "  <th>Engine</th>                    <td>    1.3882</td> <td>    0.103</td> <td>   13.436</td> <td> 0.000</td> <td>    1.186</td> <td>    1.591</td>\n",
       "</tr>\n",
       "<tr>\n",
       "  <th>Power</th>                     <td>    2.2649</td> <td>    0.094</td> <td>   24.116</td> <td> 0.000</td> <td>    2.081</td> <td>    2.449</td>\n",
       "</tr>\n",
       "<tr>\n",
       "  <th>Seats</th>                     <td>   -0.3110</td> <td>    0.084</td> <td>   -3.720</td> <td> 0.000</td> <td>   -0.475</td> <td>   -0.147</td>\n",
       "</tr>\n",
       "<tr>\n",
       "  <th>Age</th>                       <td>   -2.5118</td> <td>    0.041</td> <td>  -61.473</td> <td> 0.000</td> <td>   -2.592</td> <td>   -2.432</td>\n",
       "</tr>\n",
       "<tr>\n",
       "  <th>GDP_High</th>                  <td>-5.213e+09</td> <td> 1.06e+11</td> <td>   -0.049</td> <td> 0.961</td> <td>-2.13e+11</td> <td> 2.03e+11</td>\n",
       "</tr>\n",
       "<tr>\n",
       "  <th>GDP_Low</th>                   <td>-5.213e+09</td> <td> 1.06e+11</td> <td>   -0.049</td> <td> 0.961</td> <td>-2.13e+11</td> <td> 2.03e+11</td>\n",
       "</tr>\n",
       "<tr>\n",
       "  <th>GDP_Medium</th>                <td>-5.213e+09</td> <td> 1.06e+11</td> <td>   -0.049</td> <td> 0.961</td> <td>-2.13e+11</td> <td> 2.03e+11</td>\n",
       "</tr>\n",
       "<tr>\n",
       "  <th>Fuel_Type_CNG</th>             <td>-1.814e+10</td> <td> 3.69e+11</td> <td>   -0.049</td> <td> 0.961</td> <td>-7.42e+11</td> <td> 7.06e+11</td>\n",
       "</tr>\n",
       "<tr>\n",
       "  <th>Fuel_Type_Diesel</th>          <td>-1.814e+10</td> <td> 3.69e+11</td> <td>   -0.049</td> <td> 0.961</td> <td>-7.42e+11</td> <td> 7.06e+11</td>\n",
       "</tr>\n",
       "<tr>\n",
       "  <th>Fuel_Type_Electric</th>        <td>-1.814e+10</td> <td> 3.69e+11</td> <td>   -0.049</td> <td> 0.961</td> <td>-7.42e+11</td> <td> 7.06e+11</td>\n",
       "</tr>\n",
       "<tr>\n",
       "  <th>Fuel_Type_LPG</th>             <td>-1.814e+10</td> <td> 3.69e+11</td> <td>   -0.049</td> <td> 0.961</td> <td>-7.42e+11</td> <td> 7.06e+11</td>\n",
       "</tr>\n",
       "<tr>\n",
       "  <th>Fuel_Type_Petrol</th>          <td>-1.814e+10</td> <td> 3.69e+11</td> <td>   -0.049</td> <td> 0.961</td> <td>-7.42e+11</td> <td> 7.06e+11</td>\n",
       "</tr>\n",
       "<tr>\n",
       "  <th>Transmission_Automatic</th>    <td> 2.688e+10</td> <td> 5.48e+11</td> <td>    0.049</td> <td> 0.961</td> <td>-1.05e+12</td> <td>  1.1e+12</td>\n",
       "</tr>\n",
       "<tr>\n",
       "  <th>Transmission_Manual</th>       <td> 2.688e+10</td> <td> 5.48e+11</td> <td>    0.049</td> <td> 0.961</td> <td>-1.05e+12</td> <td>  1.1e+12</td>\n",
       "</tr>\n",
       "<tr>\n",
       "  <th>Owner_Type_First</th>          <td> 1.891e+10</td> <td> 3.85e+11</td> <td>    0.049</td> <td> 0.961</td> <td>-7.36e+11</td> <td> 7.74e+11</td>\n",
       "</tr>\n",
       "<tr>\n",
       "  <th>Owner_Type_Fourth & Above</th> <td> 1.891e+10</td> <td> 3.85e+11</td> <td>    0.049</td> <td> 0.961</td> <td>-7.36e+11</td> <td> 7.74e+11</td>\n",
       "</tr>\n",
       "<tr>\n",
       "  <th>Owner_Type_Second</th>         <td> 1.891e+10</td> <td> 3.85e+11</td> <td>    0.049</td> <td> 0.961</td> <td>-7.36e+11</td> <td> 7.74e+11</td>\n",
       "</tr>\n",
       "<tr>\n",
       "  <th>Owner_Type_Third</th>          <td> 1.891e+10</td> <td> 3.85e+11</td> <td>    0.049</td> <td> 0.961</td> <td>-7.36e+11</td> <td> 7.74e+11</td>\n",
       "</tr>\n",
       "</table>\n",
       "<table class=\"simpletable\">\n",
       "<tr>\n",
       "  <th>Omnibus:</th>       <td>316.060</td> <th>  Durbin-Watson:     </th> <td>   2.002</td>\n",
       "</tr>\n",
       "<tr>\n",
       "  <th>Prob(Omnibus):</th> <td> 0.000</td>  <th>  Jarque-Bera (JB):  </th> <td>1692.796</td>\n",
       "</tr>\n",
       "<tr>\n",
       "  <th>Skew:</th>          <td>-0.155</td>  <th>  Prob(JB):          </th> <td>    0.00</td>\n",
       "</tr>\n",
       "<tr>\n",
       "  <th>Kurtosis:</th>      <td> 6.192</td>  <th>  Cond. No.          </th> <td>3.85e+16</td>\n",
       "</tr>\n",
       "</table><br/><br/>Notes:<br/>[1] Standard Errors assume that the covariance matrix of the errors is correctly specified.<br/>[2] The smallest eigenvalue is 1.07e-29. This might indicate that there are<br/>strong multicollinearity problems or that the design matrix is singular."
      ],
      "text/plain": [
       "<class 'statsmodels.iolib.summary.Summary'>\n",
       "\"\"\"\n",
       "                            OLS Regression Results                            \n",
       "==============================================================================\n",
       "Dep. Variable:                  Price   R-squared:                       0.832\n",
       "Model:                            OLS   Adj. R-squared:                  0.832\n",
       "Method:                 Least Squares   F-statistic:                     1219.\n",
       "Date:                Wed, 27 Jul 2022   Prob (F-statistic):               0.00\n",
       "Time:                        16:35:22   Log-Likelihood:                -860.11\n",
       "No. Observations:                3950   AIC:                             1754.\n",
       "Df Residuals:                    3933   BIC:                             1861.\n",
       "Df Model:                          16                                         \n",
       "Covariance Type:            nonrobust                                         \n",
       "=============================================================================================\n",
       "                                coef    std err          t      P>|t|      [0.025      0.975]\n",
       "---------------------------------------------------------------------------------------------\n",
       "const                     -2.244e+10   4.57e+11     -0.049      0.961   -9.19e+11    8.74e+11\n",
       "Kilometers_Driven            -0.7313      0.115     -6.362      0.000      -0.957      -0.506\n",
       "Mileage                      -0.7221      0.061    -11.766      0.000      -0.842      -0.602\n",
       "Engine                        1.3882      0.103     13.436      0.000       1.186       1.591\n",
       "Power                         2.2649      0.094     24.116      0.000       2.081       2.449\n",
       "Seats                        -0.3110      0.084     -3.720      0.000      -0.475      -0.147\n",
       "Age                          -2.5118      0.041    -61.473      0.000      -2.592      -2.432\n",
       "GDP_High                  -5.213e+09   1.06e+11     -0.049      0.961   -2.13e+11    2.03e+11\n",
       "GDP_Low                   -5.213e+09   1.06e+11     -0.049      0.961   -2.13e+11    2.03e+11\n",
       "GDP_Medium                -5.213e+09   1.06e+11     -0.049      0.961   -2.13e+11    2.03e+11\n",
       "Fuel_Type_CNG             -1.814e+10   3.69e+11     -0.049      0.961   -7.42e+11    7.06e+11\n",
       "Fuel_Type_Diesel          -1.814e+10   3.69e+11     -0.049      0.961   -7.42e+11    7.06e+11\n",
       "Fuel_Type_Electric        -1.814e+10   3.69e+11     -0.049      0.961   -7.42e+11    7.06e+11\n",
       "Fuel_Type_LPG             -1.814e+10   3.69e+11     -0.049      0.961   -7.42e+11    7.06e+11\n",
       "Fuel_Type_Petrol          -1.814e+10   3.69e+11     -0.049      0.961   -7.42e+11    7.06e+11\n",
       "Transmission_Automatic     2.688e+10   5.48e+11      0.049      0.961   -1.05e+12     1.1e+12\n",
       "Transmission_Manual        2.688e+10   5.48e+11      0.049      0.961   -1.05e+12     1.1e+12\n",
       "Owner_Type_First           1.891e+10   3.85e+11      0.049      0.961   -7.36e+11    7.74e+11\n",
       "Owner_Type_Fourth & Above  1.891e+10   3.85e+11      0.049      0.961   -7.36e+11    7.74e+11\n",
       "Owner_Type_Second          1.891e+10   3.85e+11      0.049      0.961   -7.36e+11    7.74e+11\n",
       "Owner_Type_Third           1.891e+10   3.85e+11      0.049      0.961   -7.36e+11    7.74e+11\n",
       "==============================================================================\n",
       "Omnibus:                      316.060   Durbin-Watson:                   2.002\n",
       "Prob(Omnibus):                  0.000   Jarque-Bera (JB):             1692.796\n",
       "Skew:                          -0.155   Prob(JB):                         0.00\n",
       "Kurtosis:                       6.192   Cond. No.                     3.85e+16\n",
       "==============================================================================\n",
       "\n",
       "Notes:\n",
       "[1] Standard Errors assume that the covariance matrix of the errors is correctly specified.\n",
       "[2] The smallest eigenvalue is 1.07e-29. This might indicate that there are\n",
       "strong multicollinearity problems or that the design matrix is singular.\n",
       "\"\"\""
      ]
     },
     "metadata": {},
     "output_type": "display_data"
    },
    {
     "name": "stdout",
     "output_type": "stream",
     "text": [
      "Training RMSE:  2.9240962072533256\n",
      "Test RMSE:  6.158684751986951\n"
     ]
    }
   ],
   "source": [
    "# fit the model\n",
    "X = sm.add_constant(X_train_2)\n",
    "y = y_train_2.reset_index(drop=True)\n",
    "y = np.log(y)\n",
    "lr = sm.OLS(y, X).fit()\n",
    "\n",
    "display(lr.summary())\n",
    "\n",
    "lr_trn_pred = lr.predict(X)\n",
    "lr_trn_pred = np.exp(lr_trn_pred)\n",
    "print('Training RMSE: ', mean_squared_error(y_train_2, lr_trn_pred, squared=False))\n",
    "\n",
    "# predict the model\n",
    "x = X_test_2\n",
    "X = sm.add_constant(x)\n",
    "tst_pred = lr.predict(X)\n",
    "print('Test RMSE: ', mean_squared_error(y_test, np.exp(tst_pred), squared=False))"
   ]
  },
  {
   "cell_type": "code",
   "execution_count": 28,
   "metadata": {},
   "outputs": [
    {
     "data": {
      "text/plain": [
       "<AxesSubplot:ylabel='Price'>"
      ]
     },
     "execution_count": 28,
     "metadata": {},
     "output_type": "execute_result"
    },
    {
     "data": {
      "image/png": "[encoded data removed]",
      "text/plain": [
       "<Figure size 432x288 with 1 Axes>"
      ]
     },
     "metadata": {
      "needs_background": "light"
     },
     "output_type": "display_data"
    }
   ],
   "source": [
    "sns.scatterplot(x=np.exp(tst_pred), y=y_test['Price'])"
   ]
  },
  {
   "cell_type": "markdown",
   "metadata": {},
   "source": [
    "### 4. Reduce overfitting - Regularization \n",
    "- Regularization means adding a term (penalty) to the regression formula. \n",
    "- Addtionally, regularization could be also used as a feature selection technique. \n",
    "- We will be demonstrating lasso regression, which adding the sum squared of coefficient to the model."
   ]
  },
  {
   "cell_type": "markdown",
   "metadata": {},
   "source": [
    "#### 4.1 Demo: Ridge regression with parameter tuning"
   ]
  },
  {
   "cell_type": "code",
   "execution_count": null,
   "metadata": {},
   "outputs": [],
   "source": [
    "from sklearn.linear_model import Ridge\n",
    "\n",
    "X = X_train_2\n",
    "y = y_train_2.reset_index(drop=True)\n",
    "\n",
    "model_ridge = Ridge(alpha=100)\n",
    "model_ridge.fit(X, y)\n",
    "\n",
    "train_pred = model_ridge.predict(X_train_2)\n",
    "print('Training RMSE: ', mean_squared_error(y_train_2, train_pred, squared=False))\n",
    "\n",
    "pred =  model_ridge.predict(X_test_2)\n",
    "print('Test RMSE: ', mean_squared_error(y_test, pred, squared=False))"
   ]
  },
  {
   "cell_type": "markdown",
   "metadata": {},
   "source": [
    "#### 4.2 Excerise: Lasso regression with parameter tuning\n",
    "- import Lasso regression instead of Ridge\n",
    "- Try fitting the model using alpha = 1 and alpha = 1000"
   ]
  },
  {
   "cell_type": "code",
   "execution_count": null,
   "metadata": {},
   "outputs": [],
   "source": [
    "from sklearn.linear_model import Lasso\n",
    "\n",
    "X = X_train_2\n",
    "y = y_train_2.reset_index(drop=True)\n",
    "\n",
    "model_lasso = Lasso(alpha=100)\n",
    "model_lasso.fit(X, y)\n",
    "\n",
    "train_pred = model_lasso.predict(X_train_2)\n",
    "print('Training RMSE: ', mean_squared_error(y_train_2, train_pred, squared=False))\n",
    "\n",
    "pred =  model_lasso.predict(X_test_2)\n",
    "print('Test RMSE: ', mean_squared_error(y_test, pred, squared=False))\n"
   ]
  },
  {
   "cell_type": "markdown",
   "metadata": {},
   "source": [
    "#### 4.3 Demo: Cross validation for ridge regression"
   ]
  },
  {
   "cell_type": "code",
   "execution_count": null,
   "metadata": {},
   "outputs": [],
   "source": [
    "from sklearn.linear_model import RidgeCV \n",
    "\n",
    "X = X_train_2\n",
    "y = y_train_2.reset_index(drop=True)\n",
    "\n",
    "# define cross-validation fold and parameter to be tuned\n",
    "cv = 10\n",
    "alphas = [0.001, 0.005, 0.01, 0.05, 0.1, 0.5, 1, 10, 100, 1000, 1000]\n",
    "\n",
    "# define model\n",
    "model = RidgeCV(alphas=alphas, cv=cv, normalize=False)\n",
    "\n",
    "# fit model\n",
    "model.fit(X, y)\n",
    "\n",
    "# display lambda that produced the lowest test MSE\n",
    "print(model.alpha_)\n",
    "\n",
    "# report training error\n",
    "train_pred = model.predict(X_train_2)\n",
    "print('Training RMSE: ', mean_squared_error(y_train_2, train_pred, squared=False))\n",
    "\n",
    "# report test error\n",
    "pred =  model.predict(X_test_2)\n",
    "print('Test RMSE: ', mean_squared_error(y_test, pred, squared=False))"
   ]
  },
  {
   "cell_type": "code",
   "execution_count": null,
   "metadata": {},
   "outputs": [],
   "source": [
    "results = pd.DataFrame({'Feature Name': X_train_2.columns, \n",
    "                        'Coefficient': model.coef_.ravel()})\n",
    "results.sort_values(by='Coefficient', ascending=False)"
   ]
  },
  {
   "cell_type": "markdown",
   "metadata": {},
   "source": [
    "#### 4.4 Demo: Cross validation for lasso regression"
   ]
  },
  {
   "cell_type": "code",
   "execution_count": null,
   "metadata": {},
   "outputs": [],
   "source": [
    "from sklearn.linear_model import LassoCV \n",
    "\n",
    "X = X_train_2\n",
    "y = y_train_2.reset_index(drop=True)\n",
    "\n",
    "# define cross-validation fold and parameter to be tuned\n",
    "cv = 10\n",
    "alphas = [0.001, 0.005, 0.01, 0.05, 0.1, 0.5, 1, 10, 100, 1000, 1000]\n",
    "\n",
    "# define model\n",
    "model = LassoCV(alphas=alphas, cv=cv, normalize=False)\n",
    "\n",
    "# fit model\n",
    "model.fit(X, y)\n",
    "\n",
    "# display lambda that produced the lowest test MSE\n",
    "print(model.alpha_)\n",
    "\n",
    "# report training error\n",
    "train_pred = model.predict(X_train_2)\n",
    "print('Training RMSE: ', mean_squared_error(y_train_2, train_pred, squared=False))\n",
    "\n",
    "# report test error\n",
    "pred =  model.predict(X_test_2)\n",
    "print('Test RMSE: ', mean_squared_error(y_test, pred, squared=False))"
   ]
  },
  {
   "cell_type": "code",
   "execution_count": null,
   "metadata": {},
   "outputs": [],
   "source": [
    "results = pd.DataFrame({'Feature Name': X_train_2.columns, \n",
    "                        'Coefficient': model.coef_.ravel()})\n",
    "results.sort_values(by='Coefficient', ascending=False)"
   ]
  },
  {
   "cell_type": "code",
   "execution_count": null,
   "metadata": {},
   "outputs": [],
   "source": [
    "sns.regplot(x='Kilometers_Driven', y='Mileage', data=X_train_2)"
   ]
  },
  {
   "cell_type": "code",
   "execution_count": null,
   "metadata": {},
   "outputs": [],
   "source": [
    "sns.regplot(x='Power', y='Mileage', data=X_train_2)"
   ]
  },
  {
   "cell_type": "code",
   "execution_count": null,
   "metadata": {},
   "outputs": [],
   "source": []
  }
 ],
 "metadata": {
  "kernelspec": {
   "display_name": "Python 3.10.4 64-bit",
   "language": "python",
   "name": "python3"
  },
  "language_info": {
   "codemirror_mode": {
    "name": "ipython",
    "version": 3
   },
   "file_extension": ".py",
   "mimetype": "text/x-python",
   "name": "python",
   "nbconvert_exporter": "python",
   "pygments_lexer": "ipython3",
   "version": "3.10.4"
  },
  "vscode": {
   "interpreter": {
    "hash": "aee8b7b246df8f9039afb4144a1f6fd8d2ca17a180786b69acc140d282b71a49"
   }
  }
 },
 "nbformat": 4,
 "nbformat_minor": 4
}
