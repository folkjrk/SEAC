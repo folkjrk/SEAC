{
 "cells": [
  {
   "cell_type": "markdown",
   "metadata": {},
   "source": [
    "## Predictive modelling \n",
    "### Week 4-2: Linear regression with full data processing"
   ]
  },
  {
   "cell_type": "code",
   "execution_count": 3,
   "metadata": {},
   "outputs": [],
   "source": [
    "# libraries\n",
    "import pandas as pd # process dataframe\n",
    "import numpy as np # scientific calculation\n",
    "import seaborn as sns # visualization complete stastistics\n",
    "import matplotlib.pyplot as plt # visualization\n",
    "from sklearn.preprocessing import MinMaxScaler # load scaler from sklearn\n",
    "from sklearn.metrics import mean_squared_error # mse \n",
    "import missingno as msno # miss data visuals\n",
    "\n",
    "import statsmodels.api as sm # statsmodels to build regression model"
   ]
  },
  {
   "cell_type": "markdown",
   "metadata": {},
   "source": [
    "### 0. Dataset and some cleansing job"
   ]
  },
  {
   "cell_type": "code",
   "execution_count": 4,
   "metadata": {},
   "outputs": [
    {
     "data": {
      "text/html": [
       "<div>\n",
       "<style scoped>\n",
       "    .dataframe tbody tr th:only-of-type {\n",
       "        vertical-align: middle;\n",
       "    }\n",
       "\n",
       "    .dataframe tbody tr th {\n",
       "        vertical-align: top;\n",
       "    }\n",
       "\n",
       "    .dataframe thead th {\n",
       "        text-align: right;\n",
       "    }\n",
       "</style>\n",
       "<table border=\"1\" class=\"dataframe\">\n",
       "  <thead>\n",
       "    <tr style=\"text-align: right;\">\n",
       "      <th></th>\n",
       "      <th>Unnamed: 0</th>\n",
       "      <th>Name</th>\n",
       "      <th>Location</th>\n",
       "      <th>Year</th>\n",
       "      <th>Kilometers_Driven</th>\n",
       "      <th>Fuel_Type</th>\n",
       "      <th>Transmission</th>\n",
       "      <th>Owner_Type</th>\n",
       "      <th>Mileage</th>\n",
       "      <th>Engine</th>\n",
       "      <th>Power</th>\n",
       "      <th>Seats</th>\n",
       "      <th>New_Price</th>\n",
       "      <th>Price</th>\n",
       "    </tr>\n",
       "  </thead>\n",
       "  <tbody>\n",
       "    <tr>\n",
       "      <th>0</th>\n",
       "      <td>0</td>\n",
       "      <td>Maruti Wagon R LXI CNG</td>\n",
       "      <td>Mumbai</td>\n",
       "      <td>2010</td>\n",
       "      <td>72000</td>\n",
       "      <td>CNG</td>\n",
       "      <td>Manual</td>\n",
       "      <td>First</td>\n",
       "      <td>26.6 km/kg</td>\n",
       "      <td>998 CC</td>\n",
       "      <td>58.16 bhp</td>\n",
       "      <td>5.0</td>\n",
       "      <td>NaN</td>\n",
       "      <td>1.75</td>\n",
       "    </tr>\n",
       "    <tr>\n",
       "      <th>1</th>\n",
       "      <td>1</td>\n",
       "      <td>Hyundai Creta 1.6 CRDi SX Option</td>\n",
       "      <td>Pune</td>\n",
       "      <td>2015</td>\n",
       "      <td>41000</td>\n",
       "      <td>Diesel</td>\n",
       "      <td>Manual</td>\n",
       "      <td>First</td>\n",
       "      <td>19.67 kmpl</td>\n",
       "      <td>1582 CC</td>\n",
       "      <td>126.2 bhp</td>\n",
       "      <td>5.0</td>\n",
       "      <td>NaN</td>\n",
       "      <td>12.50</td>\n",
       "    </tr>\n",
       "    <tr>\n",
       "      <th>2</th>\n",
       "      <td>2</td>\n",
       "      <td>Honda Jazz V</td>\n",
       "      <td>Chennai</td>\n",
       "      <td>2011</td>\n",
       "      <td>46000</td>\n",
       "      <td>Petrol</td>\n",
       "      <td>Manual</td>\n",
       "      <td>First</td>\n",
       "      <td>18.2 kmpl</td>\n",
       "      <td>1199 CC</td>\n",
       "      <td>88.7 bhp</td>\n",
       "      <td>5.0</td>\n",
       "      <td>8.61 Lakh</td>\n",
       "      <td>4.50</td>\n",
       "    </tr>\n",
       "    <tr>\n",
       "      <th>3</th>\n",
       "      <td>3</td>\n",
       "      <td>Maruti Ertiga VDI</td>\n",
       "      <td>Chennai</td>\n",
       "      <td>2012</td>\n",
       "      <td>87000</td>\n",
       "      <td>Diesel</td>\n",
       "      <td>Manual</td>\n",
       "      <td>First</td>\n",
       "      <td>20.77 kmpl</td>\n",
       "      <td>1248 CC</td>\n",
       "      <td>88.76 bhp</td>\n",
       "      <td>7.0</td>\n",
       "      <td>NaN</td>\n",
       "      <td>6.00</td>\n",
       "    </tr>\n",
       "    <tr>\n",
       "      <th>4</th>\n",
       "      <td>4</td>\n",
       "      <td>Audi A4 New 2.0 TDI Multitronic</td>\n",
       "      <td>Coimbatore</td>\n",
       "      <td>2013</td>\n",
       "      <td>40670</td>\n",
       "      <td>Diesel</td>\n",
       "      <td>Automatic</td>\n",
       "      <td>Second</td>\n",
       "      <td>15.2 kmpl</td>\n",
       "      <td>1968 CC</td>\n",
       "      <td>140.8 bhp</td>\n",
       "      <td>5.0</td>\n",
       "      <td>NaN</td>\n",
       "      <td>17.74</td>\n",
       "    </tr>\n",
       "  </tbody>\n",
       "</table>\n",
       "</div>"
      ],
      "text/plain": [
       "   Unnamed: 0                              Name    Location  Year  \\\n",
       "0           0            Maruti Wagon R LXI CNG      Mumbai  2010   \n",
       "1           1  Hyundai Creta 1.6 CRDi SX Option        Pune  2015   \n",
       "2           2                      Honda Jazz V     Chennai  2011   \n",
       "3           3                 Maruti Ertiga VDI     Chennai  2012   \n",
       "4           4   Audi A4 New 2.0 TDI Multitronic  Coimbatore  2013   \n",
       "\n",
       "   Kilometers_Driven Fuel_Type Transmission Owner_Type     Mileage   Engine  \\\n",
       "0              72000       CNG       Manual      First  26.6 km/kg   998 CC   \n",
       "1              41000    Diesel       Manual      First  19.67 kmpl  1582 CC   \n",
       "2              46000    Petrol       Manual      First   18.2 kmpl  1199 CC   \n",
       "3              87000    Diesel       Manual      First  20.77 kmpl  1248 CC   \n",
       "4              40670    Diesel    Automatic     Second   15.2 kmpl  1968 CC   \n",
       "\n",
       "       Power  Seats  New_Price  Price  \n",
       "0  58.16 bhp    5.0        NaN   1.75  \n",
       "1  126.2 bhp    5.0        NaN  12.50  \n",
       "2   88.7 bhp    5.0  8.61 Lakh   4.50  \n",
       "3  88.76 bhp    7.0        NaN   6.00  \n",
       "4  140.8 bhp    5.0        NaN  17.74  "
      ]
     },
     "execution_count": 4,
     "metadata": {},
     "output_type": "execute_result"
    }
   ],
   "source": [
    "data = pd.read_csv('../cars_dataset/train-data.csv')\n",
    "data.head()"
   ]
  },
  {
   "cell_type": "code",
   "execution_count": 5,
   "metadata": {},
   "outputs": [
    {
     "data": {
      "text/html": [
       "<div>\n",
       "<style scoped>\n",
       "    .dataframe tbody tr th:only-of-type {\n",
       "        vertical-align: middle;\n",
       "    }\n",
       "\n",
       "    .dataframe tbody tr th {\n",
       "        vertical-align: top;\n",
       "    }\n",
       "\n",
       "    .dataframe thead th {\n",
       "        text-align: right;\n",
       "    }\n",
       "</style>\n",
       "<table border=\"1\" class=\"dataframe\">\n",
       "  <thead>\n",
       "    <tr style=\"text-align: right;\">\n",
       "      <th></th>\n",
       "      <th>Name</th>\n",
       "      <th>Location</th>\n",
       "      <th>Year</th>\n",
       "      <th>Kilometers_Driven</th>\n",
       "      <th>Fuel_Type</th>\n",
       "      <th>Transmission</th>\n",
       "      <th>Owner_Type</th>\n",
       "      <th>Mileage</th>\n",
       "      <th>Engine</th>\n",
       "      <th>Power</th>\n",
       "      <th>Seats</th>\n",
       "      <th>Price</th>\n",
       "    </tr>\n",
       "  </thead>\n",
       "  <tbody>\n",
       "    <tr>\n",
       "      <th>0</th>\n",
       "      <td>Maruti Wagon R LXI CNG</td>\n",
       "      <td>Mumbai</td>\n",
       "      <td>2010</td>\n",
       "      <td>72000</td>\n",
       "      <td>CNG</td>\n",
       "      <td>Manual</td>\n",
       "      <td>First</td>\n",
       "      <td>26.60</td>\n",
       "      <td>998.0</td>\n",
       "      <td>58.16</td>\n",
       "      <td>5.0</td>\n",
       "      <td>1.75</td>\n",
       "    </tr>\n",
       "    <tr>\n",
       "      <th>1</th>\n",
       "      <td>Hyundai Creta 1.6 CRDi SX Option</td>\n",
       "      <td>Pune</td>\n",
       "      <td>2015</td>\n",
       "      <td>41000</td>\n",
       "      <td>Diesel</td>\n",
       "      <td>Manual</td>\n",
       "      <td>First</td>\n",
       "      <td>19.67</td>\n",
       "      <td>1582.0</td>\n",
       "      <td>126.20</td>\n",
       "      <td>5.0</td>\n",
       "      <td>12.50</td>\n",
       "    </tr>\n",
       "    <tr>\n",
       "      <th>2</th>\n",
       "      <td>Honda Jazz V</td>\n",
       "      <td>Chennai</td>\n",
       "      <td>2011</td>\n",
       "      <td>46000</td>\n",
       "      <td>Petrol</td>\n",
       "      <td>Manual</td>\n",
       "      <td>First</td>\n",
       "      <td>18.20</td>\n",
       "      <td>1199.0</td>\n",
       "      <td>88.70</td>\n",
       "      <td>5.0</td>\n",
       "      <td>4.50</td>\n",
       "    </tr>\n",
       "    <tr>\n",
       "      <th>3</th>\n",
       "      <td>Maruti Ertiga VDI</td>\n",
       "      <td>Chennai</td>\n",
       "      <td>2012</td>\n",
       "      <td>87000</td>\n",
       "      <td>Diesel</td>\n",
       "      <td>Manual</td>\n",
       "      <td>First</td>\n",
       "      <td>20.77</td>\n",
       "      <td>1248.0</td>\n",
       "      <td>88.76</td>\n",
       "      <td>7.0</td>\n",
       "      <td>6.00</td>\n",
       "    </tr>\n",
       "    <tr>\n",
       "      <th>4</th>\n",
       "      <td>Audi A4 New 2.0 TDI Multitronic</td>\n",
       "      <td>Coimbatore</td>\n",
       "      <td>2013</td>\n",
       "      <td>40670</td>\n",
       "      <td>Diesel</td>\n",
       "      <td>Automatic</td>\n",
       "      <td>Second</td>\n",
       "      <td>15.20</td>\n",
       "      <td>1968.0</td>\n",
       "      <td>140.80</td>\n",
       "      <td>5.0</td>\n",
       "      <td>17.74</td>\n",
       "    </tr>\n",
       "  </tbody>\n",
       "</table>\n",
       "</div>"
      ],
      "text/plain": [
       "                               Name    Location  Year  Kilometers_Driven  \\\n",
       "0            Maruti Wagon R LXI CNG      Mumbai  2010              72000   \n",
       "1  Hyundai Creta 1.6 CRDi SX Option        Pune  2015              41000   \n",
       "2                      Honda Jazz V     Chennai  2011              46000   \n",
       "3                 Maruti Ertiga VDI     Chennai  2012              87000   \n",
       "4   Audi A4 New 2.0 TDI Multitronic  Coimbatore  2013              40670   \n",
       "\n",
       "  Fuel_Type Transmission Owner_Type  Mileage  Engine   Power  Seats  Price  \n",
       "0       CNG       Manual      First    26.60   998.0   58.16    5.0   1.75  \n",
       "1    Diesel       Manual      First    19.67  1582.0  126.20    5.0  12.50  \n",
       "2    Petrol       Manual      First    18.20  1199.0   88.70    5.0   4.50  \n",
       "3    Diesel       Manual      First    20.77  1248.0   88.76    7.0   6.00  \n",
       "4    Diesel    Automatic     Second    15.20  1968.0  140.80    5.0  17.74  "
      ]
     },
     "execution_count": 5,
     "metadata": {},
     "output_type": "execute_result"
    }
   ],
   "source": [
    "train_0 = data.drop(columns=['Unnamed: 0', 'New_Price'])\n",
    "\n",
    "## Strings to float transformation\n",
    "train_0['Mileage'] = train_0['Mileage']\\\n",
    "    .str.replace('km/kg','').str.replace('kmpl','').astype(float)\n",
    "train_0['Engine'] = train_0['Engine'].str.replace('CC','').astype(float)\n",
    "train_0['Power'] = train_0['Power']\\\n",
    "    .str.replace('bhp','').str.replace('null', '0').fillna('0').astype(float)\n",
    "\n",
    "train_0.head()"
   ]
  },
  {
   "cell_type": "markdown",
   "metadata": {},
   "source": [
    "### 1. Train-test split"
   ]
  },
  {
   "cell_type": "code",
   "execution_count": 6,
   "metadata": {},
   "outputs": [
    {
     "name": "stdout",
     "output_type": "stream",
     "text": [
      "Training set size:  4213\n",
      "Test set size:  1806\n"
     ]
    }
   ],
   "source": [
    "from sklearn.model_selection import train_test_split \n",
    "\n",
    "# perform train test split \n",
    "X_all = train_0.drop(columns=['Price'])\n",
    "y_all = train_0[['Price']]\n",
    "\n",
    "X_train, X_test, y_train, y_test = train_test_split(X_all, y_all, \n",
    "                                                    test_size=0.3, \n",
    "                                                    random_state=42)\n",
    "\n",
    "# check data size \n",
    "print('Training set size: ', len(X_train)) # 70% of total data\n",
    "print('Test set size: ', len(X_test)) # 30% of total data"
   ]
  },
  {
   "cell_type": "markdown",
   "metadata": {},
   "source": [
    "### 2. Check for outliers"
   ]
  },
  {
   "cell_type": "code",
   "execution_count": 7,
   "metadata": {},
   "outputs": [],
   "source": [
    "#Tukey's method\n",
    "def tukeys_method(df, variable):\n",
    "    #Takes two parameters: dataframe & variable of interest as string\n",
    "    q1 = df[variable].quantile(0.25)\n",
    "    q3 = df[variable].quantile(0.75)\n",
    "    iqr = q3-q1\n",
    "    inner_fence = 1.5*iqr\n",
    "    \n",
    "    #inner fence lower and upper end\n",
    "    inner_fence_le = q1-inner_fence\n",
    "    inner_fence_ue = q3+inner_fence\n",
    "    \n",
    "    outliers_poss = []\n",
    "    \n",
    "    for index, x in enumerate(df[variable]):\n",
    "        if x <= inner_fence_le or x >= inner_fence_ue:\n",
    "            outliers_poss.append(index)\n",
    "    return outliers_poss, inner_fence_le, inner_fence_ue "
   ]
  },
  {
   "cell_type": "code",
   "execution_count": 8,
   "metadata": {},
   "outputs": [
    {
     "data": {
      "image/png": "[encoded data removed]",
      "text/plain": [
       "<Figure size 432x288 with 1 Axes>"
      ]
     },
     "metadata": {
      "needs_background": "light"
     },
     "output_type": "display_data"
    }
   ],
   "source": [
    "sns.boxplot(y=y_train['Price']);"
   ]
  },
  {
   "cell_type": "code",
   "execution_count": 9,
   "metadata": {},
   "outputs": [
    {
     "name": "stdout",
     "output_type": "stream",
     "text": [
      "The outlier index in the dataframe:  [5, 8, 15, 38, 43, 59, 77, 78, 85, 106, 110, 117, 119, 133, 152, 153, 162, 173, 182, 185, 192, 193, 196, 197, 209, 211, 216, 225, 235, 236, 240, 245, 246, 247, 251, 252, 270, 275, 277, 292, 296, 314, 328, 332, 340, 353, 358, 362, 363, 366, 374, 378, 387, 391, 394, 398, 407, 415, 417, 427, 432, 436, 439, 446, 457, 466, 478, 496, 497, 527, 533, 536, 547, 587, 599, 601, 603, 616, 617, 621, 628, 654, 672, 687, 688, 702, 706, 728, 738, 762, 767, 774, 776, 781, 787, 788, 794, 796, 797, 804, 807, 817, 821, 849, 883, 885, 905, 921, 922, 949, 958, 966, 972, 973, 996, 998, 1011, 1017, 1023, 1024, 1027, 1028, 1039, 1050, 1054, 1061, 1063, 1079, 1083, 1088, 1092, 1094, 1098, 1105, 1114, 1146, 1157, 1164, 1166, 1167, 1173, 1174, 1177, 1183, 1184, 1192, 1203, 1205, 1213, 1236, 1248, 1256, 1262, 1273, 1291, 1297, 1300, 1305, 1310, 1346, 1352, 1384, 1393, 1394, 1403, 1427, 1429, 1444, 1462, 1469, 1474, 1475, 1479, 1483, 1485, 1507, 1510, 1513, 1514, 1520, 1548, 1555, 1558, 1566, 1570, 1579, 1581, 1587, 1589, 1596, 1614, 1620, 1630, 1635, 1643, 1645, 1659, 1660, 1663, 1666, 1679, 1681, 1687, 1693, 1702, 1708, 1715, 1727, 1736, 1740, 1750, 1751, 1758, 1765, 1766, 1767, 1772, 1783, 1784, 1794, 1797, 1806, 1807, 1838, 1845, 1868, 1870, 1880, 1918, 1926, 1937, 1938, 1944, 1955, 1963, 1965, 1972, 1982, 1990, 2002, 2021, 2023, 2042, 2048, 2060, 2077, 2100, 2102, 2113, 2119, 2121, 2127, 2134, 2139, 2169, 2172, 2180, 2201, 2225, 2226, 2234, 2255, 2256, 2308, 2312, 2315, 2325, 2329, 2331, 2355, 2361, 2372, 2387, 2392, 2396, 2406, 2415, 2430, 2459, 2463, 2467, 2468, 2474, 2475, 2477, 2494, 2508, 2515, 2519, 2526, 2531, 2533, 2537, 2543, 2551, 2555, 2558, 2562, 2588, 2596, 2604, 2606, 2607, 2620, 2629, 2630, 2633, 2636, 2640, 2646, 2650, 2657, 2665, 2688, 2689, 2700, 2702, 2712, 2723, 2726, 2740, 2749, 2772, 2775, 2781, 2788, 2793, 2802, 2803, 2812, 2814, 2819, 2832, 2847, 2848, 2856, 2867, 2877, 2881, 2882, 2884, 2907, 2934, 2935, 2940, 2944, 2949, 2951, 2954, 2957, 2964, 2970, 2981, 2994, 3007, 3014, 3015, 3030, 3034, 3037, 3042, 3054, 3074, 3077, 3083, 3090, 3093, 3095, 3116, 3125, 3131, 3137, 3141, 3161, 3178, 3182, 3207, 3213, 3217, 3219, 3222, 3223, 3249, 3255, 3257, 3259, 3265, 3267, 3274, 3275, 3276, 3282, 3284, 3304, 3309, 3319, 3346, 3348, 3358, 3377, 3384, 3386, 3394, 3399, 3408, 3417, 3419, 3423, 3426, 3431, 3433, 3443, 3446, 3448, 3452, 3456, 3460, 3472, 3473, 3478, 3479, 3487, 3489, 3502, 3504, 3518, 3525, 3553, 3560, 3570, 3610, 3613, 3621, 3637, 3638, 3640, 3646, 3660, 3662, 3669, 3674, 3684, 3685, 3703, 3710, 3719, 3721, 3733, 3749, 3754, 3756, 3771, 3772, 3789, 3793, 3795, 3799, 3821, 3824, 3825, 3832, 3834, 3836, 3853, 3859, 3861, 3884, 3892, 3908, 3910, 3928, 3940, 3946, 3955, 3974, 3978, 3981, 3987, 3988, 3995, 3997, 3999, 4006, 4015, 4024, 4029, 4034, 4068, 4071, 4073, 4083, 4106, 4107, 4118, 4124, 4134, 4175, 4179, 4184, 4187, 4189, 4201, 4209]\n",
      "Lower limit:  -6.100000000000001\n",
      "Upper limit:  19.5\n"
     ]
    }
   ],
   "source": [
    "# get information about Tukey's outliers. \n",
    "\n",
    "outlier_indices, lower_limit, upper_limit = tukeys_method(y_train,'Price')\n",
    "\n",
    "print('The outlier index in the dataframe: ', outlier_indices)\n",
    "print('Lower limit: ', lower_limit)\n",
    "print('Upper limit: ', upper_limit)"
   ]
  },
  {
   "cell_type": "code",
   "execution_count": 10,
   "metadata": {},
   "outputs": [
    {
     "data": {
      "text/html": [
       "<div>\n",
       "<style scoped>\n",
       "    .dataframe tbody tr th:only-of-type {\n",
       "        vertical-align: middle;\n",
       "    }\n",
       "\n",
       "    .dataframe tbody tr th {\n",
       "        vertical-align: top;\n",
       "    }\n",
       "\n",
       "    .dataframe thead th {\n",
       "        text-align: right;\n",
       "    }\n",
       "</style>\n",
       "<table border=\"1\" class=\"dataframe\">\n",
       "  <thead>\n",
       "    <tr style=\"text-align: right;\">\n",
       "      <th></th>\n",
       "      <th>Price</th>\n",
       "    </tr>\n",
       "  </thead>\n",
       "  <tbody>\n",
       "    <tr>\n",
       "      <th>count</th>\n",
       "      <td>3716.000000</td>\n",
       "    </tr>\n",
       "    <tr>\n",
       "      <th>mean</th>\n",
       "      <td>6.122691</td>\n",
       "    </tr>\n",
       "    <tr>\n",
       "      <th>std</th>\n",
       "      <td>3.990794</td>\n",
       "    </tr>\n",
       "    <tr>\n",
       "      <th>min</th>\n",
       "      <td>0.440000</td>\n",
       "    </tr>\n",
       "    <tr>\n",
       "      <th>25%</th>\n",
       "      <td>3.250000</td>\n",
       "    </tr>\n",
       "    <tr>\n",
       "      <th>50%</th>\n",
       "      <td>5.100000</td>\n",
       "    </tr>\n",
       "    <tr>\n",
       "      <th>75%</th>\n",
       "      <td>7.727500</td>\n",
       "    </tr>\n",
       "    <tr>\n",
       "      <th>max</th>\n",
       "      <td>19.500000</td>\n",
       "    </tr>\n",
       "  </tbody>\n",
       "</table>\n",
       "</div>"
      ],
      "text/plain": [
       "             Price\n",
       "count  3716.000000\n",
       "mean      6.122691\n",
       "std       3.990794\n",
       "min       0.440000\n",
       "25%       3.250000\n",
       "50%       5.100000\n",
       "75%       7.727500\n",
       "max      19.500000"
      ]
     },
     "execution_count": 10,
     "metadata": {},
     "output_type": "execute_result"
    }
   ],
   "source": [
    "# the price more than 19.5 will be excluded from the analysis\n",
    "y_train_ul = y_train[y_train['Price']>19.5]\n",
    "\n",
    "X_train = X_train.drop(index=y_train_ul.index)\n",
    "y_train = y_train.drop(index=y_train_ul.index)\n",
    "y_train.describe()"
   ]
  },
  {
   "cell_type": "markdown",
   "metadata": {},
   "source": [
    "### 3. Check for missing data"
   ]
  },
  {
   "cell_type": "code",
   "execution_count": 11,
   "metadata": {
    "scrolled": false
   },
   "outputs": [
    {
     "data": {
      "image/png": "[encoded data removed]",
      "text/plain": [
       "<Figure size 1800x720 with 2 Axes>"
      ]
     },
     "metadata": {
      "needs_background": "light"
     },
     "output_type": "display_data"
    }
   ],
   "source": [
    "msno.matrix(X_train);"
   ]
  },
  {
   "cell_type": "markdown",
   "metadata": {},
   "source": [
    "Mileage, Engine, Seats are missing"
   ]
  },
  {
   "cell_type": "code",
   "execution_count": 12,
   "metadata": {},
   "outputs": [
    {
     "data": {
      "image/png": "[encoded data removed]",
      "text/plain": [
       "<Figure size 1800x720 with 3 Axes>"
      ]
     },
     "metadata": {
      "needs_background": "light"
     },
     "output_type": "display_data"
    }
   ],
   "source": [
    "msno.bar(X_train);"
   ]
  },
  {
   "cell_type": "code",
   "execution_count": 13,
   "metadata": {
    "scrolled": false
   },
   "outputs": [
    {
     "data": {
      "text/plain": [
       "<seaborn.axisgrid.FacetGrid at 0x1bd208806d0>"
      ]
     },
     "execution_count": 13,
     "metadata": {},
     "output_type": "execute_result"
    },
    {
     "data": {
      "image/png": "[encoded data removed]",
      "text/plain": [
       "<Figure size 360x360 with 1 Axes>"
      ]
     },
     "metadata": {
      "needs_background": "light"
     },
     "output_type": "display_data"
    }
   ],
   "source": [
    "sns.displot(X_train['Mileage'])"
   ]
  },
  {
   "cell_type": "code",
   "execution_count": 14,
   "metadata": {
    "scrolled": false
   },
   "outputs": [
    {
     "data": {
      "text/plain": [
       "<seaborn.axisgrid.FacetGrid at 0x1bd209fbaf0>"
      ]
     },
     "execution_count": 14,
     "metadata": {},
     "output_type": "execute_result"
    },
    {
     "data": {
      "image/png": "[encoded data removed]",
      "text/plain": [
       "<Figure size 360x360 with 1 Axes>"
      ]
     },
     "metadata": {
      "needs_background": "light"
     },
     "output_type": "display_data"
    }
   ],
   "source": [
    "sns.displot(X_train['Engine'])"
   ]
  },
  {
   "cell_type": "code",
   "execution_count": 15,
   "metadata": {
    "scrolled": false
   },
   "outputs": [
    {
     "data": {
      "text/plain": [
       "<seaborn.axisgrid.FacetGrid at 0x1bd20aea1c0>"
      ]
     },
     "execution_count": 15,
     "metadata": {},
     "output_type": "execute_result"
    },
    {
     "data": {
      "image/png": "[encoded data removed]",
      "text/plain": [
       "<Figure size 360x360 with 1 Axes>"
      ]
     },
     "metadata": {
      "needs_background": "light"
     },
     "output_type": "display_data"
    }
   ],
   "source": [
    "sns.displot(X_train['Seats'])"
   ]
  },
  {
   "cell_type": "markdown",
   "metadata": {},
   "source": [
    "Imputing missing values\n",
    "- Mileage: mean imputation\n",
    "- Engine: median imputation\n",
    "- Seats: mode imputation"
   ]
  },
  {
   "cell_type": "code",
   "execution_count": 16,
   "metadata": {},
   "outputs": [],
   "source": [
    "X_train['Mileage'] = X_train['Mileage'].fillna(X_train['Mileage'].mean())\n",
    "X_train['Engine'] = X_train['Engine'].fillna(X_train['Engine'].median())\n",
    "X_train['Seats'] = X_train['Seats'].fillna(int(X_train['Seats'].mode()))"
   ]
  },
  {
   "cell_type": "markdown",
   "metadata": {},
   "source": [
    "### 4. Year transformation\n",
    "Assuming that the data was collected in 2021. So the age of the car will be 2021-year"
   ]
  },
  {
   "cell_type": "code",
   "execution_count": 17,
   "metadata": {},
   "outputs": [
    {
     "data": {
      "text/plain": [
       "<seaborn.axisgrid.FacetGrid at 0x1bd20af0d30>"
      ]
     },
     "execution_count": 17,
     "metadata": {},
     "output_type": "execute_result"
    },
    {
     "data": {
      "image/png": "[encoded data removed]",
      "text/plain": [
       "<Figure size 360x360 with 1 Axes>"
      ]
     },
     "metadata": {
      "needs_background": "light"
     },
     "output_type": "display_data"
    }
   ],
   "source": [
    "X_train['Age'] = 2021 - X_train['Year']\n",
    "X_train = X_train.drop(columns=['Year'])\n",
    "\n",
    "sns.displot(X_train['Age'])"
   ]
  },
  {
   "cell_type": "markdown",
   "metadata": {},
   "source": [
    "### 5. Categorical transformation\n",
    "We have 4 variables to be transformed. Let's check which ones are informative by plotting a box plot. <br>"
   ]
  },
  {
   "cell_type": "code",
   "execution_count": 18,
   "metadata": {},
   "outputs": [
    {
     "data": {
      "text/html": [
       "<div>\n",
       "<style scoped>\n",
       "    .dataframe tbody tr th:only-of-type {\n",
       "        vertical-align: middle;\n",
       "    }\n",
       "\n",
       "    .dataframe tbody tr th {\n",
       "        vertical-align: top;\n",
       "    }\n",
       "\n",
       "    .dataframe thead th {\n",
       "        text-align: right;\n",
       "    }\n",
       "</style>\n",
       "<table border=\"1\" class=\"dataframe\">\n",
       "  <thead>\n",
       "    <tr style=\"text-align: right;\">\n",
       "      <th></th>\n",
       "      <th>Name</th>\n",
       "      <th>Location</th>\n",
       "      <th>Kilometers_Driven</th>\n",
       "      <th>Fuel_Type</th>\n",
       "      <th>Transmission</th>\n",
       "      <th>Owner_Type</th>\n",
       "      <th>Mileage</th>\n",
       "      <th>Engine</th>\n",
       "      <th>Power</th>\n",
       "      <th>Seats</th>\n",
       "      <th>Age</th>\n",
       "      <th>Price</th>\n",
       "    </tr>\n",
       "  </thead>\n",
       "  <tbody>\n",
       "    <tr>\n",
       "      <th>4201</th>\n",
       "      <td>Volkswagen Polo Diesel Trendline 1.2L</td>\n",
       "      <td>Jaipur</td>\n",
       "      <td>77000</td>\n",
       "      <td>Diesel</td>\n",
       "      <td>Manual</td>\n",
       "      <td>First</td>\n",
       "      <td>22.07</td>\n",
       "      <td>1199.0</td>\n",
       "      <td>73.9</td>\n",
       "      <td>5.0</td>\n",
       "      <td>10</td>\n",
       "      <td>2.90</td>\n",
       "    </tr>\n",
       "    <tr>\n",
       "      <th>4383</th>\n",
       "      <td>Hyundai i10 Sportz</td>\n",
       "      <td>Hyderabad</td>\n",
       "      <td>19947</td>\n",
       "      <td>Petrol</td>\n",
       "      <td>Manual</td>\n",
       "      <td>First</td>\n",
       "      <td>20.36</td>\n",
       "      <td>1197.0</td>\n",
       "      <td>78.9</td>\n",
       "      <td>5.0</td>\n",
       "      <td>5</td>\n",
       "      <td>4.50</td>\n",
       "    </tr>\n",
       "    <tr>\n",
       "      <th>1779</th>\n",
       "      <td>Mahindra XUV500 W8 2WD</td>\n",
       "      <td>Kochi</td>\n",
       "      <td>70963</td>\n",
       "      <td>Diesel</td>\n",
       "      <td>Manual</td>\n",
       "      <td>First</td>\n",
       "      <td>15.10</td>\n",
       "      <td>2179.0</td>\n",
       "      <td>140.0</td>\n",
       "      <td>7.0</td>\n",
       "      <td>7</td>\n",
       "      <td>7.83</td>\n",
       "    </tr>\n",
       "    <tr>\n",
       "      <th>4020</th>\n",
       "      <td>Maruti Swift VDI BSIV</td>\n",
       "      <td>Kolkata</td>\n",
       "      <td>115195</td>\n",
       "      <td>Diesel</td>\n",
       "      <td>Manual</td>\n",
       "      <td>First</td>\n",
       "      <td>25.20</td>\n",
       "      <td>1248.0</td>\n",
       "      <td>74.0</td>\n",
       "      <td>5.0</td>\n",
       "      <td>8</td>\n",
       "      <td>3.85</td>\n",
       "    </tr>\n",
       "    <tr>\n",
       "      <th>3248</th>\n",
       "      <td>Volkswagen Polo Petrol Trendline 1.2L</td>\n",
       "      <td>Kochi</td>\n",
       "      <td>58752</td>\n",
       "      <td>Petrol</td>\n",
       "      <td>Manual</td>\n",
       "      <td>First</td>\n",
       "      <td>16.47</td>\n",
       "      <td>1198.0</td>\n",
       "      <td>73.9</td>\n",
       "      <td>5.0</td>\n",
       "      <td>10</td>\n",
       "      <td>3.32</td>\n",
       "    </tr>\n",
       "  </tbody>\n",
       "</table>\n",
       "</div>"
      ],
      "text/plain": [
       "                                       Name   Location  Kilometers_Driven  \\\n",
       "4201  Volkswagen Polo Diesel Trendline 1.2L     Jaipur              77000   \n",
       "4383                     Hyundai i10 Sportz  Hyderabad              19947   \n",
       "1779                 Mahindra XUV500 W8 2WD      Kochi              70963   \n",
       "4020                  Maruti Swift VDI BSIV    Kolkata             115195   \n",
       "3248  Volkswagen Polo Petrol Trendline 1.2L      Kochi              58752   \n",
       "\n",
       "     Fuel_Type Transmission Owner_Type  Mileage  Engine  Power  Seats  Age  \\\n",
       "4201    Diesel       Manual      First    22.07  1199.0   73.9    5.0   10   \n",
       "4383    Petrol       Manual      First    20.36  1197.0   78.9    5.0    5   \n",
       "1779    Diesel       Manual      First    15.10  2179.0  140.0    7.0    7   \n",
       "4020    Diesel       Manual      First    25.20  1248.0   74.0    5.0    8   \n",
       "3248    Petrol       Manual      First    16.47  1198.0   73.9    5.0   10   \n",
       "\n",
       "      Price  \n",
       "4201   2.90  \n",
       "4383   4.50  \n",
       "1779   7.83  \n",
       "4020   3.85  \n",
       "3248   3.32  "
      ]
     },
     "execution_count": 18,
     "metadata": {},
     "output_type": "execute_result"
    }
   ],
   "source": [
    "_train = pd.concat([X_train, y_train], axis=1)\n",
    "_train.head()"
   ]
  },
  {
   "cell_type": "code",
   "execution_count": 20,
   "metadata": {},
   "outputs": [
    {
     "data": {
      "image/png": "[encoded data removed]",
      "text/plain": [
       "<Figure size 432x288 with 1 Axes>"
      ]
     },
     "metadata": {
      "needs_background": "light"
     },
     "output_type": "display_data"
    }
   ],
   "source": [
    "# Location\n",
    "sns.boxplot(x='Location', y='Price', data=_train)\n",
    "plt.xticks(rotation=90)\n",
    "plt.show();"
   ]
  },
  {
   "cell_type": "code",
   "execution_count": 18,
   "metadata": {},
   "outputs": [
    {
     "data": {
      "image/png": "[encoded data removed]",
      "text/plain": [
       "<Figure size 432x288 with 1 Axes>"
      ]
     },
     "metadata": {
      "needs_background": "light"
     },
     "output_type": "display_data"
    }
   ],
   "source": [
    "# Fuel_Type\n",
    "sns.boxplot(x='Fuel_Type', y='Price', data=_train)\n",
    "plt.xticks(rotation=90)\n",
    "plt.show();"
   ]
  },
  {
   "cell_type": "code",
   "execution_count": 19,
   "metadata": {},
   "outputs": [
    {
     "data": {
      "image/png": "[encoded data removed]",
      "text/plain": [
       "<Figure size 432x288 with 1 Axes>"
      ]
     },
     "metadata": {
      "needs_background": "light"
     },
     "output_type": "display_data"
    }
   ],
   "source": [
    "# Transmission\n",
    "sns.boxplot(x='Transmission', y='Price', data=_train)\n",
    "plt.xticks(rotation=90)\n",
    "plt.show();"
   ]
  },
  {
   "cell_type": "code",
   "execution_count": 20,
   "metadata": {},
   "outputs": [
    {
     "data": {
      "image/png": "[encoded data removed]",
      "text/plain": [
       "<Figure size 432x288 with 1 Axes>"
      ]
     },
     "metadata": {
      "needs_background": "light"
     },
     "output_type": "display_data"
    }
   ],
   "source": [
    "# Owner_Type\n",
    "sns.boxplot(x='Owner_Type', y='Price', data=_train)\n",
    "plt.xticks(rotation=90)\n",
    "plt.show();"
   ]
  },
  {
   "cell_type": "markdown",
   "metadata": {},
   "source": [
    "Next, one-hot encoding is used for tranforming these varibles"
   ]
  },
  {
   "cell_type": "code",
   "execution_count": 21,
   "metadata": {},
   "outputs": [
    {
     "data": {
      "text/html": [
       "<div>\n",
       "<style scoped>\n",
       "    .dataframe tbody tr th:only-of-type {\n",
       "        vertical-align: middle;\n",
       "    }\n",
       "\n",
       "    .dataframe tbody tr th {\n",
       "        vertical-align: top;\n",
       "    }\n",
       "\n",
       "    .dataframe thead th {\n",
       "        text-align: right;\n",
       "    }\n",
       "</style>\n",
       "<table border=\"1\" class=\"dataframe\">\n",
       "  <thead>\n",
       "    <tr style=\"text-align: right;\">\n",
       "      <th></th>\n",
       "      <th>Location_Ahmedabad</th>\n",
       "      <th>Location_Bangalore</th>\n",
       "      <th>Location_Chennai</th>\n",
       "      <th>Location_Coimbatore</th>\n",
       "      <th>Location_Delhi</th>\n",
       "      <th>Location_Hyderabad</th>\n",
       "      <th>Location_Jaipur</th>\n",
       "      <th>Location_Kochi</th>\n",
       "      <th>Location_Kolkata</th>\n",
       "      <th>Location_Mumbai</th>\n",
       "      <th>Location_Pune</th>\n",
       "    </tr>\n",
       "  </thead>\n",
       "  <tbody>\n",
       "    <tr>\n",
       "      <th>4201</th>\n",
       "      <td>0</td>\n",
       "      <td>0</td>\n",
       "      <td>0</td>\n",
       "      <td>0</td>\n",
       "      <td>0</td>\n",
       "      <td>0</td>\n",
       "      <td>1</td>\n",
       "      <td>0</td>\n",
       "      <td>0</td>\n",
       "      <td>0</td>\n",
       "      <td>0</td>\n",
       "    </tr>\n",
       "    <tr>\n",
       "      <th>4383</th>\n",
       "      <td>0</td>\n",
       "      <td>0</td>\n",
       "      <td>0</td>\n",
       "      <td>0</td>\n",
       "      <td>0</td>\n",
       "      <td>1</td>\n",
       "      <td>0</td>\n",
       "      <td>0</td>\n",
       "      <td>0</td>\n",
       "      <td>0</td>\n",
       "      <td>0</td>\n",
       "    </tr>\n",
       "    <tr>\n",
       "      <th>1779</th>\n",
       "      <td>0</td>\n",
       "      <td>0</td>\n",
       "      <td>0</td>\n",
       "      <td>0</td>\n",
       "      <td>0</td>\n",
       "      <td>0</td>\n",
       "      <td>0</td>\n",
       "      <td>1</td>\n",
       "      <td>0</td>\n",
       "      <td>0</td>\n",
       "      <td>0</td>\n",
       "    </tr>\n",
       "    <tr>\n",
       "      <th>4020</th>\n",
       "      <td>0</td>\n",
       "      <td>0</td>\n",
       "      <td>0</td>\n",
       "      <td>0</td>\n",
       "      <td>0</td>\n",
       "      <td>0</td>\n",
       "      <td>0</td>\n",
       "      <td>0</td>\n",
       "      <td>1</td>\n",
       "      <td>0</td>\n",
       "      <td>0</td>\n",
       "    </tr>\n",
       "    <tr>\n",
       "      <th>3248</th>\n",
       "      <td>0</td>\n",
       "      <td>0</td>\n",
       "      <td>0</td>\n",
       "      <td>0</td>\n",
       "      <td>0</td>\n",
       "      <td>0</td>\n",
       "      <td>0</td>\n",
       "      <td>1</td>\n",
       "      <td>0</td>\n",
       "      <td>0</td>\n",
       "      <td>0</td>\n",
       "    </tr>\n",
       "  </tbody>\n",
       "</table>\n",
       "</div>"
      ],
      "text/plain": [
       "      Location_Ahmedabad  Location_Bangalore  Location_Chennai  \\\n",
       "4201                   0                   0                 0   \n",
       "4383                   0                   0                 0   \n",
       "1779                   0                   0                 0   \n",
       "4020                   0                   0                 0   \n",
       "3248                   0                   0                 0   \n",
       "\n",
       "      Location_Coimbatore  Location_Delhi  Location_Hyderabad  \\\n",
       "4201                    0               0                   0   \n",
       "4383                    0               0                   1   \n",
       "1779                    0               0                   0   \n",
       "4020                    0               0                   0   \n",
       "3248                    0               0                   0   \n",
       "\n",
       "      Location_Jaipur  Location_Kochi  Location_Kolkata  Location_Mumbai  \\\n",
       "4201                1               0                 0                0   \n",
       "4383                0               0                 0                0   \n",
       "1779                0               1                 0                0   \n",
       "4020                0               0                 1                0   \n",
       "3248                0               1                 0                0   \n",
       "\n",
       "      Location_Pune  \n",
       "4201              0  \n",
       "4383              0  \n",
       "1779              0  \n",
       "4020              0  \n",
       "3248              0  "
      ]
     },
     "metadata": {},
     "output_type": "display_data"
    },
    {
     "data": {
      "text/html": [
       "<div>\n",
       "<style scoped>\n",
       "    .dataframe tbody tr th:only-of-type {\n",
       "        vertical-align: middle;\n",
       "    }\n",
       "\n",
       "    .dataframe tbody tr th {\n",
       "        vertical-align: top;\n",
       "    }\n",
       "\n",
       "    .dataframe thead th {\n",
       "        text-align: right;\n",
       "    }\n",
       "</style>\n",
       "<table border=\"1\" class=\"dataframe\">\n",
       "  <thead>\n",
       "    <tr style=\"text-align: right;\">\n",
       "      <th></th>\n",
       "      <th>Fuel_Type_CNG</th>\n",
       "      <th>Fuel_Type_Diesel</th>\n",
       "      <th>Fuel_Type_Electric</th>\n",
       "      <th>Fuel_Type_LPG</th>\n",
       "      <th>Fuel_Type_Petrol</th>\n",
       "    </tr>\n",
       "  </thead>\n",
       "  <tbody>\n",
       "    <tr>\n",
       "      <th>4201</th>\n",
       "      <td>0</td>\n",
       "      <td>1</td>\n",
       "      <td>0</td>\n",
       "      <td>0</td>\n",
       "      <td>0</td>\n",
       "    </tr>\n",
       "    <tr>\n",
       "      <th>4383</th>\n",
       "      <td>0</td>\n",
       "      <td>0</td>\n",
       "      <td>0</td>\n",
       "      <td>0</td>\n",
       "      <td>1</td>\n",
       "    </tr>\n",
       "    <tr>\n",
       "      <th>1779</th>\n",
       "      <td>0</td>\n",
       "      <td>1</td>\n",
       "      <td>0</td>\n",
       "      <td>0</td>\n",
       "      <td>0</td>\n",
       "    </tr>\n",
       "    <tr>\n",
       "      <th>4020</th>\n",
       "      <td>0</td>\n",
       "      <td>1</td>\n",
       "      <td>0</td>\n",
       "      <td>0</td>\n",
       "      <td>0</td>\n",
       "    </tr>\n",
       "    <tr>\n",
       "      <th>3248</th>\n",
       "      <td>0</td>\n",
       "      <td>0</td>\n",
       "      <td>0</td>\n",
       "      <td>0</td>\n",
       "      <td>1</td>\n",
       "    </tr>\n",
       "  </tbody>\n",
       "</table>\n",
       "</div>"
      ],
      "text/plain": [
       "      Fuel_Type_CNG  Fuel_Type_Diesel  Fuel_Type_Electric  Fuel_Type_LPG  \\\n",
       "4201              0                 1                   0              0   \n",
       "4383              0                 0                   0              0   \n",
       "1779              0                 1                   0              0   \n",
       "4020              0                 1                   0              0   \n",
       "3248              0                 0                   0              0   \n",
       "\n",
       "      Fuel_Type_Petrol  \n",
       "4201                 0  \n",
       "4383                 1  \n",
       "1779                 0  \n",
       "4020                 0  \n",
       "3248                 1  "
      ]
     },
     "metadata": {},
     "output_type": "display_data"
    },
    {
     "data": {
      "text/html": [
       "<div>\n",
       "<style scoped>\n",
       "    .dataframe tbody tr th:only-of-type {\n",
       "        vertical-align: middle;\n",
       "    }\n",
       "\n",
       "    .dataframe tbody tr th {\n",
       "        vertical-align: top;\n",
       "    }\n",
       "\n",
       "    .dataframe thead th {\n",
       "        text-align: right;\n",
       "    }\n",
       "</style>\n",
       "<table border=\"1\" class=\"dataframe\">\n",
       "  <thead>\n",
       "    <tr style=\"text-align: right;\">\n",
       "      <th></th>\n",
       "      <th>Transmission_Automatic</th>\n",
       "      <th>Transmission_Manual</th>\n",
       "    </tr>\n",
       "  </thead>\n",
       "  <tbody>\n",
       "    <tr>\n",
       "      <th>4201</th>\n",
       "      <td>0</td>\n",
       "      <td>1</td>\n",
       "    </tr>\n",
       "    <tr>\n",
       "      <th>4383</th>\n",
       "      <td>0</td>\n",
       "      <td>1</td>\n",
       "    </tr>\n",
       "    <tr>\n",
       "      <th>1779</th>\n",
       "      <td>0</td>\n",
       "      <td>1</td>\n",
       "    </tr>\n",
       "    <tr>\n",
       "      <th>4020</th>\n",
       "      <td>0</td>\n",
       "      <td>1</td>\n",
       "    </tr>\n",
       "    <tr>\n",
       "      <th>3248</th>\n",
       "      <td>0</td>\n",
       "      <td>1</td>\n",
       "    </tr>\n",
       "  </tbody>\n",
       "</table>\n",
       "</div>"
      ],
      "text/plain": [
       "      Transmission_Automatic  Transmission_Manual\n",
       "4201                       0                    1\n",
       "4383                       0                    1\n",
       "1779                       0                    1\n",
       "4020                       0                    1\n",
       "3248                       0                    1"
      ]
     },
     "metadata": {},
     "output_type": "display_data"
    },
    {
     "data": {
      "text/html": [
       "<div>\n",
       "<style scoped>\n",
       "    .dataframe tbody tr th:only-of-type {\n",
       "        vertical-align: middle;\n",
       "    }\n",
       "\n",
       "    .dataframe tbody tr th {\n",
       "        vertical-align: top;\n",
       "    }\n",
       "\n",
       "    .dataframe thead th {\n",
       "        text-align: right;\n",
       "    }\n",
       "</style>\n",
       "<table border=\"1\" class=\"dataframe\">\n",
       "  <thead>\n",
       "    <tr style=\"text-align: right;\">\n",
       "      <th></th>\n",
       "      <th>Owner_Type_First</th>\n",
       "      <th>Owner_Type_Fourth &amp; Above</th>\n",
       "      <th>Owner_Type_Second</th>\n",
       "      <th>Owner_Type_Third</th>\n",
       "    </tr>\n",
       "  </thead>\n",
       "  <tbody>\n",
       "    <tr>\n",
       "      <th>4201</th>\n",
       "      <td>1</td>\n",
       "      <td>0</td>\n",
       "      <td>0</td>\n",
       "      <td>0</td>\n",
       "    </tr>\n",
       "    <tr>\n",
       "      <th>4383</th>\n",
       "      <td>1</td>\n",
       "      <td>0</td>\n",
       "      <td>0</td>\n",
       "      <td>0</td>\n",
       "    </tr>\n",
       "    <tr>\n",
       "      <th>1779</th>\n",
       "      <td>1</td>\n",
       "      <td>0</td>\n",
       "      <td>0</td>\n",
       "      <td>0</td>\n",
       "    </tr>\n",
       "    <tr>\n",
       "      <th>4020</th>\n",
       "      <td>1</td>\n",
       "      <td>0</td>\n",
       "      <td>0</td>\n",
       "      <td>0</td>\n",
       "    </tr>\n",
       "    <tr>\n",
       "      <th>3248</th>\n",
       "      <td>1</td>\n",
       "      <td>0</td>\n",
       "      <td>0</td>\n",
       "      <td>0</td>\n",
       "    </tr>\n",
       "  </tbody>\n",
       "</table>\n",
       "</div>"
      ],
      "text/plain": [
       "      Owner_Type_First  Owner_Type_Fourth & Above  Owner_Type_Second  \\\n",
       "4201                 1                          0                  0   \n",
       "4383                 1                          0                  0   \n",
       "1779                 1                          0                  0   \n",
       "4020                 1                          0                  0   \n",
       "3248                 1                          0                  0   \n",
       "\n",
       "      Owner_Type_Third  \n",
       "4201                 0  \n",
       "4383                 0  \n",
       "1779                 0  \n",
       "4020                 0  \n",
       "3248                 0  "
      ]
     },
     "metadata": {},
     "output_type": "display_data"
    }
   ],
   "source": [
    "# encoding\n",
    "Location_enc = pd.get_dummies(X_train[['Location']])\n",
    "Fuel_Type_enc = pd.get_dummies(X_train[['Fuel_Type']])\n",
    "Transmission_enc = pd.get_dummies(X_train[['Transmission']])\n",
    "Owner_Type_enc = pd.get_dummies(X_train[['Owner_Type']])\n",
    "\n",
    "display(Location_enc.head())\n",
    "display(Fuel_Type_enc.head())\n",
    "display(Transmission_enc.head())\n",
    "display(Owner_Type_enc.head())"
   ]
  },
  {
   "cell_type": "code",
   "execution_count": 22,
   "metadata": {},
   "outputs": [
    {
     "data": {
      "text/html": [
       "<div>\n",
       "<style scoped>\n",
       "    .dataframe tbody tr th:only-of-type {\n",
       "        vertical-align: middle;\n",
       "    }\n",
       "\n",
       "    .dataframe tbody tr th {\n",
       "        vertical-align: top;\n",
       "    }\n",
       "\n",
       "    .dataframe thead th {\n",
       "        text-align: right;\n",
       "    }\n",
       "</style>\n",
       "<table border=\"1\" class=\"dataframe\">\n",
       "  <thead>\n",
       "    <tr style=\"text-align: right;\">\n",
       "      <th></th>\n",
       "      <th>Name</th>\n",
       "      <th>Kilometers_Driven</th>\n",
       "      <th>Mileage</th>\n",
       "      <th>Engine</th>\n",
       "      <th>Power</th>\n",
       "      <th>Seats</th>\n",
       "      <th>Age</th>\n",
       "      <th>Location_Ahmedabad</th>\n",
       "      <th>Location_Bangalore</th>\n",
       "      <th>Location_Chennai</th>\n",
       "      <th>...</th>\n",
       "      <th>Fuel_Type_Diesel</th>\n",
       "      <th>Fuel_Type_Electric</th>\n",
       "      <th>Fuel_Type_LPG</th>\n",
       "      <th>Fuel_Type_Petrol</th>\n",
       "      <th>Transmission_Automatic</th>\n",
       "      <th>Transmission_Manual</th>\n",
       "      <th>Owner_Type_First</th>\n",
       "      <th>Owner_Type_Fourth &amp; Above</th>\n",
       "      <th>Owner_Type_Second</th>\n",
       "      <th>Owner_Type_Third</th>\n",
       "    </tr>\n",
       "  </thead>\n",
       "  <tbody>\n",
       "    <tr>\n",
       "      <th>4201</th>\n",
       "      <td>Volkswagen Polo Diesel Trendline 1.2L</td>\n",
       "      <td>77000</td>\n",
       "      <td>22.07</td>\n",
       "      <td>1199.0</td>\n",
       "      <td>73.9</td>\n",
       "      <td>5.0</td>\n",
       "      <td>10</td>\n",
       "      <td>0</td>\n",
       "      <td>0</td>\n",
       "      <td>0</td>\n",
       "      <td>...</td>\n",
       "      <td>1</td>\n",
       "      <td>0</td>\n",
       "      <td>0</td>\n",
       "      <td>0</td>\n",
       "      <td>0</td>\n",
       "      <td>1</td>\n",
       "      <td>1</td>\n",
       "      <td>0</td>\n",
       "      <td>0</td>\n",
       "      <td>0</td>\n",
       "    </tr>\n",
       "    <tr>\n",
       "      <th>4383</th>\n",
       "      <td>Hyundai i10 Sportz</td>\n",
       "      <td>19947</td>\n",
       "      <td>20.36</td>\n",
       "      <td>1197.0</td>\n",
       "      <td>78.9</td>\n",
       "      <td>5.0</td>\n",
       "      <td>5</td>\n",
       "      <td>0</td>\n",
       "      <td>0</td>\n",
       "      <td>0</td>\n",
       "      <td>...</td>\n",
       "      <td>0</td>\n",
       "      <td>0</td>\n",
       "      <td>0</td>\n",
       "      <td>1</td>\n",
       "      <td>0</td>\n",
       "      <td>1</td>\n",
       "      <td>1</td>\n",
       "      <td>0</td>\n",
       "      <td>0</td>\n",
       "      <td>0</td>\n",
       "    </tr>\n",
       "    <tr>\n",
       "      <th>1779</th>\n",
       "      <td>Mahindra XUV500 W8 2WD</td>\n",
       "      <td>70963</td>\n",
       "      <td>15.10</td>\n",
       "      <td>2179.0</td>\n",
       "      <td>140.0</td>\n",
       "      <td>7.0</td>\n",
       "      <td>7</td>\n",
       "      <td>0</td>\n",
       "      <td>0</td>\n",
       "      <td>0</td>\n",
       "      <td>...</td>\n",
       "      <td>1</td>\n",
       "      <td>0</td>\n",
       "      <td>0</td>\n",
       "      <td>0</td>\n",
       "      <td>0</td>\n",
       "      <td>1</td>\n",
       "      <td>1</td>\n",
       "      <td>0</td>\n",
       "      <td>0</td>\n",
       "      <td>0</td>\n",
       "    </tr>\n",
       "    <tr>\n",
       "      <th>4020</th>\n",
       "      <td>Maruti Swift VDI BSIV</td>\n",
       "      <td>115195</td>\n",
       "      <td>25.20</td>\n",
       "      <td>1248.0</td>\n",
       "      <td>74.0</td>\n",
       "      <td>5.0</td>\n",
       "      <td>8</td>\n",
       "      <td>0</td>\n",
       "      <td>0</td>\n",
       "      <td>0</td>\n",
       "      <td>...</td>\n",
       "      <td>1</td>\n",
       "      <td>0</td>\n",
       "      <td>0</td>\n",
       "      <td>0</td>\n",
       "      <td>0</td>\n",
       "      <td>1</td>\n",
       "      <td>1</td>\n",
       "      <td>0</td>\n",
       "      <td>0</td>\n",
       "      <td>0</td>\n",
       "    </tr>\n",
       "    <tr>\n",
       "      <th>3248</th>\n",
       "      <td>Volkswagen Polo Petrol Trendline 1.2L</td>\n",
       "      <td>58752</td>\n",
       "      <td>16.47</td>\n",
       "      <td>1198.0</td>\n",
       "      <td>73.9</td>\n",
       "      <td>5.0</td>\n",
       "      <td>10</td>\n",
       "      <td>0</td>\n",
       "      <td>0</td>\n",
       "      <td>0</td>\n",
       "      <td>...</td>\n",
       "      <td>0</td>\n",
       "      <td>0</td>\n",
       "      <td>0</td>\n",
       "      <td>1</td>\n",
       "      <td>0</td>\n",
       "      <td>1</td>\n",
       "      <td>1</td>\n",
       "      <td>0</td>\n",
       "      <td>0</td>\n",
       "      <td>0</td>\n",
       "    </tr>\n",
       "  </tbody>\n",
       "</table>\n",
       "<p>5 rows × 29 columns</p>\n",
       "</div>"
      ],
      "text/plain": [
       "                                       Name  Kilometers_Driven  Mileage  \\\n",
       "4201  Volkswagen Polo Diesel Trendline 1.2L              77000    22.07   \n",
       "4383                     Hyundai i10 Sportz              19947    20.36   \n",
       "1779                 Mahindra XUV500 W8 2WD              70963    15.10   \n",
       "4020                  Maruti Swift VDI BSIV             115195    25.20   \n",
       "3248  Volkswagen Polo Petrol Trendline 1.2L              58752    16.47   \n",
       "\n",
       "      Engine  Power  Seats  Age  Location_Ahmedabad  Location_Bangalore  \\\n",
       "4201  1199.0   73.9    5.0   10                   0                   0   \n",
       "4383  1197.0   78.9    5.0    5                   0                   0   \n",
       "1779  2179.0  140.0    7.0    7                   0                   0   \n",
       "4020  1248.0   74.0    5.0    8                   0                   0   \n",
       "3248  1198.0   73.9    5.0   10                   0                   0   \n",
       "\n",
       "      Location_Chennai  ...  Fuel_Type_Diesel  Fuel_Type_Electric  \\\n",
       "4201                 0  ...                 1                   0   \n",
       "4383                 0  ...                 0                   0   \n",
       "1779                 0  ...                 1                   0   \n",
       "4020                 0  ...                 1                   0   \n",
       "3248                 0  ...                 0                   0   \n",
       "\n",
       "      Fuel_Type_LPG  Fuel_Type_Petrol  Transmission_Automatic  \\\n",
       "4201              0                 0                       0   \n",
       "4383              0                 1                       0   \n",
       "1779              0                 0                       0   \n",
       "4020              0                 0                       0   \n",
       "3248              0                 1                       0   \n",
       "\n",
       "      Transmission_Manual  Owner_Type_First  Owner_Type_Fourth & Above  \\\n",
       "4201                    1                 1                          0   \n",
       "4383                    1                 1                          0   \n",
       "1779                    1                 1                          0   \n",
       "4020                    1                 1                          0   \n",
       "3248                    1                 1                          0   \n",
       "\n",
       "      Owner_Type_Second  Owner_Type_Third  \n",
       "4201                  0                 0  \n",
       "4383                  0                 0  \n",
       "1779                  0                 0  \n",
       "4020                  0                 0  \n",
       "3248                  0                 0  \n",
       "\n",
       "[5 rows x 29 columns]"
      ]
     },
     "execution_count": 22,
     "metadata": {},
     "output_type": "execute_result"
    }
   ],
   "source": [
    "# adding them back the training data \n",
    "X_train = X_train.drop(columns=['Location', 'Fuel_Type', 'Transmission', 'Owner_Type'])\n",
    "X_train = pd.concat([X_train, Location_enc, Fuel_Type_enc, Transmission_enc, Owner_Type_enc], axis=1)\n",
    "X_train.head()"
   ]
  },
  {
   "cell_type": "markdown",
   "metadata": {},
   "source": [
    "### 6. Predictors normalization\n",
    "We will be trying out the min-max scaler"
   ]
  },
  {
   "cell_type": "code",
   "execution_count": 23,
   "metadata": {},
   "outputs": [
    {
     "data": {
      "text/plain": [
       "array([[0.09865702, 0.65802027, 0.27744953, ..., 0.        , 0.        ,\n",
       "        0.        ],\n",
       "       [0.02498321, 0.60703637, 0.27695716, ..., 0.        , 0.        ,\n",
       "        0.        ],\n",
       "       [0.09086131, 0.45020871, 0.51871   , ..., 0.        , 0.        ,\n",
       "        0.        ],\n",
       "       ...,\n",
       "       [0.18001033, 0.45020871, 0.51871   , ..., 0.        , 1.        ,\n",
       "        0.        ],\n",
       "       [0.09790031, 0.76923077, 0.35105859, ..., 0.        , 0.        ,\n",
       "        0.        ],\n",
       "       [0.12577479, 0.38163387, 0.596258  , ..., 0.        , 1.        ,\n",
       "        0.        ]])"
      ]
     },
     "metadata": {},
     "output_type": "display_data"
    }
   ],
   "source": [
    "# define data to be scaled \n",
    "x = X_train.drop(columns=['Name'])\n",
    "\n",
    "scaler = MinMaxScaler() # instantiate the scaler\n",
    "scaler_fit = scaler.fit(x) # fit the scaler on the data\n",
    "x_sc = scaler_fit.transform(x) # tranform the data using the fitted scaler\n",
    "\n",
    "display(x_sc) # the output of the tranformation is an array"
   ]
  },
  {
   "cell_type": "code",
   "execution_count": 24,
   "metadata": {},
   "outputs": [],
   "source": [
    "X_train = pd.DataFrame(x_sc, columns=x.columns)"
   ]
  },
  {
   "cell_type": "code",
   "execution_count": 25,
   "metadata": {},
   "outputs": [
    {
     "name": "stdout",
     "output_type": "stream",
     "text": [
      "<class 'pandas.core.frame.DataFrame'>\n",
      "RangeIndex: 3716 entries, 0 to 3715\n",
      "Data columns (total 28 columns):\n",
      " #   Column                     Non-Null Count  Dtype  \n",
      "---  ------                     --------------  -----  \n",
      " 0   Kilometers_Driven          3716 non-null   float64\n",
      " 1   Mileage                    3716 non-null   float64\n",
      " 2   Engine                     3716 non-null   float64\n",
      " 3   Power                      3716 non-null   float64\n",
      " 4   Seats                      3716 non-null   float64\n",
      " 5   Age                        3716 non-null   float64\n",
      " 6   Location_Ahmedabad         3716 non-null   float64\n",
      " 7   Location_Bangalore         3716 non-null   float64\n",
      " 8   Location_Chennai           3716 non-null   float64\n",
      " 9   Location_Coimbatore        3716 non-null   float64\n",
      " 10  Location_Delhi             3716 non-null   float64\n",
      " 11  Location_Hyderabad         3716 non-null   float64\n",
      " 12  Location_Jaipur            3716 non-null   float64\n",
      " 13  Location_Kochi             3716 non-null   float64\n",
      " 14  Location_Kolkata           3716 non-null   float64\n",
      " 15  Location_Mumbai            3716 non-null   float64\n",
      " 16  Location_Pune              3716 non-null   float64\n",
      " 17  Fuel_Type_CNG              3716 non-null   float64\n",
      " 18  Fuel_Type_Diesel           3716 non-null   float64\n",
      " 19  Fuel_Type_Electric         3716 non-null   float64\n",
      " 20  Fuel_Type_LPG              3716 non-null   float64\n",
      " 21  Fuel_Type_Petrol           3716 non-null   float64\n",
      " 22  Transmission_Automatic     3716 non-null   float64\n",
      " 23  Transmission_Manual        3716 non-null   float64\n",
      " 24  Owner_Type_First           3716 non-null   float64\n",
      " 25  Owner_Type_Fourth & Above  3716 non-null   float64\n",
      " 26  Owner_Type_Second          3716 non-null   float64\n",
      " 27  Owner_Type_Third           3716 non-null   float64\n",
      "dtypes: float64(28)\n",
      "memory usage: 813.0 KB\n"
     ]
    }
   ],
   "source": [
    "X_train.info()"
   ]
  },
  {
   "cell_type": "markdown",
   "metadata": {},
   "source": [
    "### 7. Train the model"
   ]
  },
  {
   "cell_type": "code",
   "execution_count": 26,
   "metadata": {},
   "outputs": [
    {
     "data": {
      "text/html": [
       "<table class=\"simpletable\">\n",
       "<caption>OLS Regression Results</caption>\n",
       "<tr>\n",
       "  <th>Dep. Variable:</th>          <td>Price</td>      <th>  R-squared:         </th> <td>   0.718</td> \n",
       "</tr>\n",
       "<tr>\n",
       "  <th>Model:</th>                   <td>OLS</td>       <th>  Adj. R-squared:    </th> <td>   0.717</td> \n",
       "</tr>\n",
       "<tr>\n",
       "  <th>Method:</th>             <td>Least Squares</td>  <th>  F-statistic:       </th> <td>   392.4</td> \n",
       "</tr>\n",
       "<tr>\n",
       "  <th>Date:</th>             <td>Fri, 29 Apr 2022</td> <th>  Prob (F-statistic):</th>  <td>  0.00</td>  \n",
       "</tr>\n",
       "<tr>\n",
       "  <th>Time:</th>                 <td>10:10:35</td>     <th>  Log-Likelihood:    </th> <td> -8060.4</td> \n",
       "</tr>\n",
       "<tr>\n",
       "  <th>No. Observations:</th>      <td>  3716</td>      <th>  AIC:               </th> <td>1.617e+04</td>\n",
       "</tr>\n",
       "<tr>\n",
       "  <th>Df Residuals:</th>          <td>  3691</td>      <th>  BIC:               </th> <td>1.633e+04</td>\n",
       "</tr>\n",
       "<tr>\n",
       "  <th>Df Model:</th>              <td>    24</td>      <th>                     </th>     <td> </td>    \n",
       "</tr>\n",
       "<tr>\n",
       "  <th>Covariance Type:</th>      <td>nonrobust</td>    <th>                     </th>     <td> </td>    \n",
       "</tr>\n",
       "</table>\n",
       "<table class=\"simpletable\">\n",
       "<tr>\n",
       "              <td></td>                 <th>coef</th>     <th>std err</th>      <th>t</th>      <th>P>|t|</th>  <th>[0.025</th>    <th>0.975]</th>  \n",
       "</tr>\n",
       "<tr>\n",
       "  <th>const</th>                     <td>    4.6388</td> <td>    0.358</td> <td>   12.972</td> <td> 0.000</td> <td>    3.938</td> <td>    5.340</td>\n",
       "</tr>\n",
       "<tr>\n",
       "  <th>Kilometers_Driven</th>         <td>   -6.0025</td> <td>    0.846</td> <td>   -7.095</td> <td> 0.000</td> <td>   -7.661</td> <td>   -4.344</td>\n",
       "</tr>\n",
       "<tr>\n",
       "  <th>Mileage</th>                   <td>   -4.9480</td> <td>    0.462</td> <td>  -10.708</td> <td> 0.000</td> <td>   -5.854</td> <td>   -4.042</td>\n",
       "</tr>\n",
       "<tr>\n",
       "  <th>Engine</th>                    <td>    8.4997</td> <td>    0.724</td> <td>   11.744</td> <td> 0.000</td> <td>    7.081</td> <td>    9.919</td>\n",
       "</tr>\n",
       "<tr>\n",
       "  <th>Power</th>                     <td>   10.0872</td> <td>    0.575</td> <td>   17.534</td> <td> 0.000</td> <td>    8.959</td> <td>   11.215</td>\n",
       "</tr>\n",
       "<tr>\n",
       "  <th>Seats</th>                     <td>   -1.5041</td> <td>    0.609</td> <td>   -2.470</td> <td> 0.014</td> <td>   -2.698</td> <td>   -0.310</td>\n",
       "</tr>\n",
       "<tr>\n",
       "  <th>Age</th>                       <td>  -10.6873</td> <td>    0.306</td> <td>  -34.896</td> <td> 0.000</td> <td>  -11.288</td> <td>  -10.087</td>\n",
       "</tr>\n",
       "<tr>\n",
       "  <th>Location_Ahmedabad</th>        <td>    0.7487</td> <td>    0.169</td> <td>    4.430</td> <td> 0.000</td> <td>    0.417</td> <td>    1.080</td>\n",
       "</tr>\n",
       "<tr>\n",
       "  <th>Location_Bangalore</th>        <td>    0.9713</td> <td>    0.144</td> <td>    6.725</td> <td> 0.000</td> <td>    0.688</td> <td>    1.255</td>\n",
       "</tr>\n",
       "<tr>\n",
       "  <th>Location_Chennai</th>          <td>    0.3899</td> <td>    0.122</td> <td>    3.206</td> <td> 0.001</td> <td>    0.151</td> <td>    0.628</td>\n",
       "</tr>\n",
       "<tr>\n",
       "  <th>Location_Coimbatore</th>       <td>    1.1160</td> <td>    0.117</td> <td>    9.553</td> <td> 0.000</td> <td>    0.887</td> <td>    1.345</td>\n",
       "</tr>\n",
       "<tr>\n",
       "  <th>Location_Delhi</th>            <td>    0.0452</td> <td>    0.116</td> <td>    0.390</td> <td> 0.697</td> <td>   -0.182</td> <td>    0.272</td>\n",
       "</tr>\n",
       "<tr>\n",
       "  <th>Location_Hyderabad</th>        <td>    0.7944</td> <td>    0.105</td> <td>    7.569</td> <td> 0.000</td> <td>    0.589</td> <td>    1.000</td>\n",
       "</tr>\n",
       "<tr>\n",
       "  <th>Location_Jaipur</th>           <td>    0.3258</td> <td>    0.129</td> <td>    2.520</td> <td> 0.012</td> <td>    0.072</td> <td>    0.579</td>\n",
       "</tr>\n",
       "<tr>\n",
       "  <th>Location_Kochi</th>            <td>    0.3873</td> <td>    0.112</td> <td>    3.470</td> <td> 0.001</td> <td>    0.168</td> <td>    0.606</td>\n",
       "</tr>\n",
       "<tr>\n",
       "  <th>Location_Kolkata</th>          <td>   -0.6207</td> <td>    0.117</td> <td>   -5.323</td> <td> 0.000</td> <td>   -0.849</td> <td>   -0.392</td>\n",
       "</tr>\n",
       "<tr>\n",
       "  <th>Location_Mumbai</th>           <td>    0.1381</td> <td>    0.103</td> <td>    1.337</td> <td> 0.181</td> <td>   -0.064</td> <td>    0.341</td>\n",
       "</tr>\n",
       "<tr>\n",
       "  <th>Location_Pune</th>             <td>    0.3429</td> <td>    0.107</td> <td>    3.200</td> <td> 0.001</td> <td>    0.133</td> <td>    0.553</td>\n",
       "</tr>\n",
       "<tr>\n",
       "  <th>Fuel_Type_CNG</th>             <td>   -0.3728</td> <td>    0.512</td> <td>   -0.729</td> <td> 0.466</td> <td>   -1.376</td> <td>    0.630</td>\n",
       "</tr>\n",
       "<tr>\n",
       "  <th>Fuel_Type_Diesel</th>          <td>    0.1698</td> <td>    0.430</td> <td>    0.395</td> <td> 0.693</td> <td>   -0.674</td> <td>    1.013</td>\n",
       "</tr>\n",
       "<tr>\n",
       "  <th>Fuel_Type_Electric</th>        <td>    7.4471</td> <td>    1.759</td> <td>    4.234</td> <td> 0.000</td> <td>    3.999</td> <td>   10.896</td>\n",
       "</tr>\n",
       "<tr>\n",
       "  <th>Fuel_Type_LPG</th>             <td>   -0.9763</td> <td>    0.733</td> <td>   -1.332</td> <td> 0.183</td> <td>   -2.414</td> <td>    0.461</td>\n",
       "</tr>\n",
       "<tr>\n",
       "  <th>Fuel_Type_Petrol</th>          <td>   -1.6290</td> <td>    0.417</td> <td>   -3.904</td> <td> 0.000</td> <td>   -2.447</td> <td>   -0.811</td>\n",
       "</tr>\n",
       "<tr>\n",
       "  <th>Transmission_Automatic</th>    <td>    3.3358</td> <td>    0.183</td> <td>   18.214</td> <td> 0.000</td> <td>    2.977</td> <td>    3.695</td>\n",
       "</tr>\n",
       "<tr>\n",
       "  <th>Transmission_Manual</th>       <td>    1.3030</td> <td>    0.190</td> <td>    6.864</td> <td> 0.000</td> <td>    0.931</td> <td>    1.675</td>\n",
       "</tr>\n",
       "<tr>\n",
       "  <th>Owner_Type_First</th>          <td>    1.4633</td> <td>    0.238</td> <td>    6.141</td> <td> 0.000</td> <td>    0.996</td> <td>    1.930</td>\n",
       "</tr>\n",
       "<tr>\n",
       "  <th>Owner_Type_Fourth & Above</th> <td>    0.9064</td> <td>    0.750</td> <td>    1.209</td> <td> 0.227</td> <td>   -0.563</td> <td>    2.376</td>\n",
       "</tr>\n",
       "<tr>\n",
       "  <th>Owner_Type_Second</th>         <td>    1.2309</td> <td>    0.242</td> <td>    5.087</td> <td> 0.000</td> <td>    0.756</td> <td>    1.705</td>\n",
       "</tr>\n",
       "<tr>\n",
       "  <th>Owner_Type_Third</th>          <td>    1.0383</td> <td>    0.297</td> <td>    3.498</td> <td> 0.000</td> <td>    0.456</td> <td>    1.620</td>\n",
       "</tr>\n",
       "</table>\n",
       "<table class=\"simpletable\">\n",
       "<tr>\n",
       "  <th>Omnibus:</th>       <td>518.613</td> <th>  Durbin-Watson:     </th> <td>   1.988</td>\n",
       "</tr>\n",
       "<tr>\n",
       "  <th>Prob(Omnibus):</th> <td> 0.000</td>  <th>  Jarque-Bera (JB):  </th> <td>1707.652</td>\n",
       "</tr>\n",
       "<tr>\n",
       "  <th>Skew:</th>          <td> 0.701</td>  <th>  Prob(JB):          </th> <td>    0.00</td>\n",
       "</tr>\n",
       "<tr>\n",
       "  <th>Kurtosis:</th>      <td> 6.011</td>  <th>  Cond. No.          </th> <td>1.17e+16</td>\n",
       "</tr>\n",
       "</table><br/><br/>Notes:<br/>[1] Standard Errors assume that the covariance matrix of the errors is correctly specified.<br/>[2] The smallest eigenvalue is 1.05e-28. This might indicate that there are<br/>strong multicollinearity problems or that the design matrix is singular."
      ],
      "text/plain": [
       "<class 'statsmodels.iolib.summary.Summary'>\n",
       "\"\"\"\n",
       "                            OLS Regression Results                            \n",
       "==============================================================================\n",
       "Dep. Variable:                  Price   R-squared:                       0.718\n",
       "Model:                            OLS   Adj. R-squared:                  0.717\n",
       "Method:                 Least Squares   F-statistic:                     392.4\n",
       "Date:                Fri, 29 Apr 2022   Prob (F-statistic):               0.00\n",
       "Time:                        10:10:35   Log-Likelihood:                -8060.4\n",
       "No. Observations:                3716   AIC:                         1.617e+04\n",
       "Df Residuals:                    3691   BIC:                         1.633e+04\n",
       "Df Model:                          24                                         \n",
       "Covariance Type:            nonrobust                                         \n",
       "=============================================================================================\n",
       "                                coef    std err          t      P>|t|      [0.025      0.975]\n",
       "---------------------------------------------------------------------------------------------\n",
       "const                         4.6388      0.358     12.972      0.000       3.938       5.340\n",
       "Kilometers_Driven            -6.0025      0.846     -7.095      0.000      -7.661      -4.344\n",
       "Mileage                      -4.9480      0.462    -10.708      0.000      -5.854      -4.042\n",
       "Engine                        8.4997      0.724     11.744      0.000       7.081       9.919\n",
       "Power                        10.0872      0.575     17.534      0.000       8.959      11.215\n",
       "Seats                        -1.5041      0.609     -2.470      0.014      -2.698      -0.310\n",
       "Age                         -10.6873      0.306    -34.896      0.000     -11.288     -10.087\n",
       "Location_Ahmedabad            0.7487      0.169      4.430      0.000       0.417       1.080\n",
       "Location_Bangalore            0.9713      0.144      6.725      0.000       0.688       1.255\n",
       "Location_Chennai              0.3899      0.122      3.206      0.001       0.151       0.628\n",
       "Location_Coimbatore           1.1160      0.117      9.553      0.000       0.887       1.345\n",
       "Location_Delhi                0.0452      0.116      0.390      0.697      -0.182       0.272\n",
       "Location_Hyderabad            0.7944      0.105      7.569      0.000       0.589       1.000\n",
       "Location_Jaipur               0.3258      0.129      2.520      0.012       0.072       0.579\n",
       "Location_Kochi                0.3873      0.112      3.470      0.001       0.168       0.606\n",
       "Location_Kolkata             -0.6207      0.117     -5.323      0.000      -0.849      -0.392\n",
       "Location_Mumbai               0.1381      0.103      1.337      0.181      -0.064       0.341\n",
       "Location_Pune                 0.3429      0.107      3.200      0.001       0.133       0.553\n",
       "Fuel_Type_CNG                -0.3728      0.512     -0.729      0.466      -1.376       0.630\n",
       "Fuel_Type_Diesel              0.1698      0.430      0.395      0.693      -0.674       1.013\n",
       "Fuel_Type_Electric            7.4471      1.759      4.234      0.000       3.999      10.896\n",
       "Fuel_Type_LPG                -0.9763      0.733     -1.332      0.183      -2.414       0.461\n",
       "Fuel_Type_Petrol             -1.6290      0.417     -3.904      0.000      -2.447      -0.811\n",
       "Transmission_Automatic        3.3358      0.183     18.214      0.000       2.977       3.695\n",
       "Transmission_Manual           1.3030      0.190      6.864      0.000       0.931       1.675\n",
       "Owner_Type_First              1.4633      0.238      6.141      0.000       0.996       1.930\n",
       "Owner_Type_Fourth & Above     0.9064      0.750      1.209      0.227      -0.563       2.376\n",
       "Owner_Type_Second             1.2309      0.242      5.087      0.000       0.756       1.705\n",
       "Owner_Type_Third              1.0383      0.297      3.498      0.000       0.456       1.620\n",
       "==============================================================================\n",
       "Omnibus:                      518.613   Durbin-Watson:                   1.988\n",
       "Prob(Omnibus):                  0.000   Jarque-Bera (JB):             1707.652\n",
       "Skew:                           0.701   Prob(JB):                         0.00\n",
       "Kurtosis:                       6.011   Cond. No.                     1.17e+16\n",
       "==============================================================================\n",
       "\n",
       "Notes:\n",
       "[1] Standard Errors assume that the covariance matrix of the errors is correctly specified.\n",
       "[2] The smallest eigenvalue is 1.05e-28. This might indicate that there are\n",
       "strong multicollinearity problems or that the design matrix is singular.\n",
       "\"\"\""
      ]
     },
     "metadata": {},
     "output_type": "display_data"
    }
   ],
   "source": [
    "# fit the model\n",
    "X = sm.add_constant(X_train)\n",
    "y = y_train.reset_index(drop=True)\n",
    "    \n",
    "lr = sm.OLS(y, X).fit()\n",
    "\n",
    "display(lr.summary())"
   ]
  },
  {
   "cell_type": "code",
   "execution_count": 27,
   "metadata": {},
   "outputs": [
    {
     "name": "stdout",
     "output_type": "stream",
     "text": [
      "3.9907942887356334\n"
     ]
    }
   ],
   "source": [
    "# get RMSE of the model\n",
    "mse = lr.mse_total\n",
    "rmse = np.sqrt(mse)\n",
    "print(rmse)"
   ]
  },
  {
   "cell_type": "markdown",
   "metadata": {},
   "source": [
    "### 8. Test the model: DIY\n",
    "8.1 Repeat the same processing steps on the test set <br>\n",
    "8.2 Using the trained model to predict the price on the test set <br>\n",
    "8.3 Report RMSE"
   ]
  },
  {
   "cell_type": "code",
   "execution_count": 28,
   "metadata": {},
   "outputs": [],
   "source": [
    "# 8.1 repeat the  processing steps\n",
    "## missing data imputation\n",
    "## year to age transformation\n",
    "## categorical transformation\n",
    "## min-max scaling\n",
    "\n",
    "\n",
    "\n",
    "\n"
   ]
  },
  {
   "cell_type": "code",
   "execution_count": 29,
   "metadata": {},
   "outputs": [],
   "source": [
    "# 8.2 apply the trained model on the test set\n",
    "\n",
    "\n",
    "\n",
    "\n",
    "\n"
   ]
  },
  {
   "cell_type": "code",
   "execution_count": 30,
   "metadata": {},
   "outputs": [],
   "source": [
    "# 8.3 Report RMSE \n",
    "# print('Test RMSE: ', mean_squared_error(y_test, tst_pred, squared=False))\n",
    "\n",
    "\n",
    "\n",
    "\n",
    "\n"
   ]
  }
 ],
 "metadata": {
  "kernelspec": {
   "display_name": "Python 3",
   "language": "python",
   "name": "python3"
  },
  "language_info": {
   "codemirror_mode": {
    "name": "ipython",
    "version": 3
   },
   "file_extension": ".py",
   "mimetype": "text/x-python",
   "name": "python",
   "nbconvert_exporter": "python",
   "pygments_lexer": "ipython3",
   "version": "3.8.5"
  }
 },
 "nbformat": 4,
 "nbformat_minor": 4
}
