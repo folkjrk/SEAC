{
 "cells": [
  {
   "cell_type": "markdown",
   "metadata": {},
   "source": [
    "## Predictive modeling \n",
    "### Week 5: Regularization"
   ]
  },
  {
   "cell_type": "code",
   "execution_count": 1,
   "metadata": {},
   "outputs": [],
   "source": [
    "# libraries\n",
    "import pandas as pd # process dataframe\n",
    "import numpy as np # scientific calculation\n",
    "import seaborn as sns # visualization complete stastistics\n",
    "import matplotlib.pyplot as plt # visualization\n",
    "from sklearn.model_selection import train_test_split # train test split\n",
    "from sklearn.preprocessing import MinMaxScaler # load scaler from sklearn\n",
    "from sklearn.metrics import mean_squared_error # mse \n",
    "import missingno as msno # miss data visuals\n",
    "\n",
    "import statsmodels.api as sm # statsmodels to build regression model"
   ]
  },
  {
   "cell_type": "markdown",
   "metadata": {},
   "source": [
    "### 0. Dataset and some cleansing job"
   ]
  },
  {
   "cell_type": "code",
   "execution_count": 2,
   "metadata": {},
   "outputs": [
    {
     "name": "stdout",
     "output_type": "stream",
     "text": [
      "Training set size:  4213\n",
      "Test set size:  1806\n"
     ]
    }
   ],
   "source": [
    "data = pd.read_csv('../cars_dataset/train-data.csv')\n",
    "train_0 = data.drop(columns=['Unnamed: 0', 'New_Price'])\n",
    "\n",
    "# strings to float transformation\n",
    "train_0['Mileage'] = train_0['Mileage']\\\n",
    "    .str.replace('km/kg','').str.replace('kmpl','').astype(float)\n",
    "train_0['Engine'] = train_0['Engine'].str.replace('CC','').astype(float)\n",
    "train_0['Power'] = train_0['Power']\\\n",
    "    .str.replace('bhp','').str.replace('null', '0').fillna('0').astype(float)\n",
    "\n",
    "# perform train test split \n",
    "X_all = train_0.drop(columns=['Price'])\n",
    "y_all = train_0[['Price']]\n",
    "\n",
    "X_train, X_test, y_train, y_test = train_test_split(X_all, y_all, \n",
    "                                                    test_size=0.3, \n",
    "                                                    random_state=42)\n",
    "\n",
    "# check data size \n",
    "print('Training set size: ', len(X_train)) # 70% of total data\n",
    "print('Test set size: ', len(X_test)) # 30% of total data"
   ]
  },
  {
   "cell_type": "markdown",
   "metadata": {},
   "source": [
    "### 1. Data processing"
   ]
  },
  {
   "cell_type": "code",
   "execution_count": 3,
   "metadata": {},
   "outputs": [],
   "source": [
    "# Tukey's method\n",
    "def tukeys_method(df, variable, q_range=1.5):\n",
    "    #Takes two parameters: dataframe & variable of interest as string\n",
    "    q1 = df[variable].quantile(0.25)\n",
    "    q3 = df[variable].quantile(0.75)\n",
    "    iqr = q3-q1\n",
    "    inner_fence = q_range*iqr\n",
    "    \n",
    "    #inner fence lower and upper end\n",
    "    inner_fence_le = q1-inner_fence\n",
    "    inner_fence_ue = q3+inner_fence\n",
    "    \n",
    "    outliers_poss = []\n",
    "    \n",
    "    for index, x in enumerate(df[variable]):\n",
    "        if x <= inner_fence_le or x >= inner_fence_ue:\n",
    "            outliers_poss.append(index)\n",
    "    return outliers_poss, inner_fence_le, inner_fence_ue "
   ]
  },
  {
   "cell_type": "markdown",
   "metadata": {},
   "source": [
    "#### 1.1 Training data"
   ]
  },
  {
   "cell_type": "code",
   "execution_count": 4,
   "metadata": {},
   "outputs": [
    {
     "name": "stdout",
     "output_type": "stream",
     "text": [
      "Lower limit:  -6.100000000000001\n",
      "Upper limit:  19.5\n",
      "<class 'pandas.core.frame.DataFrame'>\n",
      "RangeIndex: 3716 entries, 0 to 3715\n",
      "Data columns (total 28 columns):\n",
      " #   Column                     Non-Null Count  Dtype  \n",
      "---  ------                     --------------  -----  \n",
      " 0   Kilometers_Driven          3716 non-null   float64\n",
      " 1   Mileage                    3716 non-null   float64\n",
      " 2   Engine                     3716 non-null   float64\n",
      " 3   Power                      3716 non-null   float64\n",
      " 4   Seats                      3716 non-null   float64\n",
      " 5   Age                        3716 non-null   float64\n",
      " 6   Location_Ahmedabad         3716 non-null   float64\n",
      " 7   Location_Bangalore         3716 non-null   float64\n",
      " 8   Location_Chennai           3716 non-null   float64\n",
      " 9   Location_Coimbatore        3716 non-null   float64\n",
      " 10  Location_Delhi             3716 non-null   float64\n",
      " 11  Location_Hyderabad         3716 non-null   float64\n",
      " 12  Location_Jaipur            3716 non-null   float64\n",
      " 13  Location_Kochi             3716 non-null   float64\n",
      " 14  Location_Kolkata           3716 non-null   float64\n",
      " 15  Location_Mumbai            3716 non-null   float64\n",
      " 16  Location_Pune              3716 non-null   float64\n",
      " 17  Fuel_Type_CNG              3716 non-null   float64\n",
      " 18  Fuel_Type_Diesel           3716 non-null   float64\n",
      " 19  Fuel_Type_Electric         3716 non-null   float64\n",
      " 20  Fuel_Type_LPG              3716 non-null   float64\n",
      " 21  Fuel_Type_Petrol           3716 non-null   float64\n",
      " 22  Transmission_Automatic     3716 non-null   float64\n",
      " 23  Transmission_Manual        3716 non-null   float64\n",
      " 24  Owner_Type_First           3716 non-null   float64\n",
      " 25  Owner_Type_Fourth & Above  3716 non-null   float64\n",
      " 26  Owner_Type_Second          3716 non-null   float64\n",
      " 27  Owner_Type_Third           3716 non-null   float64\n",
      "dtypes: float64(28)\n",
      "memory usage: 813.0 KB\n"
     ]
    }
   ],
   "source": [
    "X_train_1 = X_train.copy()\n",
    "\n",
    "# outliers removal \n",
    "outlier_indices, lower_limit, upper_limit = tukeys_method(y_train,'Price')\n",
    "print('Lower limit: ', lower_limit)\n",
    "print('Upper limit: ', upper_limit)\n",
    "\n",
    "y_train_ul = y_train[y_train['Price']>upper_limit]\n",
    "X_train_1 = X_train_1.drop(index=y_train_ul.index)\n",
    "y_train_1 = y_train.drop(index=y_train_ul.index)\n",
    "\n",
    "# missing data treatment\n",
    "X_train_1['Mileage'] = X_train_1['Mileage'].fillna(X_train_1['Mileage'].mean())\n",
    "X_train_1['Engine'] = X_train_1['Engine'].fillna(X_train_1['Engine'].median())\n",
    "X_train_1['Seats'] = X_train_1['Seats'].fillna(int(X_train_1['Seats'].mode()))\n",
    "\n",
    "# year transformation\n",
    "X_train_1['Age'] = 2021 - X_train_1['Year']\n",
    "X_train_1 = X_train_1.drop(columns=['Year'])\n",
    "\n",
    "# categorical encoding\n",
    "Location_enc = pd.get_dummies(X_train_1[['Location']])\n",
    "Fuel_Type_enc = pd.get_dummies(X_train_1[['Fuel_Type']])\n",
    "Transmission_enc = pd.get_dummies(X_train_1[['Transmission']])\n",
    "Owner_Type_enc = pd.get_dummies(X_train_1[['Owner_Type']])\n",
    "X_train_1 = X_train_1.drop(columns=['Location', 'Fuel_Type', 'Transmission', 'Owner_Type'])\n",
    "X_train_1 = pd.concat([X_train_1, Location_enc, Fuel_Type_enc, Transmission_enc, Owner_Type_enc], axis=1)\n",
    "\n",
    "# define data to be scaled \n",
    "x = X_train_1.drop(columns=['Name'])\n",
    "\n",
    "scaler = MinMaxScaler() # instantiate the scaler\n",
    "scaler_fit = scaler.fit(x) # fit the scaler on the data\n",
    "x_sc = scaler_fit.transform(x) # tranform the data using the fitted scaler\n",
    "X_train_1 = pd.DataFrame(x_sc, columns=x.columns)\n",
    "X_train_1.info()"
   ]
  },
  {
   "cell_type": "markdown",
   "metadata": {},
   "source": [
    "#### 1.2 Test data"
   ]
  },
  {
   "cell_type": "code",
   "execution_count": 5,
   "metadata": {},
   "outputs": [
    {
     "name": "stdout",
     "output_type": "stream",
     "text": [
      "<class 'pandas.core.frame.DataFrame'>\n",
      "RangeIndex: 1806 entries, 0 to 1805\n",
      "Data columns (total 28 columns):\n",
      " #   Column                     Non-Null Count  Dtype  \n",
      "---  ------                     --------------  -----  \n",
      " 0   Kilometers_Driven          1806 non-null   float64\n",
      " 1   Mileage                    1806 non-null   float64\n",
      " 2   Engine                     1806 non-null   float64\n",
      " 3   Power                      1806 non-null   float64\n",
      " 4   Seats                      1806 non-null   float64\n",
      " 5   Age                        1806 non-null   float64\n",
      " 6   Location_Ahmedabad         1806 non-null   float64\n",
      " 7   Location_Bangalore         1806 non-null   float64\n",
      " 8   Location_Chennai           1806 non-null   float64\n",
      " 9   Location_Coimbatore        1806 non-null   float64\n",
      " 10  Location_Delhi             1806 non-null   float64\n",
      " 11  Location_Hyderabad         1806 non-null   float64\n",
      " 12  Location_Jaipur            1806 non-null   float64\n",
      " 13  Location_Kochi             1806 non-null   float64\n",
      " 14  Location_Kolkata           1806 non-null   float64\n",
      " 15  Location_Mumbai            1806 non-null   float64\n",
      " 16  Location_Pune              1806 non-null   float64\n",
      " 17  Fuel_Type_CNG              1806 non-null   float64\n",
      " 18  Fuel_Type_Diesel           1806 non-null   float64\n",
      " 19  Fuel_Type_Electric         1806 non-null   float64\n",
      " 20  Fuel_Type_LPG              1806 non-null   float64\n",
      " 21  Fuel_Type_Petrol           1806 non-null   float64\n",
      " 22  Transmission_Automatic     1806 non-null   float64\n",
      " 23  Transmission_Manual        1806 non-null   float64\n",
      " 24  Owner_Type_First           1806 non-null   float64\n",
      " 25  Owner_Type_Fourth & Above  1806 non-null   float64\n",
      " 26  Owner_Type_Second          1806 non-null   float64\n",
      " 27  Owner_Type_Third           1806 non-null   float64\n",
      "dtypes: float64(28)\n",
      "memory usage: 395.2 KB\n"
     ]
    }
   ],
   "source": [
    "X_test_1 = X_test.copy()\n",
    "## missing data imputation\n",
    "X_test_1['Mileage'] = X_test_1['Mileage'].fillna(X_test_1['Mileage'].mean())\n",
    "X_test_1['Engine'] = X_test_1['Engine'].fillna(X_test_1['Engine'].median())\n",
    "X_test_1['Seats'] = X_test_1['Seats'].fillna(int(X_test_1['Seats'].mode()))\n",
    "\n",
    "## year to age transformation\n",
    "X_test_1['Age'] = 2021 - X_test_1['Year']\n",
    "X_test_1 = X_test_1.drop(columns=['Year'])\n",
    "\n",
    "## categorical transformation\n",
    "# encoding\n",
    "Location_enc = pd.get_dummies(X_test_1[['Location']])\n",
    "Fuel_Type_enc = pd.get_dummies(X_test_1[['Fuel_Type']])\n",
    "Transmission_enc = pd.get_dummies(X_test_1[['Transmission']])\n",
    "Owner_Type_enc = pd.get_dummies(X_test_1[['Owner_Type']])\n",
    "\n",
    "# adding them back the test data \n",
    "X_test_1 = X_test_1.drop(columns=['Location', 'Fuel_Type', 'Transmission', 'Owner_Type'])\n",
    "X_test_1 = pd.concat([X_test_1, Location_enc, Fuel_Type_enc, Transmission_enc, Owner_Type_enc], axis=1)\n",
    "\n",
    "## min-max scaling\n",
    "# define data to be scaled \n",
    "x = X_test_1.drop(columns=['Name'])\n",
    "X_test_1_sc = scaler_fit.transform(x) # tranform the data using the fitted scaler\n",
    "X_test_1 = pd.DataFrame(X_test_1_sc, columns=x.columns)\n",
    "X_test_1.info()"
   ]
  },
  {
   "cell_type": "markdown",
   "metadata": {},
   "source": [
    "### 2. Model fitting"
   ]
  },
  {
   "cell_type": "code",
   "execution_count": 6,
   "metadata": {},
   "outputs": [
    {
     "data": {
      "text/html": [
       "<table class=\"simpletable\">\n",
       "<caption>OLS Regression Results</caption>\n",
       "<tr>\n",
       "  <th>Dep. Variable:</th>          <td>Price</td>      <th>  R-squared:         </th> <td>   0.718</td> \n",
       "</tr>\n",
       "<tr>\n",
       "  <th>Model:</th>                   <td>OLS</td>       <th>  Adj. R-squared:    </th> <td>   0.717</td> \n",
       "</tr>\n",
       "<tr>\n",
       "  <th>Method:</th>             <td>Least Squares</td>  <th>  F-statistic:       </th> <td>   392.4</td> \n",
       "</tr>\n",
       "<tr>\n",
       "  <th>Date:</th>             <td>Fri, 06 May 2022</td> <th>  Prob (F-statistic):</th>  <td>  0.00</td>  \n",
       "</tr>\n",
       "<tr>\n",
       "  <th>Time:</th>                 <td>16:55:04</td>     <th>  Log-Likelihood:    </th> <td> -8060.4</td> \n",
       "</tr>\n",
       "<tr>\n",
       "  <th>No. Observations:</th>      <td>  3716</td>      <th>  AIC:               </th> <td>1.617e+04</td>\n",
       "</tr>\n",
       "<tr>\n",
       "  <th>Df Residuals:</th>          <td>  3691</td>      <th>  BIC:               </th> <td>1.633e+04</td>\n",
       "</tr>\n",
       "<tr>\n",
       "  <th>Df Model:</th>              <td>    24</td>      <th>                     </th>     <td> </td>    \n",
       "</tr>\n",
       "<tr>\n",
       "  <th>Covariance Type:</th>      <td>nonrobust</td>    <th>                     </th>     <td> </td>    \n",
       "</tr>\n",
       "</table>\n",
       "<table class=\"simpletable\">\n",
       "<tr>\n",
       "              <td></td>                 <th>coef</th>     <th>std err</th>      <th>t</th>      <th>P>|t|</th>  <th>[0.025</th>    <th>0.975]</th>  \n",
       "</tr>\n",
       "<tr>\n",
       "  <th>const</th>                     <td>    4.6388</td> <td>    0.358</td> <td>   12.972</td> <td> 0.000</td> <td>    3.938</td> <td>    5.340</td>\n",
       "</tr>\n",
       "<tr>\n",
       "  <th>Kilometers_Driven</th>         <td>   -6.0025</td> <td>    0.846</td> <td>   -7.095</td> <td> 0.000</td> <td>   -7.661</td> <td>   -4.344</td>\n",
       "</tr>\n",
       "<tr>\n",
       "  <th>Mileage</th>                   <td>   -4.9480</td> <td>    0.462</td> <td>  -10.708</td> <td> 0.000</td> <td>   -5.854</td> <td>   -4.042</td>\n",
       "</tr>\n",
       "<tr>\n",
       "  <th>Engine</th>                    <td>    8.4997</td> <td>    0.724</td> <td>   11.744</td> <td> 0.000</td> <td>    7.081</td> <td>    9.919</td>\n",
       "</tr>\n",
       "<tr>\n",
       "  <th>Power</th>                     <td>   10.0872</td> <td>    0.575</td> <td>   17.534</td> <td> 0.000</td> <td>    8.959</td> <td>   11.215</td>\n",
       "</tr>\n",
       "<tr>\n",
       "  <th>Seats</th>                     <td>   -1.5041</td> <td>    0.609</td> <td>   -2.470</td> <td> 0.014</td> <td>   -2.698</td> <td>   -0.310</td>\n",
       "</tr>\n",
       "<tr>\n",
       "  <th>Age</th>                       <td>  -10.6873</td> <td>    0.306</td> <td>  -34.896</td> <td> 0.000</td> <td>  -11.288</td> <td>  -10.087</td>\n",
       "</tr>\n",
       "<tr>\n",
       "  <th>Location_Ahmedabad</th>        <td>    0.7487</td> <td>    0.169</td> <td>    4.430</td> <td> 0.000</td> <td>    0.417</td> <td>    1.080</td>\n",
       "</tr>\n",
       "<tr>\n",
       "  <th>Location_Bangalore</th>        <td>    0.9713</td> <td>    0.144</td> <td>    6.725</td> <td> 0.000</td> <td>    0.688</td> <td>    1.255</td>\n",
       "</tr>\n",
       "<tr>\n",
       "  <th>Location_Chennai</th>          <td>    0.3899</td> <td>    0.122</td> <td>    3.206</td> <td> 0.001</td> <td>    0.151</td> <td>    0.628</td>\n",
       "</tr>\n",
       "<tr>\n",
       "  <th>Location_Coimbatore</th>       <td>    1.1160</td> <td>    0.117</td> <td>    9.553</td> <td> 0.000</td> <td>    0.887</td> <td>    1.345</td>\n",
       "</tr>\n",
       "<tr>\n",
       "  <th>Location_Delhi</th>            <td>    0.0452</td> <td>    0.116</td> <td>    0.390</td> <td> 0.697</td> <td>   -0.182</td> <td>    0.272</td>\n",
       "</tr>\n",
       "<tr>\n",
       "  <th>Location_Hyderabad</th>        <td>    0.7944</td> <td>    0.105</td> <td>    7.569</td> <td> 0.000</td> <td>    0.589</td> <td>    1.000</td>\n",
       "</tr>\n",
       "<tr>\n",
       "  <th>Location_Jaipur</th>           <td>    0.3258</td> <td>    0.129</td> <td>    2.520</td> <td> 0.012</td> <td>    0.072</td> <td>    0.579</td>\n",
       "</tr>\n",
       "<tr>\n",
       "  <th>Location_Kochi</th>            <td>    0.3873</td> <td>    0.112</td> <td>    3.470</td> <td> 0.001</td> <td>    0.168</td> <td>    0.606</td>\n",
       "</tr>\n",
       "<tr>\n",
       "  <th>Location_Kolkata</th>          <td>   -0.6207</td> <td>    0.117</td> <td>   -5.323</td> <td> 0.000</td> <td>   -0.849</td> <td>   -0.392</td>\n",
       "</tr>\n",
       "<tr>\n",
       "  <th>Location_Mumbai</th>           <td>    0.1381</td> <td>    0.103</td> <td>    1.337</td> <td> 0.181</td> <td>   -0.064</td> <td>    0.341</td>\n",
       "</tr>\n",
       "<tr>\n",
       "  <th>Location_Pune</th>             <td>    0.3429</td> <td>    0.107</td> <td>    3.200</td> <td> 0.001</td> <td>    0.133</td> <td>    0.553</td>\n",
       "</tr>\n",
       "<tr>\n",
       "  <th>Fuel_Type_CNG</th>             <td>   -0.3728</td> <td>    0.512</td> <td>   -0.729</td> <td> 0.466</td> <td>   -1.376</td> <td>    0.630</td>\n",
       "</tr>\n",
       "<tr>\n",
       "  <th>Fuel_Type_Diesel</th>          <td>    0.1698</td> <td>    0.430</td> <td>    0.395</td> <td> 0.693</td> <td>   -0.674</td> <td>    1.013</td>\n",
       "</tr>\n",
       "<tr>\n",
       "  <th>Fuel_Type_Electric</th>        <td>    7.4471</td> <td>    1.759</td> <td>    4.234</td> <td> 0.000</td> <td>    3.999</td> <td>   10.896</td>\n",
       "</tr>\n",
       "<tr>\n",
       "  <th>Fuel_Type_LPG</th>             <td>   -0.9763</td> <td>    0.733</td> <td>   -1.332</td> <td> 0.183</td> <td>   -2.414</td> <td>    0.461</td>\n",
       "</tr>\n",
       "<tr>\n",
       "  <th>Fuel_Type_Petrol</th>          <td>   -1.6290</td> <td>    0.417</td> <td>   -3.904</td> <td> 0.000</td> <td>   -2.447</td> <td>   -0.811</td>\n",
       "</tr>\n",
       "<tr>\n",
       "  <th>Transmission_Automatic</th>    <td>    3.3358</td> <td>    0.183</td> <td>   18.214</td> <td> 0.000</td> <td>    2.977</td> <td>    3.695</td>\n",
       "</tr>\n",
       "<tr>\n",
       "  <th>Transmission_Manual</th>       <td>    1.3030</td> <td>    0.190</td> <td>    6.864</td> <td> 0.000</td> <td>    0.931</td> <td>    1.675</td>\n",
       "</tr>\n",
       "<tr>\n",
       "  <th>Owner_Type_First</th>          <td>    1.4633</td> <td>    0.238</td> <td>    6.141</td> <td> 0.000</td> <td>    0.996</td> <td>    1.930</td>\n",
       "</tr>\n",
       "<tr>\n",
       "  <th>Owner_Type_Fourth & Above</th> <td>    0.9064</td> <td>    0.750</td> <td>    1.209</td> <td> 0.227</td> <td>   -0.563</td> <td>    2.376</td>\n",
       "</tr>\n",
       "<tr>\n",
       "  <th>Owner_Type_Second</th>         <td>    1.2309</td> <td>    0.242</td> <td>    5.087</td> <td> 0.000</td> <td>    0.756</td> <td>    1.705</td>\n",
       "</tr>\n",
       "<tr>\n",
       "  <th>Owner_Type_Third</th>          <td>    1.0383</td> <td>    0.297</td> <td>    3.498</td> <td> 0.000</td> <td>    0.456</td> <td>    1.620</td>\n",
       "</tr>\n",
       "</table>\n",
       "<table class=\"simpletable\">\n",
       "<tr>\n",
       "  <th>Omnibus:</th>       <td>518.613</td> <th>  Durbin-Watson:     </th> <td>   1.988</td>\n",
       "</tr>\n",
       "<tr>\n",
       "  <th>Prob(Omnibus):</th> <td> 0.000</td>  <th>  Jarque-Bera (JB):  </th> <td>1707.652</td>\n",
       "</tr>\n",
       "<tr>\n",
       "  <th>Skew:</th>          <td> 0.701</td>  <th>  Prob(JB):          </th> <td>    0.00</td>\n",
       "</tr>\n",
       "<tr>\n",
       "  <th>Kurtosis:</th>      <td> 6.011</td>  <th>  Cond. No.          </th> <td>1.17e+16</td>\n",
       "</tr>\n",
       "</table><br/><br/>Notes:<br/>[1] Standard Errors assume that the covariance matrix of the errors is correctly specified.<br/>[2] The smallest eigenvalue is 1.05e-28. This might indicate that there are<br/>strong multicollinearity problems or that the design matrix is singular."
      ],
      "text/plain": [
       "<class 'statsmodels.iolib.summary.Summary'>\n",
       "\"\"\"\n",
       "                            OLS Regression Results                            \n",
       "==============================================================================\n",
       "Dep. Variable:                  Price   R-squared:                       0.718\n",
       "Model:                            OLS   Adj. R-squared:                  0.717\n",
       "Method:                 Least Squares   F-statistic:                     392.4\n",
       "Date:                Fri, 06 May 2022   Prob (F-statistic):               0.00\n",
       "Time:                        16:55:04   Log-Likelihood:                -8060.4\n",
       "No. Observations:                3716   AIC:                         1.617e+04\n",
       "Df Residuals:                    3691   BIC:                         1.633e+04\n",
       "Df Model:                          24                                         \n",
       "Covariance Type:            nonrobust                                         \n",
       "=============================================================================================\n",
       "                                coef    std err          t      P>|t|      [0.025      0.975]\n",
       "---------------------------------------------------------------------------------------------\n",
       "const                         4.6388      0.358     12.972      0.000       3.938       5.340\n",
       "Kilometers_Driven            -6.0025      0.846     -7.095      0.000      -7.661      -4.344\n",
       "Mileage                      -4.9480      0.462    -10.708      0.000      -5.854      -4.042\n",
       "Engine                        8.4997      0.724     11.744      0.000       7.081       9.919\n",
       "Power                        10.0872      0.575     17.534      0.000       8.959      11.215\n",
       "Seats                        -1.5041      0.609     -2.470      0.014      -2.698      -0.310\n",
       "Age                         -10.6873      0.306    -34.896      0.000     -11.288     -10.087\n",
       "Location_Ahmedabad            0.7487      0.169      4.430      0.000       0.417       1.080\n",
       "Location_Bangalore            0.9713      0.144      6.725      0.000       0.688       1.255\n",
       "Location_Chennai              0.3899      0.122      3.206      0.001       0.151       0.628\n",
       "Location_Coimbatore           1.1160      0.117      9.553      0.000       0.887       1.345\n",
       "Location_Delhi                0.0452      0.116      0.390      0.697      -0.182       0.272\n",
       "Location_Hyderabad            0.7944      0.105      7.569      0.000       0.589       1.000\n",
       "Location_Jaipur               0.3258      0.129      2.520      0.012       0.072       0.579\n",
       "Location_Kochi                0.3873      0.112      3.470      0.001       0.168       0.606\n",
       "Location_Kolkata             -0.6207      0.117     -5.323      0.000      -0.849      -0.392\n",
       "Location_Mumbai               0.1381      0.103      1.337      0.181      -0.064       0.341\n",
       "Location_Pune                 0.3429      0.107      3.200      0.001       0.133       0.553\n",
       "Fuel_Type_CNG                -0.3728      0.512     -0.729      0.466      -1.376       0.630\n",
       "Fuel_Type_Diesel              0.1698      0.430      0.395      0.693      -0.674       1.013\n",
       "Fuel_Type_Electric            7.4471      1.759      4.234      0.000       3.999      10.896\n",
       "Fuel_Type_LPG                -0.9763      0.733     -1.332      0.183      -2.414       0.461\n",
       "Fuel_Type_Petrol             -1.6290      0.417     -3.904      0.000      -2.447      -0.811\n",
       "Transmission_Automatic        3.3358      0.183     18.214      0.000       2.977       3.695\n",
       "Transmission_Manual           1.3030      0.190      6.864      0.000       0.931       1.675\n",
       "Owner_Type_First              1.4633      0.238      6.141      0.000       0.996       1.930\n",
       "Owner_Type_Fourth & Above     0.9064      0.750      1.209      0.227      -0.563       2.376\n",
       "Owner_Type_Second             1.2309      0.242      5.087      0.000       0.756       1.705\n",
       "Owner_Type_Third              1.0383      0.297      3.498      0.000       0.456       1.620\n",
       "==============================================================================\n",
       "Omnibus:                      518.613   Durbin-Watson:                   1.988\n",
       "Prob(Omnibus):                  0.000   Jarque-Bera (JB):             1707.652\n",
       "Skew:                           0.701   Prob(JB):                         0.00\n",
       "Kurtosis:                       6.011   Cond. No.                     1.17e+16\n",
       "==============================================================================\n",
       "\n",
       "Notes:\n",
       "[1] Standard Errors assume that the covariance matrix of the errors is correctly specified.\n",
       "[2] The smallest eigenvalue is 1.05e-28. This might indicate that there are\n",
       "strong multicollinearity problems or that the design matrix is singular.\n",
       "\"\"\""
      ]
     },
     "metadata": {},
     "output_type": "display_data"
    },
    {
     "name": "stdout",
     "output_type": "stream",
     "text": [
      "Test RMSE:  8.432747603727313\n"
     ]
    }
   ],
   "source": [
    "# fit the model\n",
    "X = sm.add_constant(X_train_1)\n",
    "y = y_train_1.reset_index(drop=True)\n",
    "lr = sm.OLS(y, X).fit()\n",
    "\n",
    "display(lr.summary())\n",
    "\n",
    "# predict the model\n",
    "X = X_test_1\n",
    "X = sm.add_constant(X)\n",
    "tst_pred = lr.predict(X)\n",
    "print('Test RMSE: ', mean_squared_error(y_test, tst_pred, squared=False))"
   ]
  },
  {
   "cell_type": "code",
   "execution_count": 7,
   "metadata": {},
   "outputs": [
    {
     "name": "stderr",
     "output_type": "stream",
     "text": [
      "C:\\Users\\natanop.pimonsathian\\Anaconda3\\lib\\site-packages\\seaborn\\_decorators.py:36: FutureWarning: Pass the following variables as keyword args: x, y. From version 0.12, the only valid positional argument will be `data`, and passing other arguments without an explicit keyword will result in an error or misinterpretation.\n",
      "  warnings.warn(\n"
     ]
    },
    {
     "data": {
      "image/png": "[encoded data removed]",
      "text/plain": [
       "<Figure size 432x288 with 1 Axes>"
      ]
     },
     "metadata": {
      "needs_background": "light"
     },
     "output_type": "display_data"
    }
   ],
   "source": [
    "# prediction plot\n",
    "sns.scatterplot(tst_pred, y_test['Price'])\n",
    "plt.xlabel(\"Predicted price\")\n",
    "plt.ylabel(\"Actual price\")\n",
    "plt.show();"
   ]
  },
  {
   "cell_type": "markdown",
   "metadata": {},
   "source": [
    "### 3. Model fitting improvement \n",
    "- Changing the outlier cutoff to be 3 IQR\n",
    "- Log scaling on the target variable\n",
    "- Recode cities into two zones high and low GDP"
   ]
  },
  {
   "cell_type": "code",
   "execution_count": 8,
   "metadata": {},
   "outputs": [],
   "source": [
    "high_gdp = ['Coimbatore', 'Mumbai', 'Pune']\n",
    "medium_gdp = ['Ahmedabad', 'Bangalore', 'Chennai', 'Delhi', 'Hyderabad']\n",
    "low_gdp = ['Jaipur', 'Kochi', 'Kolkata']"
   ]
  },
  {
   "cell_type": "code",
   "execution_count": 9,
   "metadata": {},
   "outputs": [
    {
     "name": "stdout",
     "output_type": "stream",
     "text": [
      "Lower limit:  -15.700000000000003\n",
      "Upper limit:  29.1\n",
      "<class 'pandas.core.frame.DataFrame'>\n",
      "RangeIndex: 3950 entries, 0 to 3949\n",
      "Data columns (total 20 columns):\n",
      " #   Column                     Non-Null Count  Dtype  \n",
      "---  ------                     --------------  -----  \n",
      " 0   Kilometers_Driven          3950 non-null   float64\n",
      " 1   Mileage                    3950 non-null   float64\n",
      " 2   Engine                     3950 non-null   float64\n",
      " 3   Power                      3950 non-null   float64\n",
      " 4   Seats                      3950 non-null   float64\n",
      " 5   Age                        3950 non-null   float64\n",
      " 6   GDP_High                   3950 non-null   float64\n",
      " 7   GDP_Low                    3950 non-null   float64\n",
      " 8   GDP_Medium                 3950 non-null   float64\n",
      " 9   Fuel_Type_CNG              3950 non-null   float64\n",
      " 10  Fuel_Type_Diesel           3950 non-null   float64\n",
      " 11  Fuel_Type_Electric         3950 non-null   float64\n",
      " 12  Fuel_Type_LPG              3950 non-null   float64\n",
      " 13  Fuel_Type_Petrol           3950 non-null   float64\n",
      " 14  Transmission_Automatic     3950 non-null   float64\n",
      " 15  Transmission_Manual        3950 non-null   float64\n",
      " 16  Owner_Type_First           3950 non-null   float64\n",
      " 17  Owner_Type_Fourth & Above  3950 non-null   float64\n",
      " 18  Owner_Type_Second          3950 non-null   float64\n",
      " 19  Owner_Type_Third           3950 non-null   float64\n",
      "dtypes: float64(20)\n",
      "memory usage: 617.3 KB\n"
     ]
    }
   ],
   "source": [
    "X_train_2 = X_train.copy()\n",
    "\n",
    "# outliers removal \n",
    "outlier_indices, lower_limit, upper_limit = tukeys_method(y_train, 'Price', 3.0)\n",
    "print('Lower limit: ', lower_limit)\n",
    "print('Upper limit: ', upper_limit)\n",
    "\n",
    "y_train_ul = y_train[y_train['Price']>upper_limit]\n",
    "X_train_2 = X_train_2.drop(index=y_train_ul.index)\n",
    "y_train_2 = y_train.drop(index=y_train_ul.index)\n",
    "\n",
    "# missing data treatment\n",
    "X_train_2['Mileage'] = X_train_2['Mileage'].fillna(X_train_2['Mileage'].mean())\n",
    "X_train_2['Engine'] = X_train_2['Engine'].fillna(X_train_2['Engine'].median())\n",
    "X_train_2['Seats'] = X_train_2['Seats'].fillna(int(X_train_2['Seats'].mode()))\n",
    "\n",
    "# year transformation\n",
    "X_train_2['Age'] = 2021 - X_train_2['Year']\n",
    "X_train_2 = X_train_2.drop(columns=['Year'])\n",
    "\n",
    "# categorical encoding\n",
    "X_train_2['GDP'] = np.where(X_train_2['Location'].isin(high_gdp), 'High',\n",
    "                   np.where(X_train_2['Location'].isin(medium_gdp), 'Medium', 'Low'))\n",
    "Location_enc = pd.get_dummies(X_train_2[['GDP']])\n",
    "Fuel_Type_enc = pd.get_dummies(X_train_2[['Fuel_Type']])\n",
    "Transmission_enc = pd.get_dummies(X_train_2[['Transmission']])\n",
    "Owner_Type_enc = pd.get_dummies(X_train_2[['Owner_Type']])\n",
    "X_train_2 = X_train_2.drop(columns=['Location', 'GDP', 'Fuel_Type', 'Transmission', 'Owner_Type'])\n",
    "X_train_2 = pd.concat([X_train_2, Location_enc, Fuel_Type_enc, Transmission_enc, Owner_Type_enc], axis=1)\n",
    "\n",
    "# define data to be scaled \n",
    "x = X_train_2.drop(columns=['Name'])\n",
    "\n",
    "scaler = MinMaxScaler() # instantiate the scaler\n",
    "scaler_fit = scaler.fit(x) # fit the scaler on the data\n",
    "x_sc = scaler_fit.transform(x) # tranform the data using the fitted scaler\n",
    "X_train_2 = pd.DataFrame(x_sc, columns=x.columns)\n",
    "X_train_2.info()"
   ]
  },
  {
   "cell_type": "code",
   "execution_count": 10,
   "metadata": {},
   "outputs": [
    {
     "name": "stdout",
     "output_type": "stream",
     "text": [
      "<class 'pandas.core.frame.DataFrame'>\n",
      "RangeIndex: 1806 entries, 0 to 1805\n",
      "Data columns (total 20 columns):\n",
      " #   Column                     Non-Null Count  Dtype  \n",
      "---  ------                     --------------  -----  \n",
      " 0   Kilometers_Driven          1806 non-null   float64\n",
      " 1   Mileage                    1806 non-null   float64\n",
      " 2   Engine                     1806 non-null   float64\n",
      " 3   Power                      1806 non-null   float64\n",
      " 4   Seats                      1806 non-null   float64\n",
      " 5   Age                        1806 non-null   float64\n",
      " 6   GDP_High                   1806 non-null   float64\n",
      " 7   GDP_Low                    1806 non-null   float64\n",
      " 8   GDP_Medium                 1806 non-null   float64\n",
      " 9   Fuel_Type_CNG              1806 non-null   float64\n",
      " 10  Fuel_Type_Diesel           1806 non-null   float64\n",
      " 11  Fuel_Type_Electric         1806 non-null   float64\n",
      " 12  Fuel_Type_LPG              1806 non-null   float64\n",
      " 13  Fuel_Type_Petrol           1806 non-null   float64\n",
      " 14  Transmission_Automatic     1806 non-null   float64\n",
      " 15  Transmission_Manual        1806 non-null   float64\n",
      " 16  Owner_Type_First           1806 non-null   float64\n",
      " 17  Owner_Type_Fourth & Above  1806 non-null   float64\n",
      " 18  Owner_Type_Second          1806 non-null   float64\n",
      " 19  Owner_Type_Third           1806 non-null   float64\n",
      "dtypes: float64(20)\n",
      "memory usage: 282.3 KB\n"
     ]
    }
   ],
   "source": [
    "X_test_2 = X_test.copy()\n",
    "## missing data imputation\n",
    "X_test_2['Mileage'] = X_test_2['Mileage'].fillna(X_test_2['Mileage'].mean())\n",
    "X_test_2['Engine'] = X_test_2['Engine'].fillna(X_test_2['Engine'].median())\n",
    "X_test_2['Seats'] = X_test_2['Seats'].fillna(int(X_test_2['Seats'].mode()))\n",
    "\n",
    "## year to age transformation\n",
    "X_test_2['Age'] = 2021 - X_test_2['Year']\n",
    "X_test_2 = X_test_2.drop(columns=['Year'])\n",
    "\n",
    "## categorical transformation\n",
    "# categorical encoding\n",
    "X_test_2['GDP'] = np.where(X_test_2['Location'].isin(high_gdp), 'High',\n",
    "                   np.where(X_test_2['Location'].isin(medium_gdp), 'Medium', 'Low'))\n",
    "Location_enc = pd.get_dummies(X_test_2[['GDP']])\n",
    "Fuel_Type_enc = pd.get_dummies(X_test_2[['Fuel_Type']])\n",
    "Transmission_enc = pd.get_dummies(X_test_2[['Transmission']])\n",
    "Owner_Type_enc = pd.get_dummies(X_test_2[['Owner_Type']])\n",
    "\n",
    "# adding them back the test data \n",
    "X_test_2 = X_test_2.drop(columns=['Location', 'GDP', 'Fuel_Type', 'Transmission', 'Owner_Type'])\n",
    "X_test_2 = pd.concat([X_test_2, Location_enc, Fuel_Type_enc, Transmission_enc, Owner_Type_enc], axis=1)\n",
    "\n",
    "## min-max scaling\n",
    "# define data to be scaled \n",
    "x = X_test_2.drop(columns=['Name'])\n",
    "X_test_2_sc = scaler_fit.transform(x) # tranform the data using the fitted scaler\n",
    "X_test_2 = pd.DataFrame(X_test_2_sc, columns=x.columns)\n",
    "X_test_2.info()"
   ]
  },
  {
   "cell_type": "code",
   "execution_count": 11,
   "metadata": {},
   "outputs": [
    {
     "data": {
      "text/html": [
       "<table class=\"simpletable\">\n",
       "<caption>OLS Regression Results</caption>\n",
       "<tr>\n",
       "  <th>Dep. Variable:</th>          <td>Price</td>      <th>  R-squared:         </th> <td>   0.832</td>\n",
       "</tr>\n",
       "<tr>\n",
       "  <th>Model:</th>                   <td>OLS</td>       <th>  Adj. R-squared:    </th> <td>   0.832</td>\n",
       "</tr>\n",
       "<tr>\n",
       "  <th>Method:</th>             <td>Least Squares</td>  <th>  F-statistic:       </th> <td>   1219.</td>\n",
       "</tr>\n",
       "<tr>\n",
       "  <th>Date:</th>             <td>Fri, 06 May 2022</td> <th>  Prob (F-statistic):</th>  <td>  0.00</td> \n",
       "</tr>\n",
       "<tr>\n",
       "  <th>Time:</th>                 <td>16:55:04</td>     <th>  Log-Likelihood:    </th> <td> -859.92</td>\n",
       "</tr>\n",
       "<tr>\n",
       "  <th>No. Observations:</th>      <td>  3950</td>      <th>  AIC:               </th> <td>   1754.</td>\n",
       "</tr>\n",
       "<tr>\n",
       "  <th>Df Residuals:</th>          <td>  3933</td>      <th>  BIC:               </th> <td>   1861.</td>\n",
       "</tr>\n",
       "<tr>\n",
       "  <th>Df Model:</th>              <td>    16</td>      <th>                     </th>     <td> </td>   \n",
       "</tr>\n",
       "<tr>\n",
       "  <th>Covariance Type:</th>      <td>nonrobust</td>    <th>                     </th>     <td> </td>   \n",
       "</tr>\n",
       "</table>\n",
       "<table class=\"simpletable\">\n",
       "<tr>\n",
       "              <td></td>                 <th>coef</th>     <th>std err</th>      <th>t</th>      <th>P>|t|</th>  <th>[0.025</th>    <th>0.975]</th>  \n",
       "</tr>\n",
       "<tr>\n",
       "  <th>const</th>                     <td>    0.9720</td> <td>    0.044</td> <td>   22.093</td> <td> 0.000</td> <td>    0.886</td> <td>    1.058</td>\n",
       "</tr>\n",
       "<tr>\n",
       "  <th>Kilometers_Driven</th>         <td>   -0.7313</td> <td>    0.115</td> <td>   -6.362</td> <td> 0.000</td> <td>   -0.957</td> <td>   -0.506</td>\n",
       "</tr>\n",
       "<tr>\n",
       "  <th>Mileage</th>                   <td>   -0.7221</td> <td>    0.061</td> <td>  -11.766</td> <td> 0.000</td> <td>   -0.842</td> <td>   -0.602</td>\n",
       "</tr>\n",
       "<tr>\n",
       "  <th>Engine</th>                    <td>    1.3883</td> <td>    0.103</td> <td>   13.438</td> <td> 0.000</td> <td>    1.186</td> <td>    1.591</td>\n",
       "</tr>\n",
       "<tr>\n",
       "  <th>Power</th>                     <td>    2.2650</td> <td>    0.094</td> <td>   24.118</td> <td> 0.000</td> <td>    2.081</td> <td>    2.449</td>\n",
       "</tr>\n",
       "<tr>\n",
       "  <th>Seats</th>                     <td>   -0.3110</td> <td>    0.084</td> <td>   -3.720</td> <td> 0.000</td> <td>   -0.475</td> <td>   -0.147</td>\n",
       "</tr>\n",
       "<tr>\n",
       "  <th>Age</th>                       <td>   -2.5119</td> <td>    0.041</td> <td>  -61.495</td> <td> 0.000</td> <td>   -2.592</td> <td>   -2.432</td>\n",
       "</tr>\n",
       "<tr>\n",
       "  <th>GDP_High</th>                  <td>    0.3443</td> <td>    0.016</td> <td>   21.414</td> <td> 0.000</td> <td>    0.313</td> <td>    0.376</td>\n",
       "</tr>\n",
       "<tr>\n",
       "  <th>GDP_Low</th>                   <td>    0.2405</td> <td>    0.017</td> <td>   14.514</td> <td> 0.000</td> <td>    0.208</td> <td>    0.273</td>\n",
       "</tr>\n",
       "<tr>\n",
       "  <th>GDP_Medium</th>                <td>    0.3872</td> <td>    0.016</td> <td>   24.052</td> <td> 0.000</td> <td>    0.356</td> <td>    0.419</td>\n",
       "</tr>\n",
       "<tr>\n",
       "  <th>Fuel_Type_CNG</th>             <td>   -0.0070</td> <td>    0.072</td> <td>   -0.096</td> <td> 0.923</td> <td>   -0.149</td> <td>    0.135</td>\n",
       "</tr>\n",
       "<tr>\n",
       "  <th>Fuel_Type_Diesel</th>          <td>    0.1776</td> <td>    0.061</td> <td>    2.904</td> <td> 0.004</td> <td>    0.058</td> <td>    0.298</td>\n",
       "</tr>\n",
       "<tr>\n",
       "  <th>Fuel_Type_Electric</th>        <td>    1.0360</td> <td>    0.249</td> <td>    4.169</td> <td> 0.000</td> <td>    0.549</td> <td>    1.523</td>\n",
       "</tr>\n",
       "<tr>\n",
       "  <th>Fuel_Type_LPG</th>             <td>   -0.1023</td> <td>    0.104</td> <td>   -0.986</td> <td> 0.324</td> <td>   -0.306</td> <td>    0.101</td>\n",
       "</tr>\n",
       "<tr>\n",
       "  <th>Fuel_Type_Petrol</th>          <td>   -0.1323</td> <td>    0.060</td> <td>   -2.217</td> <td> 0.027</td> <td>   -0.249</td> <td>   -0.015</td>\n",
       "</tr>\n",
       "<tr>\n",
       "  <th>Transmission_Automatic</th>    <td>    0.6348</td> <td>    0.023</td> <td>   28.183</td> <td> 0.000</td> <td>    0.591</td> <td>    0.679</td>\n",
       "</tr>\n",
       "<tr>\n",
       "  <th>Transmission_Manual</th>       <td>    0.3371</td> <td>    0.024</td> <td>   14.186</td> <td> 0.000</td> <td>    0.291</td> <td>    0.384</td>\n",
       "</tr>\n",
       "<tr>\n",
       "  <th>Owner_Type_First</th>          <td>    0.2859</td> <td>    0.034</td> <td>    8.526</td> <td> 0.000</td> <td>    0.220</td> <td>    0.352</td>\n",
       "</tr>\n",
       "<tr>\n",
       "  <th>Owner_Type_Fourth & Above</th> <td>    0.3390</td> <td>    0.106</td> <td>    3.206</td> <td> 0.001</td> <td>    0.132</td> <td>    0.546</td>\n",
       "</tr>\n",
       "<tr>\n",
       "  <th>Owner_Type_Second</th>         <td>    0.2270</td> <td>    0.034</td> <td>    6.658</td> <td> 0.000</td> <td>    0.160</td> <td>    0.294</td>\n",
       "</tr>\n",
       "<tr>\n",
       "  <th>Owner_Type_Third</th>          <td>    0.1200</td> <td>    0.042</td> <td>    2.877</td> <td> 0.004</td> <td>    0.038</td> <td>    0.202</td>\n",
       "</tr>\n",
       "</table>\n",
       "<table class=\"simpletable\">\n",
       "<tr>\n",
       "  <th>Omnibus:</th>       <td>315.590</td> <th>  Durbin-Watson:     </th> <td>   2.002</td>\n",
       "</tr>\n",
       "<tr>\n",
       "  <th>Prob(Omnibus):</th> <td> 0.000</td>  <th>  Jarque-Bera (JB):  </th> <td>1692.159</td>\n",
       "</tr>\n",
       "<tr>\n",
       "  <th>Skew:</th>          <td>-0.153</td>  <th>  Prob(JB):          </th> <td>    0.00</td>\n",
       "</tr>\n",
       "<tr>\n",
       "  <th>Kurtosis:</th>      <td> 6.192</td>  <th>  Cond. No.          </th> <td>2.20e+16</td>\n",
       "</tr>\n",
       "</table><br/><br/>Notes:<br/>[1] Standard Errors assume that the covariance matrix of the errors is correctly specified.<br/>[2] The smallest eigenvalue is 3.27e-29. This might indicate that there are<br/>strong multicollinearity problems or that the design matrix is singular."
      ],
      "text/plain": [
       "<class 'statsmodels.iolib.summary.Summary'>\n",
       "\"\"\"\n",
       "                            OLS Regression Results                            \n",
       "==============================================================================\n",
       "Dep. Variable:                  Price   R-squared:                       0.832\n",
       "Model:                            OLS   Adj. R-squared:                  0.832\n",
       "Method:                 Least Squares   F-statistic:                     1219.\n",
       "Date:                Fri, 06 May 2022   Prob (F-statistic):               0.00\n",
       "Time:                        16:55:04   Log-Likelihood:                -859.92\n",
       "No. Observations:                3950   AIC:                             1754.\n",
       "Df Residuals:                    3933   BIC:                             1861.\n",
       "Df Model:                          16                                         \n",
       "Covariance Type:            nonrobust                                         \n",
       "=============================================================================================\n",
       "                                coef    std err          t      P>|t|      [0.025      0.975]\n",
       "---------------------------------------------------------------------------------------------\n",
       "const                         0.9720      0.044     22.093      0.000       0.886       1.058\n",
       "Kilometers_Driven            -0.7313      0.115     -6.362      0.000      -0.957      -0.506\n",
       "Mileage                      -0.7221      0.061    -11.766      0.000      -0.842      -0.602\n",
       "Engine                        1.3883      0.103     13.438      0.000       1.186       1.591\n",
       "Power                         2.2650      0.094     24.118      0.000       2.081       2.449\n",
       "Seats                        -0.3110      0.084     -3.720      0.000      -0.475      -0.147\n",
       "Age                          -2.5119      0.041    -61.495      0.000      -2.592      -2.432\n",
       "GDP_High                      0.3443      0.016     21.414      0.000       0.313       0.376\n",
       "GDP_Low                       0.2405      0.017     14.514      0.000       0.208       0.273\n",
       "GDP_Medium                    0.3872      0.016     24.052      0.000       0.356       0.419\n",
       "Fuel_Type_CNG                -0.0070      0.072     -0.096      0.923      -0.149       0.135\n",
       "Fuel_Type_Diesel              0.1776      0.061      2.904      0.004       0.058       0.298\n",
       "Fuel_Type_Electric            1.0360      0.249      4.169      0.000       0.549       1.523\n",
       "Fuel_Type_LPG                -0.1023      0.104     -0.986      0.324      -0.306       0.101\n",
       "Fuel_Type_Petrol             -0.1323      0.060     -2.217      0.027      -0.249      -0.015\n",
       "Transmission_Automatic        0.6348      0.023     28.183      0.000       0.591       0.679\n",
       "Transmission_Manual           0.3371      0.024     14.186      0.000       0.291       0.384\n",
       "Owner_Type_First              0.2859      0.034      8.526      0.000       0.220       0.352\n",
       "Owner_Type_Fourth & Above     0.3390      0.106      3.206      0.001       0.132       0.546\n",
       "Owner_Type_Second             0.2270      0.034      6.658      0.000       0.160       0.294\n",
       "Owner_Type_Third              0.1200      0.042      2.877      0.004       0.038       0.202\n",
       "==============================================================================\n",
       "Omnibus:                      315.590   Durbin-Watson:                   2.002\n",
       "Prob(Omnibus):                  0.000   Jarque-Bera (JB):             1692.159\n",
       "Skew:                          -0.153   Prob(JB):                         0.00\n",
       "Kurtosis:                       6.192   Cond. No.                     2.20e+16\n",
       "==============================================================================\n",
       "\n",
       "Notes:\n",
       "[1] Standard Errors assume that the covariance matrix of the errors is correctly specified.\n",
       "[2] The smallest eigenvalue is 3.27e-29. This might indicate that there are\n",
       "strong multicollinearity problems or that the design matrix is singular.\n",
       "\"\"\""
      ]
     },
     "metadata": {},
     "output_type": "display_data"
    },
    {
     "name": "stdout",
     "output_type": "stream",
     "text": [
      "Training RMSE:  2.924272055861621\n",
      "Test RMSE:  6.166313201388538\n"
     ]
    }
   ],
   "source": [
    "# fit the model\n",
    "X = sm.add_constant(X_train_2)\n",
    "y = y_train_2.reset_index(drop=True)\n",
    "y = np.log(y)\n",
    "lr = sm.OLS(y, X).fit()\n",
    "\n",
    "display(lr.summary())\n",
    "\n",
    "lr_trn_pred = lr.predict(X)\n",
    "lr_trn_pred = np.exp(lr_trn_pred)\n",
    "print('Training RMSE: ', mean_squared_error(y_train_2, lr_trn_pred, squared=False))\n",
    "\n",
    "# predict the model\n",
    "x = X_test_2\n",
    "X = sm.add_constant(x)\n",
    "tst_pred = lr.predict(X)\n",
    "print('Test RMSE: ', mean_squared_error(y_test, np.exp(tst_pred), squared=False))"
   ]
  },
  {
   "cell_type": "code",
   "execution_count": 12,
   "metadata": {},
   "outputs": [
    {
     "data": {
      "text/plain": [
       "<AxesSubplot:ylabel='Price'>"
      ]
     },
     "execution_count": 12,
     "metadata": {},
     "output_type": "execute_result"
    },
    {
     "data": {
      "image/png": "[encoded data removed]",
      "text/plain": [
       "<Figure size 432x288 with 1 Axes>"
      ]
     },
     "metadata": {
      "needs_background": "light"
     },
     "output_type": "display_data"
    }
   ],
   "source": [
    "sns.scatterplot(x=np.exp(tst_pred), y=y_test['Price'])"
   ]
  },
  {
   "cell_type": "markdown",
   "metadata": {},
   "source": [
    "### 4. Reduce overfitting - Regularization \n",
    "- Regularization means adding a term (penalty) to the regression formula. \n",
    "- Addtionally, regularization could be also used as a feature selection technique. \n",
    "- We will be demonstrating lasso regression, which adding the sum squared of coefficient to the model."
   ]
  },
  {
   "cell_type": "markdown",
   "metadata": {},
   "source": [
    "#### 4.1 Demo: Ridge regression with parameter tuning"
   ]
  },
  {
   "cell_type": "code",
   "execution_count": 13,
   "metadata": {},
   "outputs": [
    {
     "name": "stdout",
     "output_type": "stream",
     "text": [
      "Training RMSE:  3.541636790466142\n",
      "Test RMSE:  8.52558239683613\n"
     ]
    }
   ],
   "source": [
    "from sklearn.linear_model import Ridge\n",
    "\n",
    "X = X_train_2\n",
    "y = y_train_2.reset_index(drop=True)\n",
    "\n",
    "model_ridge = Ridge(alpha=100)\n",
    "model_ridge.fit(X, y)\n",
    "\n",
    "train_pred = model_ridge.predict(X_train_2)\n",
    "print('Training RMSE: ', mean_squared_error(y_train_2, train_pred, squared=False))\n",
    "\n",
    "pred =  model_ridge.predict(X_test_2)\n",
    "print('Test RMSE: ', mean_squared_error(y_test, pred, squared=False))"
   ]
  },
  {
   "cell_type": "markdown",
   "metadata": {},
   "source": [
    "#### 4.2 Excerise: Lasso regression with parameter tuning\n",
    "- import Lasso regression instead of Ridge\n",
    "- Try fitting the model using alpha = 1 and alpha = 1000"
   ]
  },
  {
   "cell_type": "code",
   "execution_count": 14,
   "metadata": {},
   "outputs": [
    {
     "name": "stdout",
     "output_type": "stream",
     "text": [
      "Training RMSE:  5.74474591526858\n",
      "Test RMSE:  11.33376584116888\n"
     ]
    }
   ],
   "source": [
    "from sklearn.linear_model import Lasso\n",
    "\n",
    "X = X_train_2\n",
    "y = y_train_2.reset_index(drop=True)\n",
    "\n",
    "model_lasso = Lasso(alpha=100)\n",
    "model_lasso.fit(X, y)\n",
    "\n",
    "train_pred = model_lasso.predict(X_train_2)\n",
    "print('Training RMSE: ', mean_squared_error(y_train_2, train_pred, squared=False))\n",
    "\n",
    "pred =  model_lasso.predict(X_test_2)\n",
    "print('Test RMSE: ', mean_squared_error(y_test, pred, squared=False))\n"
   ]
  },
  {
   "cell_type": "markdown",
   "metadata": {},
   "source": [
    "#### 4.3 Demo: Cross validation for ridge regression"
   ]
  },
  {
   "cell_type": "code",
   "execution_count": 15,
   "metadata": {},
   "outputs": [
    {
     "name": "stdout",
     "output_type": "stream",
     "text": [
      "0.5\n",
      "Training RMSE:  3.0321302243850132\n",
      "Test RMSE:  7.763631674864469\n"
     ]
    }
   ],
   "source": [
    "from sklearn.linear_model import RidgeCV \n",
    "\n",
    "X = X_train_2\n",
    "y = y_train_2.reset_index(drop=True)\n",
    "\n",
    "# define cross-validation fold and parameter to be tuned\n",
    "cv = 10\n",
    "alphas = [0.001, 0.005, 0.01, 0.05, 0.1, 0.5, 1, 10, 100, 1000, 1000]\n",
    "\n",
    "# define model\n",
    "model = RidgeCV(alphas=alphas, cv=cv, normalize=False)\n",
    "\n",
    "# fit model\n",
    "model.fit(X, y)\n",
    "\n",
    "# display lambda that produced the lowest test MSE\n",
    "print(model.alpha_)\n",
    "\n",
    "# report training error\n",
    "train_pred = model.predict(X_train_2)\n",
    "print('Training RMSE: ', mean_squared_error(y_train_2, train_pred, squared=False))\n",
    "\n",
    "# report test error\n",
    "pred =  model.predict(X_test_2)\n",
    "print('Test RMSE: ', mean_squared_error(y_test, pred, squared=False))"
   ]
  },
  {
   "cell_type": "code",
   "execution_count": 16,
   "metadata": {},
   "outputs": [
    {
     "data": {
      "text/html": [
       "<div>\n",
       "<style scoped>\n",
       "    .dataframe tbody tr th:only-of-type {\n",
       "        vertical-align: middle;\n",
       "    }\n",
       "\n",
       "    .dataframe tbody tr th {\n",
       "        vertical-align: top;\n",
       "    }\n",
       "\n",
       "    .dataframe thead th {\n",
       "        text-align: right;\n",
       "    }\n",
       "</style>\n",
       "<table border=\"1\" class=\"dataframe\">\n",
       "  <thead>\n",
       "    <tr style=\"text-align: right;\">\n",
       "      <th></th>\n",
       "      <th>Feature Name</th>\n",
       "      <th>Coefficient</th>\n",
       "    </tr>\n",
       "  </thead>\n",
       "  <tbody>\n",
       "    <tr>\n",
       "      <th>3</th>\n",
       "      <td>Power</td>\n",
       "      <td>18.584015</td>\n",
       "    </tr>\n",
       "    <tr>\n",
       "      <th>2</th>\n",
       "      <td>Engine</td>\n",
       "      <td>6.495754</td>\n",
       "    </tr>\n",
       "    <tr>\n",
       "      <th>11</th>\n",
       "      <td>Fuel_Type_Electric</td>\n",
       "      <td>3.264113</td>\n",
       "    </tr>\n",
       "    <tr>\n",
       "      <th>14</th>\n",
       "      <td>Transmission_Automatic</td>\n",
       "      <td>1.618782</td>\n",
       "    </tr>\n",
       "    <tr>\n",
       "      <th>10</th>\n",
       "      <td>Fuel_Type_Diesel</td>\n",
       "      <td>0.436898</td>\n",
       "    </tr>\n",
       "    <tr>\n",
       "      <th>8</th>\n",
       "      <td>GDP_Medium</td>\n",
       "      <td>0.276230</td>\n",
       "    </tr>\n",
       "    <tr>\n",
       "      <th>16</th>\n",
       "      <td>Owner_Type_First</td>\n",
       "      <td>0.251491</td>\n",
       "    </tr>\n",
       "    <tr>\n",
       "      <th>6</th>\n",
       "      <td>GDP_High</td>\n",
       "      <td>0.072616</td>\n",
       "    </tr>\n",
       "    <tr>\n",
       "      <th>18</th>\n",
       "      <td>Owner_Type_Second</td>\n",
       "      <td>0.003750</td>\n",
       "    </tr>\n",
       "    <tr>\n",
       "      <th>17</th>\n",
       "      <td>Owner_Type_Fourth &amp; Above</td>\n",
       "      <td>-0.121450</td>\n",
       "    </tr>\n",
       "    <tr>\n",
       "      <th>9</th>\n",
       "      <td>Fuel_Type_CNG</td>\n",
       "      <td>-0.123578</td>\n",
       "    </tr>\n",
       "    <tr>\n",
       "      <th>19</th>\n",
       "      <td>Owner_Type_Third</td>\n",
       "      <td>-0.133791</td>\n",
       "    </tr>\n",
       "    <tr>\n",
       "      <th>7</th>\n",
       "      <td>GDP_Low</td>\n",
       "      <td>-0.348846</td>\n",
       "    </tr>\n",
       "    <tr>\n",
       "      <th>12</th>\n",
       "      <td>Fuel_Type_LPG</td>\n",
       "      <td>-0.979604</td>\n",
       "    </tr>\n",
       "    <tr>\n",
       "      <th>15</th>\n",
       "      <td>Transmission_Manual</td>\n",
       "      <td>-1.618782</td>\n",
       "    </tr>\n",
       "    <tr>\n",
       "      <th>13</th>\n",
       "      <td>Fuel_Type_Petrol</td>\n",
       "      <td>-2.597828</td>\n",
       "    </tr>\n",
       "    <tr>\n",
       "      <th>4</th>\n",
       "      <td>Seats</td>\n",
       "      <td>-5.394844</td>\n",
       "    </tr>\n",
       "    <tr>\n",
       "      <th>1</th>\n",
       "      <td>Mileage</td>\n",
       "      <td>-8.897546</td>\n",
       "    </tr>\n",
       "    <tr>\n",
       "      <th>0</th>\n",
       "      <td>Kilometers_Driven</td>\n",
       "      <td>-8.985899</td>\n",
       "    </tr>\n",
       "    <tr>\n",
       "      <th>5</th>\n",
       "      <td>Age</td>\n",
       "      <td>-12.770788</td>\n",
       "    </tr>\n",
       "  </tbody>\n",
       "</table>\n",
       "</div>"
      ],
      "text/plain": [
       "                 Feature Name  Coefficient\n",
       "3                       Power    18.584015\n",
       "2                      Engine     6.495754\n",
       "11         Fuel_Type_Electric     3.264113\n",
       "14     Transmission_Automatic     1.618782\n",
       "10           Fuel_Type_Diesel     0.436898\n",
       "8                  GDP_Medium     0.276230\n",
       "16           Owner_Type_First     0.251491\n",
       "6                    GDP_High     0.072616\n",
       "18          Owner_Type_Second     0.003750\n",
       "17  Owner_Type_Fourth & Above    -0.121450\n",
       "9               Fuel_Type_CNG    -0.123578\n",
       "19           Owner_Type_Third    -0.133791\n",
       "7                     GDP_Low    -0.348846\n",
       "12              Fuel_Type_LPG    -0.979604\n",
       "15        Transmission_Manual    -1.618782\n",
       "13           Fuel_Type_Petrol    -2.597828\n",
       "4                       Seats    -5.394844\n",
       "1                     Mileage    -8.897546\n",
       "0           Kilometers_Driven    -8.985899\n",
       "5                         Age   -12.770788"
      ]
     },
     "execution_count": 16,
     "metadata": {},
     "output_type": "execute_result"
    }
   ],
   "source": [
    "results = pd.DataFrame({'Feature Name': X_train_2.columns, \n",
    "                        'Coefficient': model.coef_.ravel()})\n",
    "results.sort_values(by='Coefficient', ascending=False)"
   ]
  },
  {
   "cell_type": "markdown",
   "metadata": {},
   "source": [
    "#### 4.4 Demo: Cross validation for lasso regression"
   ]
  },
  {
   "cell_type": "code",
   "execution_count": 17,
   "metadata": {},
   "outputs": [
    {
     "name": "stdout",
     "output_type": "stream",
     "text": [
      "0.001\n",
      "Training RMSE:  3.032643016421251\n",
      "Test RMSE:  7.7578991465821145\n"
     ]
    },
    {
     "name": "stderr",
     "output_type": "stream",
     "text": [
      "C:\\Users\\natanop.pimonsathian\\Anaconda3\\lib\\site-packages\\sklearn\\utils\\validation.py:72: DataConversionWarning: A column-vector y was passed when a 1d array was expected. Please change the shape of y to (n_samples, ), for example using ravel().\n",
      "  return f(**kwargs)\n"
     ]
    }
   ],
   "source": [
    "from sklearn.linear_model import LassoCV \n",
    "\n",
    "X = X_train_2\n",
    "y = y_train_2.reset_index(drop=True)\n",
    "\n",
    "# define cross-validation fold and parameter to be tuned\n",
    "cv = 10\n",
    "alphas = [0.001, 0.005, 0.01, 0.05, 0.1, 0.5, 1, 10, 100, 1000, 1000]\n",
    "\n",
    "# define model\n",
    "model = LassoCV(alphas=alphas, cv=cv, normalize=False)\n",
    "\n",
    "# fit model\n",
    "model.fit(X, y)\n",
    "\n",
    "# display lambda that produced the lowest test MSE\n",
    "print(model.alpha_)\n",
    "\n",
    "# report training error\n",
    "train_pred = model.predict(X_train_2)\n",
    "print('Training RMSE: ', mean_squared_error(y_train_2, train_pred, squared=False))\n",
    "\n",
    "# report test error\n",
    "pred =  model.predict(X_test_2)\n",
    "print('Test RMSE: ', mean_squared_error(y_test, pred, squared=False))"
   ]
  },
  {
   "cell_type": "code",
   "execution_count": 18,
   "metadata": {},
   "outputs": [
    {
     "data": {
      "text/html": [
       "<div>\n",
       "<style scoped>\n",
       "    .dataframe tbody tr th:only-of-type {\n",
       "        vertical-align: middle;\n",
       "    }\n",
       "\n",
       "    .dataframe tbody tr th {\n",
       "        vertical-align: top;\n",
       "    }\n",
       "\n",
       "    .dataframe thead th {\n",
       "        text-align: right;\n",
       "    }\n",
       "</style>\n",
       "<table border=\"1\" class=\"dataframe\">\n",
       "  <thead>\n",
       "    <tr style=\"text-align: right;\">\n",
       "      <th></th>\n",
       "      <th>Feature Name</th>\n",
       "      <th>Coefficient</th>\n",
       "    </tr>\n",
       "  </thead>\n",
       "  <tbody>\n",
       "    <tr>\n",
       "      <th>3</th>\n",
       "      <td>Power</td>\n",
       "      <td>19.197499</td>\n",
       "    </tr>\n",
       "    <tr>\n",
       "      <th>2</th>\n",
       "      <td>Engine</td>\n",
       "      <td>5.940295</td>\n",
       "    </tr>\n",
       "    <tr>\n",
       "      <th>14</th>\n",
       "      <td>Transmission_Automatic</td>\n",
       "      <td>3.213555</td>\n",
       "    </tr>\n",
       "    <tr>\n",
       "      <th>11</th>\n",
       "      <td>Fuel_Type_Electric</td>\n",
       "      <td>1.022091</td>\n",
       "    </tr>\n",
       "    <tr>\n",
       "      <th>10</th>\n",
       "      <td>Fuel_Type_Diesel</td>\n",
       "      <td>0.601489</td>\n",
       "    </tr>\n",
       "    <tr>\n",
       "      <th>16</th>\n",
       "      <td>Owner_Type_First</td>\n",
       "      <td>0.242213</td>\n",
       "    </tr>\n",
       "    <tr>\n",
       "      <th>8</th>\n",
       "      <td>GDP_Medium</td>\n",
       "      <td>0.204597</td>\n",
       "    </tr>\n",
       "    <tr>\n",
       "      <th>18</th>\n",
       "      <td>Owner_Type_Second</td>\n",
       "      <td>0.000000</td>\n",
       "    </tr>\n",
       "    <tr>\n",
       "      <th>17</th>\n",
       "      <td>Owner_Type_Fourth &amp; Above</td>\n",
       "      <td>-0.000000</td>\n",
       "    </tr>\n",
       "    <tr>\n",
       "      <th>6</th>\n",
       "      <td>GDP_High</td>\n",
       "      <td>-0.000000</td>\n",
       "    </tr>\n",
       "    <tr>\n",
       "      <th>9</th>\n",
       "      <td>Fuel_Type_CNG</td>\n",
       "      <td>0.000000</td>\n",
       "    </tr>\n",
       "    <tr>\n",
       "      <th>15</th>\n",
       "      <td>Transmission_Manual</td>\n",
       "      <td>-0.000000</td>\n",
       "    </tr>\n",
       "    <tr>\n",
       "      <th>19</th>\n",
       "      <td>Owner_Type_Third</td>\n",
       "      <td>-0.077619</td>\n",
       "    </tr>\n",
       "    <tr>\n",
       "      <th>12</th>\n",
       "      <td>Fuel_Type_LPG</td>\n",
       "      <td>-0.391713</td>\n",
       "    </tr>\n",
       "    <tr>\n",
       "      <th>7</th>\n",
       "      <td>GDP_Low</td>\n",
       "      <td>-0.417870</td>\n",
       "    </tr>\n",
       "    <tr>\n",
       "      <th>13</th>\n",
       "      <td>Fuel_Type_Petrol</td>\n",
       "      <td>-2.450310</td>\n",
       "    </tr>\n",
       "    <tr>\n",
       "      <th>4</th>\n",
       "      <td>Seats</td>\n",
       "      <td>-5.153529</td>\n",
       "    </tr>\n",
       "    <tr>\n",
       "      <th>0</th>\n",
       "      <td>Kilometers_Driven</td>\n",
       "      <td>-8.972294</td>\n",
       "    </tr>\n",
       "    <tr>\n",
       "      <th>1</th>\n",
       "      <td>Mileage</td>\n",
       "      <td>-8.994988</td>\n",
       "    </tr>\n",
       "    <tr>\n",
       "      <th>5</th>\n",
       "      <td>Age</td>\n",
       "      <td>-12.795086</td>\n",
       "    </tr>\n",
       "  </tbody>\n",
       "</table>\n",
       "</div>"
      ],
      "text/plain": [
       "                 Feature Name  Coefficient\n",
       "3                       Power    19.197499\n",
       "2                      Engine     5.940295\n",
       "14     Transmission_Automatic     3.213555\n",
       "11         Fuel_Type_Electric     1.022091\n",
       "10           Fuel_Type_Diesel     0.601489\n",
       "16           Owner_Type_First     0.242213\n",
       "8                  GDP_Medium     0.204597\n",
       "18          Owner_Type_Second     0.000000\n",
       "17  Owner_Type_Fourth & Above    -0.000000\n",
       "6                    GDP_High    -0.000000\n",
       "9               Fuel_Type_CNG     0.000000\n",
       "15        Transmission_Manual    -0.000000\n",
       "19           Owner_Type_Third    -0.077619\n",
       "12              Fuel_Type_LPG    -0.391713\n",
       "7                     GDP_Low    -0.417870\n",
       "13           Fuel_Type_Petrol    -2.450310\n",
       "4                       Seats    -5.153529\n",
       "0           Kilometers_Driven    -8.972294\n",
       "1                     Mileage    -8.994988\n",
       "5                         Age   -12.795086"
      ]
     },
     "execution_count": 18,
     "metadata": {},
     "output_type": "execute_result"
    }
   ],
   "source": [
    "results = pd.DataFrame({'Feature Name': X_train_2.columns, \n",
    "                        'Coefficient': model.coef_.ravel()})\n",
    "results.sort_values(by='Coefficient', ascending=False)"
   ]
  },
  {
   "cell_type": "code",
   "execution_count": 19,
   "metadata": {},
   "outputs": [
    {
     "data": {
      "text/plain": [
       "<AxesSubplot:xlabel='Kilometers_Driven', ylabel='Mileage'>"
      ]
     },
     "execution_count": 19,
     "metadata": {},
     "output_type": "execute_result"
    },
    {
     "data": {
      "image/png": "[encoded data removed]",
      "text/plain": [
       "<Figure size 432x288 with 1 Axes>"
      ]
     },
     "metadata": {
      "needs_background": "light"
     },
     "output_type": "display_data"
    }
   ],
   "source": [
    "sns.regplot(x='Kilometers_Driven', y='Mileage', data=X_train_2)"
   ]
  },
  {
   "cell_type": "code",
   "execution_count": 20,
   "metadata": {},
   "outputs": [
    {
     "data": {
      "text/plain": [
       "<AxesSubplot:xlabel='Power', ylabel='Mileage'>"
      ]
     },
     "execution_count": 20,
     "metadata": {},
     "output_type": "execute_result"
    },
    {
     "data": {
      "image/png": "[encoded data removed]",
      "text/plain": [
       "<Figure size 432x288 with 1 Axes>"
      ]
     },
     "metadata": {
      "needs_background": "light"
     },
     "output_type": "display_data"
    }
   ],
   "source": [
    "sns.regplot(x='Power', y='Mileage', data=X_train_2)"
   ]
  },
  {
   "cell_type": "code",
   "execution_count": 37,
   "metadata": {},
   "outputs": [],
   "source": [
    "from sklearn.model_selection import cross_val_score, GridSearchCV\n",
    "from sklearn.ensemble import RandomForestRegressor\n",
    "\n",
    "def rfr_model(X, y):\n",
    "    # Perform Grid-Search\n",
    "    gsc = GridSearchCV(\n",
    "        estimator=RandomForestRegressor(),\n",
    "        param_grid={\n",
    "            'max_depth': range(3,10),\n",
    "            'n_estimators': (10, 50, 100, 1000),\n",
    "        },\n",
    "        cv=5, scoring='neg_mean_squared_error', verbose=0, n_jobs=-1)\n",
    "    \n",
    "    grid_result = gsc.fit(X, y)\n",
    "    best_params = grid_result.best_params_\n",
    "    \n",
    "    rfr = RandomForestRegressor(max_depth=best_params[\"max_depth\"], \n",
    "                                n_estimators=best_params[\"n_estimators\"],                               \n",
    "                                random_state=42, verbose=False)\n",
    "    # Perform K-Fold CV\n",
    "    scores = cross_val_score(rfr, X, y, cv=10, scoring='neg_mean_squared_error')\n",
    "\n",
    "    return scores, best_params"
   ]
  },
  {
   "cell_type": "code",
   "execution_count": 38,
   "metadata": {
    "scrolled": true
   },
   "outputs": [
    {
     "name": "stderr",
     "output_type": "stream",
     "text": [
      "C:\\Users\\natanop.pimonsathian\\Anaconda3\\lib\\site-packages\\sklearn\\model_selection\\_search.py:765: DataConversionWarning: A column-vector y was passed when a 1d array was expected. Please change the shape of y to (n_samples,), for example using ravel().\n",
      "  self.best_estimator_.fit(X, y, **fit_params)\n",
      "C:\\Users\\natanop.pimonsathian\\Anaconda3\\lib\\site-packages\\sklearn\\model_selection\\_validation.py:531: DataConversionWarning: A column-vector y was passed when a 1d array was expected. Please change the shape of y to (n_samples,), for example using ravel().\n",
      "  estimator.fit(X_train, y_train, **fit_params)\n",
      "C:\\Users\\natanop.pimonsathian\\Anaconda3\\lib\\site-packages\\sklearn\\model_selection\\_validation.py:531: DataConversionWarning: A column-vector y was passed when a 1d array was expected. Please change the shape of y to (n_samples,), for example using ravel().\n",
      "  estimator.fit(X_train, y_train, **fit_params)\n",
      "C:\\Users\\natanop.pimonsathian\\Anaconda3\\lib\\site-packages\\sklearn\\model_selection\\_validation.py:531: DataConversionWarning: A column-vector y was passed when a 1d array was expected. Please change the shape of y to (n_samples,), for example using ravel().\n",
      "  estimator.fit(X_train, y_train, **fit_params)\n",
      "C:\\Users\\natanop.pimonsathian\\Anaconda3\\lib\\site-packages\\sklearn\\model_selection\\_validation.py:531: DataConversionWarning: A column-vector y was passed when a 1d array was expected. Please change the shape of y to (n_samples,), for example using ravel().\n",
      "  estimator.fit(X_train, y_train, **fit_params)\n",
      "C:\\Users\\natanop.pimonsathian\\Anaconda3\\lib\\site-packages\\sklearn\\model_selection\\_validation.py:531: DataConversionWarning: A column-vector y was passed when a 1d array was expected. Please change the shape of y to (n_samples,), for example using ravel().\n",
      "  estimator.fit(X_train, y_train, **fit_params)\n",
      "C:\\Users\\natanop.pimonsathian\\Anaconda3\\lib\\site-packages\\sklearn\\model_selection\\_validation.py:531: DataConversionWarning: A column-vector y was passed when a 1d array was expected. Please change the shape of y to (n_samples,), for example using ravel().\n",
      "  estimator.fit(X_train, y_train, **fit_params)\n",
      "C:\\Users\\natanop.pimonsathian\\Anaconda3\\lib\\site-packages\\sklearn\\model_selection\\_validation.py:531: DataConversionWarning: A column-vector y was passed when a 1d array was expected. Please change the shape of y to (n_samples,), for example using ravel().\n",
      "  estimator.fit(X_train, y_train, **fit_params)\n",
      "C:\\Users\\natanop.pimonsathian\\Anaconda3\\lib\\site-packages\\sklearn\\model_selection\\_validation.py:531: DataConversionWarning: A column-vector y was passed when a 1d array was expected. Please change the shape of y to (n_samples,), for example using ravel().\n",
      "  estimator.fit(X_train, y_train, **fit_params)\n",
      "C:\\Users\\natanop.pimonsathian\\Anaconda3\\lib\\site-packages\\sklearn\\model_selection\\_validation.py:531: DataConversionWarning: A column-vector y was passed when a 1d array was expected. Please change the shape of y to (n_samples,), for example using ravel().\n",
      "  estimator.fit(X_train, y_train, **fit_params)\n",
      "C:\\Users\\natanop.pimonsathian\\Anaconda3\\lib\\site-packages\\sklearn\\model_selection\\_validation.py:531: DataConversionWarning: A column-vector y was passed when a 1d array was expected. Please change the shape of y to (n_samples,), for example using ravel().\n",
      "  estimator.fit(X_train, y_train, **fit_params)\n"
     ]
    }
   ],
   "source": [
    "scores, best_params = rfr_model(X=X_train_2, y=y_train_2.reset_index(drop=True))"
   ]
  },
  {
   "cell_type": "code",
   "execution_count": 42,
   "metadata": {},
   "outputs": [
    {
     "data": {
      "text/plain": [
       "{'max_depth': 9, 'n_estimators': 100}"
      ]
     },
     "execution_count": 42,
     "metadata": {},
     "output_type": "execute_result"
    }
   ],
   "source": [
    "best_params"
   ]
  },
  {
   "cell_type": "code",
   "execution_count": 39,
   "metadata": {},
   "outputs": [
    {
     "data": {
      "text/plain": [
       "array([-5.20130431, -4.46610695, -5.66362383, -4.43215637, -4.86554377,\n",
       "       -4.13332277, -5.11392945, -5.14479696, -5.05280033, -3.74698291])"
      ]
     },
     "execution_count": 39,
     "metadata": {},
     "output_type": "execute_result"
    }
   ],
   "source": [
    "score"
   ]
  },
  {
   "cell_type": "code",
   "execution_count": 40,
   "metadata": {},
   "outputs": [
    {
     "name": "stderr",
     "output_type": "stream",
     "text": [
      "<ipython-input-40-f7b4e701d5e9>:2: DataConversionWarning: A column-vector y was passed when a 1d array was expected. Please change the shape of y to (n_samples,), for example using ravel().\n",
      "  rfr.fit(X, y)\n"
     ]
    },
    {
     "name": "stdout",
     "output_type": "stream",
     "text": [
      "Training RMSE:  1.224175570417781\n",
      "Test RMSE:  6.537136904076575\n"
     ]
    }
   ],
   "source": [
    "rfr = RandomForestRegressor(max_depth=best_params[\"max_depth\"], n_estimators=best_params[\"n_estimators\"])\n",
    "rfr.fit(X, y)\n",
    "\n",
    "# report training error\n",
    "train_pred = rfr.predict(X_train_2)\n",
    "print('Training RMSE: ', mean_squared_error(y_train_2, train_pred, squared=False))\n",
    "\n",
    "# report test error\n",
    "pred =  rfr.predict(X_test_2)\n",
    "print('Test RMSE: ', mean_squared_error(y_test, pred, squared=False))"
   ]
  },
  {
   "cell_type": "code",
   "execution_count": 45,
   "metadata": {},
   "outputs": [
    {
     "data": {
      "text/plain": [
       "array([2.89543412e-02, 2.75587802e-02, 5.49918023e-02, 6.63011064e-01,\n",
       "       9.14385613e-03, 1.78559692e-01, 1.63870249e-03, 1.82237271e-03,\n",
       "       2.10503262e-03, 5.78404143e-06, 6.80457175e-03, 4.23015731e-04,\n",
       "       8.00477700e-08, 4.53729770e-03, 8.53104885e-03, 9.30684874e-03,\n",
       "       1.33767475e-03, 1.87208610e-06, 1.14304730e-03, 1.23116139e-04])"
      ]
     },
     "execution_count": 45,
     "metadata": {},
     "output_type": "execute_result"
    }
   ],
   "source": [
    "rfr.feature_importances_"
   ]
  },
  {
   "cell_type": "code",
   "execution_count": 41,
   "metadata": {},
   "outputs": [
    {
     "data": {
      "image/png": "[encoded data removed]",
      "text/plain": [
       "<Figure size 432x288 with 1 Axes>"
      ]
     },
     "metadata": {
      "needs_background": "light"
     },
     "output_type": "display_data"
    }
   ],
   "source": [
    "sns.scatterplot(x=pred, y=y_test['Price']);"
   ]
  },
  {
   "cell_type": "code",
   "execution_count": 43,
   "metadata": {},
   "outputs": [
    {
     "data": {
      "image/png": "[encoded data removed]",
      "text/plain": [
       "<Figure size 432x288 with 1 Axes>"
      ]
     },
     "metadata": {
      "needs_background": "light"
     },
     "output_type": "display_data"
    }
   ],
   "source": [
    "sns.regplot(x=pred, y=y_test['Price']);"
   ]
  }
 ],
 "metadata": {
  "kernelspec": {
   "display_name": "Python 3",
   "language": "python",
   "name": "python3"
  },
  "language_info": {
   "codemirror_mode": {
    "name": "ipython",
    "version": 3
   },
   "file_extension": ".py",
   "mimetype": "text/x-python",
   "name": "python",
   "nbconvert_exporter": "python",
   "pygments_lexer": "ipython3",
   "version": "3.8.5"
  }
 },
 "nbformat": 4,
 "nbformat_minor": 4
}
