{
 "cells": [
  {
   "cell_type": "markdown",
   "metadata": {},
   "source": [
    "## Predictive modelling \n",
    "### Week 3-1: Feature Engineering Part 1"
   ]
  },
  {
   "cell_type": "markdown",
   "metadata": {},
   "source": [
    "#### Content \n",
    "1. Outliers\n",
    "2. Missing values\n",
    "3. Target variable transformation"
   ]
  },
  {
   "cell_type": "code",
   "execution_count": 1,
   "metadata": {},
   "outputs": [],
   "source": [
    "# libraries\n",
    "import pandas as pd # process dataframe\n",
    "import numpy as np # scientific calculation\n",
    "import seaborn as sns # visualization complete stastistics\n",
    "import matplotlib.pyplot as plt # visualization"
   ]
  },
  {
   "cell_type": "markdown",
   "metadata": {},
   "source": [
    "### 0. Create a fake dataset "
   ]
  },
  {
   "cell_type": "code",
   "execution_count": 2,
   "metadata": {},
   "outputs": [
    {
     "data": {
      "text/html": [
       "<div>\n",
       "<style scoped>\n",
       "    .dataframe tbody tr th:only-of-type {\n",
       "        vertical-align: middle;\n",
       "    }\n",
       "\n",
       "    .dataframe tbody tr th {\n",
       "        vertical-align: top;\n",
       "    }\n",
       "\n",
       "    .dataframe thead th {\n",
       "        text-align: right;\n",
       "    }\n",
       "</style>\n",
       "<table border=\"1\" class=\"dataframe\">\n",
       "  <thead>\n",
       "    <tr style=\"text-align: right;\">\n",
       "      <th></th>\n",
       "      <th>Target</th>\n",
       "      <th>Feature_1</th>\n",
       "      <th>Feature_2</th>\n",
       "      <th>Feature_3</th>\n",
       "    </tr>\n",
       "  </thead>\n",
       "  <tbody>\n",
       "    <tr>\n",
       "      <th>0</th>\n",
       "      <td>10.5</td>\n",
       "      <td>3.00</td>\n",
       "      <td>3.0</td>\n",
       "      <td>NaN</td>\n",
       "    </tr>\n",
       "    <tr>\n",
       "      <th>1</th>\n",
       "      <td>9.5</td>\n",
       "      <td>1.30</td>\n",
       "      <td>2.5</td>\n",
       "      <td>NaN</td>\n",
       "    </tr>\n",
       "    <tr>\n",
       "      <th>2</th>\n",
       "      <td>8.7</td>\n",
       "      <td>0.70</td>\n",
       "      <td>5.7</td>\n",
       "      <td>NaN</td>\n",
       "    </tr>\n",
       "    <tr>\n",
       "      <th>3</th>\n",
       "      <td>9.5</td>\n",
       "      <td>1.50</td>\n",
       "      <td>1.0</td>\n",
       "      <td>NaN</td>\n",
       "    </tr>\n",
       "    <tr>\n",
       "      <th>4</th>\n",
       "      <td>10.0</td>\n",
       "      <td>2.00</td>\n",
       "      <td>NaN</td>\n",
       "      <td>NaN</td>\n",
       "    </tr>\n",
       "    <tr>\n",
       "      <th>5</th>\n",
       "      <td>45.0</td>\n",
       "      <td>4.00</td>\n",
       "      <td>4.4</td>\n",
       "      <td>3.0</td>\n",
       "    </tr>\n",
       "    <tr>\n",
       "      <th>6</th>\n",
       "      <td>9.0</td>\n",
       "      <td>0.90</td>\n",
       "      <td>3.3</td>\n",
       "      <td>7.0</td>\n",
       "    </tr>\n",
       "    <tr>\n",
       "      <th>7</th>\n",
       "      <td>9.1</td>\n",
       "      <td>0.88</td>\n",
       "      <td>NaN</td>\n",
       "      <td>2.0</td>\n",
       "    </tr>\n",
       "    <tr>\n",
       "      <th>8</th>\n",
       "      <td>8.2</td>\n",
       "      <td>1.11</td>\n",
       "      <td>2.0</td>\n",
       "      <td>3.0</td>\n",
       "    </tr>\n",
       "    <tr>\n",
       "      <th>9</th>\n",
       "      <td>11.0</td>\n",
       "      <td>3.00</td>\n",
       "      <td>1.0</td>\n",
       "      <td>5.0</td>\n",
       "    </tr>\n",
       "  </tbody>\n",
       "</table>\n",
       "</div>"
      ],
      "text/plain": [
       "   Target  Feature_1  Feature_2  Feature_3\n",
       "0    10.5       3.00        3.0        NaN\n",
       "1     9.5       1.30        2.5        NaN\n",
       "2     8.7       0.70        5.7        NaN\n",
       "3     9.5       1.50        1.0        NaN\n",
       "4    10.0       2.00        NaN        NaN\n",
       "5    45.0       4.00        4.4        3.0\n",
       "6     9.0       0.90        3.3        7.0\n",
       "7     9.1       0.88        NaN        2.0\n",
       "8     8.2       1.11        2.0        3.0\n",
       "9    11.0       3.00        1.0        5.0"
      ]
     },
     "metadata": {},
     "output_type": "display_data"
    }
   ],
   "source": [
    "df = pd.DataFrame({\n",
    "    'Target': [10.5, 9.5, 8.7, 9.5, 10, 45, 9, 9.1, 8.2, 11],\n",
    "    'Feature_1': [3, 1.3, 0.7, 1.5, 2, 4, 0.9, 0.88, 1.11, 3],\n",
    "    'Feature_2': [3, 2.5, 5.7, 1, np.nan, 4.4, 3.3, np.nan, 2, 1],\n",
    "    'Feature_3': [np.nan, np.nan, np.nan, np.nan, np.nan, 3, 7, 2, 3, 5]\n",
    "})\n",
    "\n",
    "display(df)"
   ]
  },
  {
   "cell_type": "markdown",
   "metadata": {},
   "source": [
    "Let's inspect this dataset"
   ]
  },
  {
   "cell_type": "code",
   "execution_count": 3,
   "metadata": {},
   "outputs": [
    {
     "data": {
      "text/html": [
       "<div>\n",
       "<style scoped>\n",
       "    .dataframe tbody tr th:only-of-type {\n",
       "        vertical-align: middle;\n",
       "    }\n",
       "\n",
       "    .dataframe tbody tr th {\n",
       "        vertical-align: top;\n",
       "    }\n",
       "\n",
       "    .dataframe thead th {\n",
       "        text-align: right;\n",
       "    }\n",
       "</style>\n",
       "<table border=\"1\" class=\"dataframe\">\n",
       "  <thead>\n",
       "    <tr style=\"text-align: right;\">\n",
       "      <th></th>\n",
       "      <th>Target</th>\n",
       "      <th>Feature_1</th>\n",
       "      <th>Feature_2</th>\n",
       "      <th>Feature_3</th>\n",
       "    </tr>\n",
       "  </thead>\n",
       "  <tbody>\n",
       "    <tr>\n",
       "      <th>count</th>\n",
       "      <td>10.000000</td>\n",
       "      <td>10.000000</td>\n",
       "      <td>8.000000</td>\n",
       "      <td>5.0</td>\n",
       "    </tr>\n",
       "    <tr>\n",
       "      <th>mean</th>\n",
       "      <td>13.050000</td>\n",
       "      <td>1.839000</td>\n",
       "      <td>2.862500</td>\n",
       "      <td>4.0</td>\n",
       "    </tr>\n",
       "    <tr>\n",
       "      <th>std</th>\n",
       "      <td>11.256924</td>\n",
       "      <td>1.126809</td>\n",
       "      <td>1.622993</td>\n",
       "      <td>2.0</td>\n",
       "    </tr>\n",
       "    <tr>\n",
       "      <th>min</th>\n",
       "      <td>8.200000</td>\n",
       "      <td>0.700000</td>\n",
       "      <td>1.000000</td>\n",
       "      <td>2.0</td>\n",
       "    </tr>\n",
       "    <tr>\n",
       "      <th>25%</th>\n",
       "      <td>9.025000</td>\n",
       "      <td>0.952500</td>\n",
       "      <td>1.750000</td>\n",
       "      <td>3.0</td>\n",
       "    </tr>\n",
       "    <tr>\n",
       "      <th>50%</th>\n",
       "      <td>9.500000</td>\n",
       "      <td>1.400000</td>\n",
       "      <td>2.750000</td>\n",
       "      <td>3.0</td>\n",
       "    </tr>\n",
       "    <tr>\n",
       "      <th>75%</th>\n",
       "      <td>10.375000</td>\n",
       "      <td>2.750000</td>\n",
       "      <td>3.575000</td>\n",
       "      <td>5.0</td>\n",
       "    </tr>\n",
       "    <tr>\n",
       "      <th>max</th>\n",
       "      <td>45.000000</td>\n",
       "      <td>4.000000</td>\n",
       "      <td>5.700000</td>\n",
       "      <td>7.0</td>\n",
       "    </tr>\n",
       "  </tbody>\n",
       "</table>\n",
       "</div>"
      ],
      "text/plain": [
       "          Target  Feature_1  Feature_2  Feature_3\n",
       "count  10.000000  10.000000   8.000000        5.0\n",
       "mean   13.050000   1.839000   2.862500        4.0\n",
       "std    11.256924   1.126809   1.622993        2.0\n",
       "min     8.200000   0.700000   1.000000        2.0\n",
       "25%     9.025000   0.952500   1.750000        3.0\n",
       "50%     9.500000   1.400000   2.750000        3.0\n",
       "75%    10.375000   2.750000   3.575000        5.0\n",
       "max    45.000000   4.000000   5.700000        7.0"
      ]
     },
     "execution_count": 3,
     "metadata": {},
     "output_type": "execute_result"
    }
   ],
   "source": [
    "df.describe()"
   ]
  },
  {
   "cell_type": "markdown",
   "metadata": {},
   "source": [
    "### 1. An Outlier\n",
    "The data point that differs significantly from other observations. Statiscally, the outlier can be identify using the Tukey's box plot method.\n",
    "\n",
    "Let do this for the target. <br>"
   ]
  },
  {
   "cell_type": "markdown",
   "metadata": {},
   "source": [
    "#### 1.1 Tukey's boxplot method. \n",
    "Using this method, there is one outlier (45). We may also create a function to extract this value. The code is derived from Alicia Horsh's Blog [https://towardsdatascience.com/detecting-and-treating-outliers-in-python-part-1-4ece5098b755]."
   ]
  },
  {
   "cell_type": "code",
   "execution_count": 23,
   "metadata": {},
   "outputs": [
    {
     "data": {
      "image/png": "[encoded data removed]",
      "text/plain": [
       "<Figure size 432x288 with 1 Axes>"
      ]
     },
     "metadata": {
      "needs_background": "light"
     },
     "output_type": "display_data"
    }
   ],
   "source": [
    "sns.boxplot(x=df['Target']);"
   ]
  },
  {
   "cell_type": "code",
   "execution_count": 5,
   "metadata": {},
   "outputs": [],
   "source": [
    "#Tukey's method\n",
    "def tukeys_method(df, variable):\n",
    "    #Takes two parameters: dataframe & variable of interest as string\n",
    "    q1 = df[variable].quantile(0.25)\n",
    "    q3 = df[variable].quantile(0.75)\n",
    "    iqr = q3-q1\n",
    "    inner_fence = 1.5*iqr\n",
    "    \n",
    "    #inner fence lower and upper end\n",
    "    inner_fence_le = q1-inner_fence\n",
    "    inner_fence_ue = q3+inner_fence\n",
    "    \n",
    "    outliers_poss = []\n",
    "    \n",
    "    for index, x in enumerate(df[variable]):\n",
    "        if x <= inner_fence_le or x >= inner_fence_ue:\n",
    "            outliers_poss.append(index)\n",
    "    return outliers_poss, inner_fence_le, inner_fence_ue "
   ]
  },
  {
   "cell_type": "code",
   "execution_count": 6,
   "metadata": {},
   "outputs": [
    {
     "name": "stdout",
     "output_type": "stream",
     "text": [
      "The outlier index in the dataframe:  [5]\n",
      "Lower limit:  7.000000000000001\n",
      "Upper limit:  12.399999999999999\n"
     ]
    }
   ],
   "source": [
    "# get information about Tukey's outliers. \n",
    "\n",
    "outlier_indices, lower_limit, upper_limit = tukeys_method(df,'Target')\n",
    "\n",
    "print('The outlier index in the dataframe: ', outlier_indices)\n",
    "print('Lower limit: ', lower_limit)\n",
    "print('Upper limit: ', upper_limit)"
   ]
  },
  {
   "cell_type": "code",
   "execution_count": 7,
   "metadata": {},
   "outputs": [
    {
     "data": {
      "text/plain": [
       "45.0"
      ]
     },
     "execution_count": 7,
     "metadata": {},
     "output_type": "execute_result"
    }
   ],
   "source": [
    "# extract the value of the outlier\n",
    "df['Target'].iloc[5]"
   ]
  },
  {
   "cell_type": "markdown",
   "metadata": {},
   "source": [
    "How the outlier looks like on other representations?"
   ]
  },
  {
   "cell_type": "code",
   "execution_count": 8,
   "metadata": {},
   "outputs": [
    {
     "data": {
      "text/plain": [
       "count    10.000000\n",
       "mean     13.050000\n",
       "std      11.256924\n",
       "min       8.200000\n",
       "25%       9.025000\n",
       "50%       9.500000\n",
       "75%      10.375000\n",
       "max      45.000000\n",
       "Name: Target, dtype: float64"
      ]
     },
     "metadata": {},
     "output_type": "display_data"
    },
    {
     "data": {
      "image/png": "[encoded data removed]",
      "text/plain": [
       "<Figure size 360x360 with 1 Axes>"
      ]
     },
     "metadata": {
      "needs_background": "light"
     },
     "output_type": "display_data"
    }
   ],
   "source": [
    "display(df['Target'].describe())\n",
    "sns.displot(df['Target']);"
   ]
  },
  {
   "cell_type": "code",
   "execution_count": 9,
   "metadata": {},
   "outputs": [
    {
     "data": {
      "image/png": "[encoded data removed]",
      "text/plain": [
       "<Figure size 432x288 with 1 Axes>"
      ]
     },
     "metadata": {
      "needs_background": "light"
     },
     "output_type": "display_data"
    }
   ],
   "source": [
    "sns.regplot(y=df['Target'], x=df['Feature_1']);"
   ]
  },
  {
   "cell_type": "markdown",
   "metadata": {},
   "source": [
    "#### 1.2 Eliminating outliers\n",
    "Practically, we need to take outliers out from the analysis because it would improve the accuracy of the model. For example, the regression would be fitted towards most of data points."
   ]
  },
  {
   "cell_type": "code",
   "execution_count": 10,
   "metadata": {},
   "outputs": [
    {
     "data": {
      "text/plain": [
       "count     9.000000\n",
       "mean      9.500000\n",
       "std       0.883176\n",
       "min       8.200000\n",
       "25%       9.000000\n",
       "50%       9.500000\n",
       "75%      10.000000\n",
       "max      11.000000\n",
       "Name: Target, dtype: float64"
      ]
     },
     "metadata": {},
     "output_type": "display_data"
    },
    {
     "data": {
      "image/png": "[encoded data removed]",
      "text/plain": [
       "<Figure size 360x360 with 1 Axes>"
      ]
     },
     "metadata": {
      "needs_background": "light"
     },
     "output_type": "display_data"
    }
   ],
   "source": [
    "df_filt = df[df['Target']<upper_limit]\n",
    "\n",
    "display(df_filt['Target'].describe())\n",
    "sns.displot(df_filt['Target']);"
   ]
  },
  {
   "cell_type": "code",
   "execution_count": 11,
   "metadata": {},
   "outputs": [
    {
     "data": {
      "image/png": "[encoded data removed]",
      "text/plain": [
       "<Figure size 432x288 with 1 Axes>"
      ]
     },
     "metadata": {
      "needs_background": "light"
     },
     "output_type": "display_data"
    }
   ],
   "source": [
    "sns.boxplot(x=df_filt['Target']);"
   ]
  },
  {
   "cell_type": "code",
   "execution_count": 12,
   "metadata": {},
   "outputs": [
    {
     "data": {
      "image/png": "[encoded data removed]",
      "text/plain": [
       "<Figure size 432x288 with 1 Axes>"
      ]
     },
     "metadata": {
      "needs_background": "light"
     },
     "output_type": "display_data"
    }
   ],
   "source": [
    "sns.regplot(y=df_filt['Target'], x=df_filt['Feature_1']);"
   ]
  },
  {
   "cell_type": "markdown",
   "metadata": {},
   "source": [
    "### 2. Missing values\n",
    "In terms of business, missing values are commonly caused by data collection limitations. For example, sometimes we didn't collect users attributes because they don't give the consent. This could be seen as missing at random (MAR). The treatment to this type of missing is to delete the missing rows or to impute them using central tendency values. <br> <br>\n",
    "Another situation is called missing not at random (MNAR), this is the case when we couldn't collect information from a particular group of users. The treatment are either exclude this feature from the analysis or impute the data if we have sufficient knowledge about the feature. Below plot is to inspect the missing data patterns. "
   ]
  },
  {
   "cell_type": "markdown",
   "metadata": {},
   "source": [
    "#### 2.1. Inspecting missing value patterns\n",
    "We will use misingno module to visualize the missing data pattern."
   ]
  },
  {
   "cell_type": "code",
   "execution_count": 24,
   "metadata": {},
   "outputs": [
    {
     "name": "stdout",
     "output_type": "stream",
     "text": [
      "Requirement already satisfied: missingno in c:\\users\\natanop.pimonsathian\\anaconda3\\lib\\site-packages (0.5.1)\n",
      "Requirement already satisfied: matplotlib in c:\\users\\natanop.pimonsathian\\anaconda3\\lib\\site-packages (from missingno) (3.3.2)\n",
      "Requirement already satisfied: seaborn in c:\\users\\natanop.pimonsathian\\anaconda3\\lib\\site-packages (from missingno) (0.11.0)\n",
      "Requirement already satisfied: numpy in c:\\users\\natanop.pimonsathian\\anaconda3\\lib\\site-packages (from missingno) (1.19.2)\n"
     ]
    },
    {
     "name": "stderr",
     "output_type": "stream",
     "text": [
      "WARNING: Ignoring invalid distribution -tatsmodels (c:\\users\\natanop.pimonsathian\\anaconda3\\lib\\site-packages)\n",
      "WARNING: Ignoring invalid distribution -tatsmodels (c:\\users\\natanop.pimonsathian\\anaconda3\\lib\\site-packages)\n",
      "WARNING: Ignoring invalid distribution -tatsmodels (c:\\users\\natanop.pimonsathian\\anaconda3\\lib\\site-packages)\n",
      "WARNING: Ignoring invalid distribution -tatsmodels (c:\\users\\natanop.pimonsathian\\anaconda3\\lib\\site-packages)\n",
      "WARNING: Ignoring invalid distribution -tatsmodels (c:\\users\\natanop.pimonsathian\\anaconda3\\lib\\site-packages)\n",
      "WARNING: Ignoring invalid distribution -tatsmodels (c:\\users\\natanop.pimonsathian\\anaconda3\\lib\\site-packages)\n",
      "WARNING: You are using pip version 21.3.1; however, version 22.0.4 is available.\n",
      "You should consider upgrading via the 'c:\\users\\natanop.pimonsathian\\anaconda3\\python.exe -m pip install --upgrade pip' command.\n"
     ]
    },
    {
     "name": "stdout",
     "output_type": "stream",
     "text": [
      "Requirement already satisfied: scipy in c:\\users\\natanop.pimonsathian\\anaconda3\\lib\\site-packages (from missingno) (1.5.2)\n",
      "Requirement already satisfied: kiwisolver>=1.0.1 in c:\\users\\natanop.pimonsathian\\anaconda3\\lib\\site-packages (from matplotlib->missingno) (1.3.0)\n",
      "Requirement already satisfied: python-dateutil>=2.1 in c:\\users\\natanop.pimonsathian\\anaconda3\\lib\\site-packages (from matplotlib->missingno) (2.8.1)\n",
      "Requirement already satisfied: certifi>=2020.06.20 in c:\\users\\natanop.pimonsathian\\anaconda3\\lib\\site-packages (from matplotlib->missingno) (2020.6.20)\n",
      "Requirement already satisfied: pillow>=6.2.0 in c:\\users\\natanop.pimonsathian\\anaconda3\\lib\\site-packages (from matplotlib->missingno) (8.0.1)\n",
      "Requirement already satisfied: cycler>=0.10 in c:\\users\\natanop.pimonsathian\\anaconda3\\lib\\site-packages (from matplotlib->missingno) (0.10.0)\n",
      "Requirement already satisfied: pyparsing!=2.0.4,!=2.1.2,!=2.1.6,>=2.0.3 in c:\\users\\natanop.pimonsathian\\anaconda3\\lib\\site-packages (from matplotlib->missingno) (2.4.7)\n",
      "Requirement already satisfied: pandas>=0.23 in c:\\users\\natanop.pimonsathian\\anaconda3\\lib\\site-packages (from seaborn->missingno) (1.1.3)\n",
      "Requirement already satisfied: six in c:\\users\\natanop.pimonsathian\\anaconda3\\lib\\site-packages (from cycler>=0.10->matplotlib->missingno) (1.15.0)\n",
      "Requirement already satisfied: pytz>=2017.2 in c:\\users\\natanop.pimonsathian\\anaconda3\\lib\\site-packages (from pandas>=0.23->seaborn->missingno) (2020.1)\n"
     ]
    }
   ],
   "source": [
    "# install missingno module\n",
    "!pip install missingno"
   ]
  },
  {
   "cell_type": "code",
   "execution_count": 25,
   "metadata": {},
   "outputs": [],
   "source": [
    "import missingno as msno"
   ]
  },
  {
   "cell_type": "code",
   "execution_count": 27,
   "metadata": {},
   "outputs": [
    {
     "name": "stdout",
     "output_type": "stream",
     "text": [
      "<class 'pandas.core.frame.DataFrame'>\n",
      "RangeIndex: 10 entries, 0 to 9\n",
      "Data columns (total 4 columns):\n",
      " #   Column     Non-Null Count  Dtype  \n",
      "---  ------     --------------  -----  \n",
      " 0   Target     10 non-null     float64\n",
      " 1   Feature_1  10 non-null     float64\n",
      " 2   Feature_2  10 non-null     float64\n",
      " 3   Feature_3  7 non-null      float64\n",
      "dtypes: float64(4)\n",
      "memory usage: 448.0 bytes\n"
     ]
    }
   ],
   "source": [
    "df.info()"
   ]
  },
  {
   "cell_type": "code",
   "execution_count": 26,
   "metadata": {},
   "outputs": [
    {
     "data": {
      "image/png": "[encoded data removed]",
      "text/plain": [
       "<Figure size 1800x720 with 3 Axes>"
      ]
     },
     "metadata": {
      "needs_background": "light"
     },
     "output_type": "display_data"
    }
   ],
   "source": [
    "# count the completed rows\n",
    "msno.bar(df);"
   ]
  },
  {
   "cell_type": "code",
   "execution_count": 15,
   "metadata": {},
   "outputs": [
    {
     "data": {
      "image/png": "[encoded data removed]",
      "text/plain": [
       "<Figure size 1800x720 with 2 Axes>"
      ]
     },
     "metadata": {
      "needs_background": "light"
     },
     "output_type": "display_data"
    }
   ],
   "source": [
    "# find the pattern\n",
    "msno.matrix(df);"
   ]
  },
  {
   "cell_type": "markdown",
   "metadata": {},
   "source": [
    "#### 2.2. Treatments to missing values"
   ]
  },
  {
   "cell_type": "markdown",
   "metadata": {},
   "source": [
    "Feature_2, Missing at random, we will impute using the mean. "
   ]
  },
  {
   "cell_type": "code",
   "execution_count": 16,
   "metadata": {},
   "outputs": [
    {
     "data": {
      "text/plain": [
       "count    8.000000\n",
       "mean     2.862500\n",
       "std      1.622993\n",
       "min      1.000000\n",
       "25%      1.750000\n",
       "50%      2.750000\n",
       "75%      3.575000\n",
       "max      5.700000\n",
       "Name: Feature_2, dtype: float64"
      ]
     },
     "metadata": {},
     "output_type": "display_data"
    },
    {
     "data": {
      "image/png": "[encoded data removed]",
      "text/plain": [
       "<Figure size 360x360 with 1 Axes>"
      ]
     },
     "metadata": {
      "needs_background": "light"
     },
     "output_type": "display_data"
    }
   ],
   "source": [
    "display(df['Feature_2'].describe())\n",
    "sns.displot(df['Feature_2']);"
   ]
  },
  {
   "cell_type": "code",
   "execution_count": 17,
   "metadata": {},
   "outputs": [
    {
     "data": {
      "image/png": "[encoded data removed]",
      "text/plain": [
       "<Figure size 360x360 with 1 Axes>"
      ]
     },
     "metadata": {
      "needs_background": "light"
     },
     "output_type": "display_data"
    }
   ],
   "source": [
    "df['Feature_2'] = df['Feature_2'].fillna(np.mean(df['Feature_2']))\n",
    "sns.displot(df['Feature_2']);"
   ]
  },
  {
   "cell_type": "markdown",
   "metadata": {},
   "source": [
    "Feature_3, Missing not at random, probable we will impute using the most common value (mode) "
   ]
  },
  {
   "cell_type": "code",
   "execution_count": 18,
   "metadata": {},
   "outputs": [
    {
     "data": {
      "image/png": "[encoded data removed]",
      "text/plain": [
       "<Figure size 360x360 with 1 Axes>"
      ]
     },
     "metadata": {
      "needs_background": "light"
     },
     "output_type": "display_data"
    }
   ],
   "source": [
    "sns.displot(df['Feature_3']);"
   ]
  },
  {
   "cell_type": "code",
   "execution_count": 19,
   "metadata": {},
   "outputs": [
    {
     "name": "stdout",
     "output_type": "stream",
     "text": [
      "0    3.0\n",
      "dtype: float64\n"
     ]
    },
    {
     "data": {
      "image/png": "[encoded data removed]",
      "text/plain": [
       "<Figure size 360x360 with 1 Axes>"
      ]
     },
     "metadata": {
      "needs_background": "light"
     },
     "output_type": "display_data"
    }
   ],
   "source": [
    "print(df['Feature_3'].mode()) # extract the mode \n",
    "\n",
    "# impute using the mode\n",
    "df['Feature_3'] = df['Feature_3'].fillna(df['Feature_2'].mode())\n",
    "sns.displot(df['Feature_3']);"
   ]
  },
  {
   "cell_type": "markdown",
   "metadata": {},
   "source": [
    "### 3. Target variable transformation\n",
    "When we have small and big value together like small and large amounts of transaction to be predicted. The data can be very skewed. Most of the models can't perform well when learning from the skewed target variable. One of the ways to reduce the skewness is to scale the data using log transformation. "
   ]
  },
  {
   "cell_type": "code",
   "execution_count": 20,
   "metadata": {},
   "outputs": [
    {
     "data": {
      "image/png": "[encoded data removed]",
      "text/plain": [
       "<Figure size 360x360 with 1 Axes>"
      ]
     },
     "metadata": {
      "needs_background": "light"
     },
     "output_type": "display_data"
    }
   ],
   "source": [
    "transaction_amount = np.array([50, 340, 200, 250, 220, 229, 239, 1200, 422, 500])\n",
    "sns.displot(transaction_amount);"
   ]
  },
  {
   "cell_type": "code",
   "execution_count": 31,
   "metadata": {},
   "outputs": [
    {
     "data": {
      "text/plain": [
       "0.0"
      ]
     },
     "execution_count": 31,
     "metadata": {},
     "output_type": "execute_result"
    }
   ],
   "source": [
    "np.log10(1)"
   ]
  },
  {
   "cell_type": "code",
   "execution_count": 33,
   "metadata": {},
   "outputs": [
    {
     "data": {
      "text/plain": [
       "1.0"
      ]
     },
     "execution_count": 33,
     "metadata": {},
     "output_type": "execute_result"
    }
   ],
   "source": [
    "np.log10(10)"
   ]
  },
  {
   "cell_type": "code",
   "execution_count": 32,
   "metadata": {},
   "outputs": [
    {
     "data": {
      "text/plain": [
       "2.0"
      ]
     },
     "execution_count": 32,
     "metadata": {},
     "output_type": "execute_result"
    }
   ],
   "source": [
    "np.log10(100)"
   ]
  },
  {
   "cell_type": "code",
   "execution_count": 30,
   "metadata": {},
   "outputs": [
    {
     "data": {
      "text/plain": [
       "3.0"
      ]
     },
     "execution_count": 30,
     "metadata": {},
     "output_type": "execute_result"
    }
   ],
   "source": [
    "np.log10(1000)"
   ]
  },
  {
   "cell_type": "code",
   "execution_count": null,
   "metadata": {},
   "outputs": [],
   "source": []
  },
  {
   "cell_type": "code",
   "execution_count": 34,
   "metadata": {},
   "outputs": [
    {
     "data": {
      "image/png": "[encoded data removed]",
      "text/plain": [
       "<Figure size 360x360 with 1 Axes>"
      ]
     },
     "metadata": {
      "needs_background": "light"
     },
     "output_type": "display_data"
    }
   ],
   "source": [
    "sns.displot(np.log10(transaction_amount));"
   ]
  }
 ],
 "metadata": {
  "kernelspec": {
   "display_name": "Python 3",
   "language": "python",
   "name": "python3"
  },
  "language_info": {
   "codemirror_mode": {
    "name": "ipython",
    "version": 3
   },
   "file_extension": ".py",
   "mimetype": "text/x-python",
   "name": "python",
   "nbconvert_exporter": "python",
   "pygments_lexer": "ipython3",
   "version": "3.8.5"
  }
 },
 "nbformat": 4,
 "nbformat_minor": 4
}
