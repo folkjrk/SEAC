{
 "cells": [
  {
   "cell_type": "code",
   "execution_count": 1,
   "metadata": {},
   "outputs": [
    {
     "name": "stdout",
     "output_type": "stream",
     "text": [
      "3.10.4 (v3.10.4:9d38120e33, Mar 23 2022, 17:29:05) [Clang 13.0.0 (clang-1300.0.29.30)]\n"
     ]
    }
   ],
   "source": [
    "import sys \n",
    "print (sys.version)"
   ]
  },
  {
   "cell_type": "code",
   "execution_count": 2,
   "metadata": {},
   "outputs": [
    {
     "data": {
      "text/plain": [
       "'3.10.4'"
      ]
     },
     "execution_count": 2,
     "metadata": {},
     "output_type": "execute_result"
    }
   ],
   "source": [
    "import platform\n",
    "platform.python_version()"
   ]
  },
  {
   "cell_type": "code",
   "execution_count": 3,
   "metadata": {},
   "outputs": [
    {
     "ename": "NameError",
     "evalue": "name 'a' is not defined",
     "output_type": "error",
     "traceback": [
      "\u001b[0;31m---------------------------------------------------------------------------\u001b[0m",
      "\u001b[0;31mNameError\u001b[0m                                 Traceback (most recent call last)",
      "\u001b[1;32m/Users/astroxjrk/Desktop/visual_studio/python /jupyter /ASEC/lecture1py.ipynb Cell 3'\u001b[0m in \u001b[0;36m<cell line: 3>\u001b[0;34m()\u001b[0m\n\u001b[1;32m      <a href='vscode-notebook-cell:/Users/astroxjrk/Desktop/visual_studio/python%20/jupyter%20/ASEC/lecture1py.ipynb#ch0000002?line=0'>1</a>\u001b[0m a \u001b[39m=\u001b[39m\u001b[39m10\u001b[39m\n\u001b[1;32m      <a href='vscode-notebook-cell:/Users/astroxjrk/Desktop/visual_studio/python%20/jupyter%20/ASEC/lecture1py.ipynb#ch0000002?line=1'>2</a>\u001b[0m \u001b[39mdel\u001b[39;00m a\n\u001b[0;32m----> <a href='vscode-notebook-cell:/Users/astroxjrk/Desktop/visual_studio/python%20/jupyter%20/ASEC/lecture1py.ipynb#ch0000002?line=2'>3</a>\u001b[0m \u001b[39mprint\u001b[39m(a)\n",
      "\u001b[0;31mNameError\u001b[0m: name 'a' is not defined"
     ]
    }
   ],
   "source": [
    "a =10\n",
    "del a\n",
    "print(a)"
   ]
  },
  {
   "cell_type": "code",
   "execution_count": null,
   "metadata": {},
   "outputs": [
    {
     "name": "stdout",
     "output_type": "stream",
     "text": [
      "<class 'int'>\n",
      "<class 'float'>\n"
     ]
    }
   ],
   "source": [
    "var_int = 1\n",
    "var_float = 1.0\n",
    "var_str = '1'\n",
    "var_bool = True\n",
    "\n",
    "print(type(var_int))\n",
    "print(type(var_float))"
   ]
  },
  {
   "cell_type": "code",
   "execution_count": null,
   "metadata": {},
   "outputs": [
    {
     "name": "stdout",
     "output_type": "stream",
     "text": [
      "12\n",
      "Casted result : 3\n"
     ]
    }
   ],
   "source": [
    "var_str_1 = '1'\n",
    "var_str_2 = '2'\n",
    "print(var_str_1 + var_str_2)\n",
    "print('Casted result :', int(var_str_1)+ int(var_str_2))"
   ]
  },
  {
   "cell_type": "code",
   "execution_count": null,
   "metadata": {},
   "outputs": [
    {
     "name": "stdout",
     "output_type": "stream",
     "text": [
      "Example_1\n",
      "40\n",
      "40\n",
      "Example_2\n",
      "333.29999999999995\n",
      "333.3\n",
      "Check >>\n",
      "False\n",
      "True\n"
     ]
    },
    {
     "data": {
      "text/plain": [
       "3.3"
      ]
     },
     "execution_count": 9,
     "metadata": {},
     "output_type": "execute_result"
    }
   ],
   "source": [
    "a, b, c, d =10, 20, '20', \"33.33\"\n",
    "\n",
    "print(\"Example_1\")\n",
    "print(b+int(c))\n",
    "print(40)\n",
    "\n",
    "print(\"Example_2\")\n",
    "print(a*float(d))\n",
    "print(333.3)\n",
    "\n",
    "result1 = 333.3\n",
    "result2 = a*float(d)\n",
    "print(\"Check >>\")\n",
    "print(result1==result2)\n",
    "print(result1!=result2)\n",
    "\n",
    "round(3.299,2)\n"
   ]
  },
  {
   "cell_type": "code",
   "execution_count": null,
   "metadata": {},
   "outputs": [],
   "source": [
    "Result = 10\n",
    "_result = 10\n",
    "result_1 = 10\n",
    "\n",
    "#invaid output\n",
    "#.result = 10\n",
    "#result 1 = 10 "
   ]
  },
  {
   "cell_type": "code",
   "execution_count": null,
   "metadata": {},
   "outputs": [
    {
     "name": "stdout",
     "output_type": "stream",
     "text": [
      "5 2\n",
      "10\n",
      "2.5\n",
      "3\n",
      "25\n"
     ]
    }
   ],
   "source": [
    "x, y = 5, 2\n",
    "print(x, y)\n",
    "print(x*y)\n",
    "print(x/y)\n",
    "print(x-y)\n",
    "print(x**y)"
   ]
  },
  {
   "cell_type": "code",
   "execution_count": null,
   "metadata": {},
   "outputs": [
    {
     "name": "stdout",
     "output_type": "stream",
     "text": [
      "True\n"
     ]
    }
   ],
   "source": [
    "s= 'Hello'\n",
    "type(s)\n",
    "print('h' in s.lower())"
   ]
  },
  {
   "cell_type": "code",
   "execution_count": null,
   "metadata": {},
   "outputs": [
    {
     "name": "stdout",
     "output_type": "stream",
     "text": [
      "hello\n"
     ]
    }
   ],
   "source": [
    "#create a function to print a word\n",
    "\n",
    "def print_word(w):\n",
    "    return print(w)\n",
    "\n",
    "print_word('hello')"
   ]
  },
  {
   "cell_type": "code",
   "execution_count": null,
   "metadata": {},
   "outputs": [
    {
     "name": "stdout",
     "output_type": "stream",
     "text": [
      "3\n",
      "3\n",
      "None\n",
      "3\n",
      "None\n"
     ]
    }
   ],
   "source": [
    "def addition(num1, num2):\n",
    "    sum = num1 + num2\n",
    "    return sum\n",
    "\n",
    "print(addition(1,2))\n",
    "\n",
    "def addition(num1, num2):\n",
    "    sum = num1 + num2\n",
    "    print(sum)\n",
    "    #return sum\n",
    "\n",
    "print(addition(1,2))\n",
    "\n",
    "result = addition(1,2)\n",
    "print(result)"
   ]
  },
  {
   "cell_type": "markdown",
   "metadata": {},
   "source": [
    "Create a function\n",
    "1.That takes the price of the item\n",
    "2.Return price after vat(7%)\n",
    "3.Example price = 100, returns price after vat = 107"
   ]
  },
  {
   "cell_type": "code",
   "execution_count": null,
   "metadata": {},
   "outputs": [
    {
     "name": "stdout",
     "output_type": "stream",
     "text": [
      "535.0\n"
     ]
    }
   ],
   "source": [
    "def PriceAfterVAT(Price):\n",
    "    PAV = Price * 1.07\n",
    "    return PAV\n",
    "x = PriceAfterVAT(500)\n",
    "print(x)"
   ]
  },
  {
   "cell_type": "markdown",
   "metadata": {},
   "source": [
    "Create a function\n",
    "1.That takes the food price and calculate 10% service charge, the result is price with sc\n",
    "2.Calculate the price after vat with the variable returns from 1."
   ]
  },
  {
   "cell_type": "code",
   "execution_count": null,
   "metadata": {},
   "outputs": [
    {
     "name": "stdout",
     "output_type": "stream",
     "text": [
      "117.70000000000002\n"
     ]
    }
   ],
   "source": [
    "def TotalPrice(Price):\n",
    "    output1 = Price*1.1   \n",
    "    output2 = output1*1.07\n",
    "    return output2\n",
    "# End def\n",
    "ans = TotalPrice(100)\n",
    "print(ans)\n"
   ]
  },
  {
   "cell_type": "code",
   "execution_count": null,
   "metadata": {},
   "outputs": [
    {
     "name": "stdout",
     "output_type": "stream",
     "text": [
      "117.70000000000002\n",
      "117.70000000000002\n"
     ]
    }
   ],
   "source": [
    "def cal_sc(price):\n",
    "    price_sc = price*1.10\n",
    "    return price_sc\n",
    "\n",
    "def cal_vat(price_sc):\n",
    "    price_vat = price_sc*1.07\n",
    "    return price_vat\n",
    "\n",
    "def total_pay(price):\n",
    "    return cal_vat(cal_sc(price))\n",
    "\n",
    "print(cal_vat(cal_sc(100)))\n",
    "print(total_pay(100))"
   ]
  },
  {
   "cell_type": "code",
   "execution_count": 13,
   "metadata": {},
   "outputs": [
    {
     "data": {
      "text/plain": [
       "10.0"
      ]
     },
     "execution_count": 13,
     "metadata": {},
     "output_type": "execute_result"
    }
   ],
   "source": [
    "## code for picing calculation\n",
    "def cal_sc(price,sc):\n",
    "    price_sc = price*sc\n",
    "    return price_sc\n",
    "\n",
    "def cal_vat(price_sc):\n",
    "    price_vat = price_sc*1.07\n",
    "    return price_vat\n",
    "\n",
    "def total_pay(price):\n",
    "    return cal_vat(cal_sc(price))\n",
    "\n",
    "#print(cal_vat(cal_sc(100)))\n",
    "#print(total_pay(100))\n",
    "#print(price_vat)\n",
    "\n",
    "cal_sc(price=100,sc=0.1)\n"
   ]
  },
  {
   "cell_type": "code",
   "execution_count": 23,
   "metadata": {},
   "outputs": [
    {
     "name": "stdout",
     "output_type": "stream",
     "text": [
      "(110.0, 10.0)\n"
     ]
    }
   ],
   "source": [
    "def cal_sc(price,sc):\n",
    "    price_sc = price + price*sc\n",
    "    return price_sc,price*sc\n",
    "print(cal_sc(100,0.1))\n",
    "\n",
    "# totalprice,sc = call_sc(100,0.1)\n",
    "#print(totalprice)\n",
    "#print(sc)\n",
    "\n"
   ]
  },
  {
   "cell_type": "code",
   "execution_count": 24,
   "metadata": {},
   "outputs": [
    {
     "ename": "UnboundLocalError",
     "evalue": "local variable 'scRate' referenced before assignment",
     "output_type": "error",
     "traceback": [
      "\u001b[0;31m---------------------------------------------------------------------------\u001b[0m",
      "\u001b[0;31mUnboundLocalError\u001b[0m                         Traceback (most recent call last)",
      "\u001b[1;32m/Users/astroxjrk/Desktop/visual_studio/python /jupyter /ASEC/lecture1py.ipynb Cell 19'\u001b[0m in \u001b[0;36m<cell line: 6>\u001b[0;34m()\u001b[0m\n\u001b[1;32m      <a href='vscode-notebook-cell:/Users/astroxjrk/Desktop/visual_studio/python%20/jupyter%20/ASEC/lecture1py.ipynb#ch0000019?line=3'>4</a>\u001b[0m     result\u001b[39m=\u001b[39m price\u001b[39m*\u001b[39m(\u001b[39m1\u001b[39m\u001b[39m+\u001b[39mscRate)\n\u001b[1;32m      <a href='vscode-notebook-cell:/Users/astroxjrk/Desktop/visual_studio/python%20/jupyter%20/ASEC/lecture1py.ipynb#ch0000019?line=4'>5</a>\u001b[0m     \u001b[39mreturn\u001b[39;00m \u001b[39mstr\u001b[39m(result)\n\u001b[0;32m----> <a href='vscode-notebook-cell:/Users/astroxjrk/Desktop/visual_studio/python%20/jupyter%20/ASEC/lecture1py.ipynb#ch0000019?line=5'>6</a>\u001b[0m res \u001b[39m=\u001b[39m cal_sc_str(price\u001b[39m=\u001b[39;49m\u001b[39m100\u001b[39;49m,sc\u001b[39m=\u001b[39;49m\u001b[39m'\u001b[39;49m\u001b[39m10\u001b[39;49m\u001b[39m%\u001b[39;49m\u001b[39m'\u001b[39;49m)\n\u001b[1;32m      <a href='vscode-notebook-cell:/Users/astroxjrk/Desktop/visual_studio/python%20/jupyter%20/ASEC/lecture1py.ipynb#ch0000019?line=6'>7</a>\u001b[0m \u001b[39mtype\u001b[39m(res)\n",
      "\u001b[1;32m/Users/astroxjrk/Desktop/visual_studio/python /jupyter /ASEC/lecture1py.ipynb Cell 19'\u001b[0m in \u001b[0;36mcal_sc_str\u001b[0;34m(price, sc)\u001b[0m\n\u001b[1;32m      <a href='vscode-notebook-cell:/Users/astroxjrk/Desktop/visual_studio/python%20/jupyter%20/ASEC/lecture1py.ipynb#ch0000019?line=0'>1</a>\u001b[0m \u001b[39mdef\u001b[39;00m \u001b[39mcal_sc_str\u001b[39m(price,sc):\n\u001b[1;32m      <a href='vscode-notebook-cell:/Users/astroxjrk/Desktop/visual_studio/python%20/jupyter%20/ASEC/lecture1py.ipynb#ch0000019?line=1'>2</a>\u001b[0m     strSc \u001b[39m=\u001b[39m sc\u001b[39m.\u001b[39mreplace(\u001b[39m\"\u001b[39m\u001b[39m%\u001b[39m\u001b[39m\"\u001b[39m,\u001b[39m\"\u001b[39m\u001b[39m\"\u001b[39m)\n\u001b[0;32m----> <a href='vscode-notebook-cell:/Users/astroxjrk/Desktop/visual_studio/python%20/jupyter%20/ASEC/lecture1py.ipynb#ch0000019?line=2'>3</a>\u001b[0m     scRate \u001b[39m=\u001b[39m price\u001b[39m*\u001b[39m(\u001b[39m1\u001b[39m\u001b[39m+\u001b[39mscRate)\u001b[39m/\u001b[39m\u001b[39m100\u001b[39m\n\u001b[1;32m      <a href='vscode-notebook-cell:/Users/astroxjrk/Desktop/visual_studio/python%20/jupyter%20/ASEC/lecture1py.ipynb#ch0000019?line=3'>4</a>\u001b[0m     result\u001b[39m=\u001b[39m price\u001b[39m*\u001b[39m(\u001b[39m1\u001b[39m\u001b[39m+\u001b[39mscRate)\n\u001b[1;32m      <a href='vscode-notebook-cell:/Users/astroxjrk/Desktop/visual_studio/python%20/jupyter%20/ASEC/lecture1py.ipynb#ch0000019?line=4'>5</a>\u001b[0m     \u001b[39mreturn\u001b[39;00m \u001b[39mstr\u001b[39m(result)\n",
      "\u001b[0;31mUnboundLocalError\u001b[0m: local variable 'scRate' referenced before assignment"
     ]
    }
   ],
   "source": [
    "def cal_sc_str(price,sc):\n",
    "    strSc = sc.replace(\"%\",\"\")\n",
    "    scRate = price*(1+scRate)/100\n",
    "    result= price*(1+scRate)\n",
    "    return str(result)\n",
    "res = cal_sc_str(price=100,sc='10%')\n",
    "type(res)"
   ]
  },
  {
   "cell_type": "code",
   "execution_count": 25,
   "metadata": {},
   "outputs": [],
   "source": [
    "price = input()\n",
    "sc= input()\n",
    "price = float(price)\n",
    "cal_sc_str(price,sc)"
   ]
  },
  {
   "cell_type": "code",
   "execution_count": null,
   "metadata": {},
   "outputs": [],
   "source": [
    "type(sc)"
   ]
  },
  {
   "cell_type": "markdown",
   "metadata": {},
   "source": [
    "## String fuctions\n",
    "1.check if a string is palindrome\n",
    "    -input 'tenet',return True\n",
    "    -input 'Tenet', return True\n",
    "    -input ' gag',return True\n",
    "    -input 'bot', return False\n"
   ]
  },
  {
   "cell_type": "code",
   "execution_count": 2,
   "metadata": {},
   "outputs": [
    {
     "name": "stdout",
     "output_type": "stream",
     "text": [
      "True\n"
     ]
    }
   ],
   "source": [
    "def check_palidrome_1(s):\n",
    "    s = s.lower()\n",
    "    if(s==s[::-1]):\n",
    "        return True\n",
    "    else:\n",
    "        return False\n",
    "\n",
    "print(check_palidrome_1('Tenet'))"
   ]
  },
  {
   "cell_type": "code",
   "execution_count": 7,
   "metadata": {},
   "outputs": [
    {
     "name": "stdout",
     "output_type": "stream",
     "text": [
      "True\n"
     ]
    }
   ],
   "source": [
    "def palidromeCheck(strInput):\n",
    "    return strInput.lower() == strInput[::].lower()\n",
    "\n",
    "strInput = input()\n",
    "print(palidromeCheck(strInput))"
   ]
  },
  {
   "cell_type": "code",
   "execution_count": null,
   "metadata": {},
   "outputs": [],
   "source": []
  }
 ],
 "metadata": {
  "kernelspec": {
   "display_name": "Python 3.10.4 64-bit",
   "language": "python",
   "name": "python3"
  },
  "language_info": {
   "codemirror_mode": {
    "name": "ipython",
    "version": 3
   },
   "file_extension": ".py",
   "mimetype": "text/x-python",
   "name": "python",
   "nbconvert_exporter": "python",
   "pygments_lexer": "ipython3",
   "version": "3.10.4"
  },
  "orig_nbformat": 4,
  "vscode": {
   "interpreter": {
    "hash": "aee8b7b246df8f9039afb4144a1f6fd8d2ca17a180786b69acc140d282b71a49"
   }
  }
 },
 "nbformat": 4,
 "nbformat_minor": 2
}
