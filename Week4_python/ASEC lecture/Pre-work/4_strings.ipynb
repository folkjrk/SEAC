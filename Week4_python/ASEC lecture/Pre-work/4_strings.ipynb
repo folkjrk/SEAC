{
 "cells": [
  {
   "cell_type": "markdown",
   "metadata": {},
   "source": [
    "## Intro to Python \n",
    "### Strings"
   ]
  },
  {
   "cell_type": "markdown",
   "metadata": {},
   "source": [
    "#### 1. Defining strings\n",
    "Strings are arrays of characters, which allow us to do things like creating, slicing, modifying, etc. <br>\n",
    "The define strings in python, we use either single quotation marks or double quotation marks surround the text body. "
   ]
  },
  {
   "cell_type": "code",
   "execution_count": 3,
   "metadata": {},
   "outputs": [
    {
     "data": {
      "text/plain": [
       "\"That's ok\""
      ]
     },
     "execution_count": 3,
     "metadata": {},
     "output_type": "execute_result"
    }
   ],
   "source": [
    "# single line string\n",
    "\"Hello\"\n",
    "'90'\n",
    "\"That's ok\""
   ]
  },
  {
   "cell_type": "code",
   "execution_count": 4,
   "metadata": {},
   "outputs": [
    {
     "name": "stdout",
     "output_type": "stream",
     "text": [
      "Hello\n",
      "90.0\n",
      "ภาษาไทยก็อ่านได้\n",
      "ภาษาเยอรมันก็อ่านได้: Straße แปลว่า ถนน\n"
     ]
    }
   ],
   "source": [
    "# single line string - display its literal\n",
    "print('Hello')\n",
    "print(\"90.0\")\n",
    "print('ภาษาไทยก็อ่านได้')\n",
    "print('ภาษาเยอรมันก็อ่านได้: Straße แปลว่า ถนน')"
   ]
  },
  {
   "cell_type": "code",
   "execution_count": 5,
   "metadata": {},
   "outputs": [
    {
     "name": "stdout",
     "output_type": "stream",
     "text": [
      "Hey, my name is Python\n"
     ]
    }
   ],
   "source": [
    "# single line string assigment\n",
    "s1 = 'Hey, my name is Python'\n",
    "print(s1)"
   ]
  },
  {
   "cell_type": "code",
   "execution_count": 6,
   "metadata": {},
   "outputs": [
    {
     "name": "stdout",
     "output_type": "stream",
     "text": [
      "This is line 1\n",
      "This is line 2\n",
      "This is line 3\n"
     ]
    }
   ],
   "source": [
    "# multiline string\n",
    "s2 = \"\"\"This is line 1\n",
    "This is line 2\n",
    "This is line 3\"\"\"\n",
    "\n",
    "print(s2)"
   ]
  },
  {
   "cell_type": "markdown",
   "metadata": {},
   "source": [
    "#### 2. Strings are Arrays!\n",
    "So you can slice them using index with a similar logic lists slicing. "
   ]
  },
  {
   "cell_type": "code",
   "execution_count": 7,
   "metadata": {},
   "outputs": [],
   "source": [
    "s3 = 'community'"
   ]
  },
  {
   "cell_type": "code",
   "execution_count": 8,
   "metadata": {},
   "outputs": [
    {
     "data": {
      "text/plain": [
       "9"
      ]
     },
     "execution_count": 8,
     "metadata": {},
     "output_type": "execute_result"
    }
   ],
   "source": [
    "# measure length\n",
    "len(s3)"
   ]
  },
  {
   "cell_type": "code",
   "execution_count": 9,
   "metadata": {},
   "outputs": [
    {
     "name": "stdout",
     "output_type": "stream",
     "text": [
      "c\n",
      "y\n",
      "m\n"
     ]
    }
   ],
   "source": [
    "# indexing\n",
    "print(s3[0]) # first character\n",
    "print(s3[-1]) # last character\n",
    "print(s3[3]) # 4-th characer"
   ]
  },
  {
   "cell_type": "code",
   "execution_count": 10,
   "metadata": {},
   "outputs": [
    {
     "name": "stdout",
     "output_type": "stream",
     "text": [
      "co\n",
      "munity\n",
      "it\n",
      "ity\n"
     ]
    }
   ],
   "source": [
    "# slicing \n",
    "print(s3[0:2]) # 1st - 2nd characters\n",
    "print(s3[3:]) # 4th - last characters\n",
    "print(s3[-3:-1]) # negative slicing: 3rd last - 1st last characters\n",
    "print(s3[-3: ]) # negative slicing: 3rd last - last characters"
   ]
  },
  {
   "cell_type": "code",
   "execution_count": 11,
   "metadata": {},
   "outputs": [
    {
     "data": {
      "text/plain": [
       "'com'"
      ]
     },
     "execution_count": 11,
     "metadata": {},
     "output_type": "execute_result"
    }
   ],
   "source": [
    "# slice and then store it as a new string variable\n",
    "sliced = s3[:3]\n",
    "sliced"
   ]
  },
  {
   "cell_type": "code",
   "execution_count": 12,
   "metadata": {},
   "outputs": [
    {
     "name": "stdout",
     "output_type": "stream",
     "text": [
      "กับ\n"
     ]
    }
   ],
   "source": [
    "# ภาษาไทย\n",
    "s4 = 'ลองกับภาษาไทยบ้าง'\n",
    "print(s4[3:6])"
   ]
  },
  {
   "cell_type": "markdown",
   "metadata": {},
   "source": [
    "Also, you can check if an expression presents in the text."
   ]
  },
  {
   "cell_type": "code",
   "execution_count": 13,
   "metadata": {},
   "outputs": [
    {
     "name": "stdout",
     "output_type": "stream",
     "text": [
      "True\n",
      "False\n",
      "True\n",
      "False\n",
      "True\n"
     ]
    }
   ],
   "source": [
    "print('ไทย' in s4)\n",
    "print('เกาหลี' in s4)\n",
    "print('c' in s3) \n",
    "print(('c' in s3) and ('d' in s3)) \n",
    "print(('c' in s3) or ('d' in s3)) "
   ]
  },
  {
   "cell_type": "code",
   "execution_count": 14,
   "metadata": {},
   "outputs": [
    {
     "data": {
      "text/plain": [
       "'community'"
      ]
     },
     "execution_count": 14,
     "metadata": {},
     "output_type": "execute_result"
    }
   ],
   "source": [
    "s3"
   ]
  },
  {
   "cell_type": "markdown",
   "metadata": {},
   "source": [
    "Quick exercise: Evaluate the following string"
   ]
  },
  {
   "cell_type": "code",
   "execution_count": 15,
   "metadata": {},
   "outputs": [],
   "source": [
    "s5 = 'ก๋วยจั๊บ'\n"
   ]
  },
  {
   "cell_type": "markdown",
   "metadata": {},
   "source": [
    "A) How long is this string?"
   ]
  },
  {
   "cell_type": "code",
   "execution_count": 16,
   "metadata": {},
   "outputs": [
    {
     "data": {
      "text/plain": [
       "8"
      ]
     },
     "execution_count": 16,
     "metadata": {},
     "output_type": "execute_result"
    }
   ],
   "source": [
    "# Your answer\n",
    "len(s5)\n"
   ]
  },
  {
   "cell_type": "markdown",
   "metadata": {},
   "source": [
    "B) Using strings slicing, get the expression จั๊บ"
   ]
  },
  {
   "cell_type": "code",
   "execution_count": 17,
   "metadata": {},
   "outputs": [
    {
     "data": {
      "text/plain": [
       "'จั๊บ'"
      ]
     },
     "execution_count": 17,
     "metadata": {},
     "output_type": "execute_result"
    }
   ],
   "source": [
    "# Your answer\n",
    "s5[4:]"
   ]
  },
  {
   "cell_type": "markdown",
   "metadata": {},
   "source": [
    "C) Slice the same string to get the expression จั๊บ and store them as a new variable."
   ]
  },
  {
   "cell_type": "code",
   "execution_count": 18,
   "metadata": {},
   "outputs": [
    {
     "name": "stdout",
     "output_type": "stream",
     "text": [
      "จั๊บ\n"
     ]
    }
   ],
   "source": [
    "# Your answer\n",
    "s6 = s5[4:]\n",
    "print(s6)"
   ]
  },
  {
   "cell_type": "markdown",
   "metadata": {},
   "source": [
    "D) Slice the new string variable to get only ไม้ตรี"
   ]
  },
  {
   "cell_type": "code",
   "execution_count": 19,
   "metadata": {},
   "outputs": [
    {
     "data": {
      "text/plain": [
       "'๊'"
      ]
     },
     "execution_count": 19,
     "metadata": {},
     "output_type": "execute_result"
    }
   ],
   "source": [
    "# You answer\n",
    "s6[2:3]"
   ]
  },
  {
   "cell_type": "markdown",
   "metadata": {},
   "source": [
    "#### 3. Modifying strings\n",
    "Now, we are working with an untidy string"
   ]
  },
  {
   "cell_type": "code",
   "execution_count": 20,
   "metadata": {},
   "outputs": [
    {
     "name": "stdout",
     "output_type": "stream",
     "text": [
      "   HEELO, World! This is computer science course?\n"
     ]
    }
   ],
   "source": [
    "untidy = '   HEELO, World! This is computer science course?'\n",
    "print(untidy)"
   ]
  },
  {
   "cell_type": "markdown",
   "metadata": {},
   "source": [
    "Let's assign them into a new variable to maintain the original message."
   ]
  },
  {
   "cell_type": "code",
   "execution_count": 21,
   "metadata": {},
   "outputs": [
    {
     "ename": "AttributeError",
     "evalue": "'str' object has no attribute 'copy'",
     "output_type": "error",
     "traceback": [
      "\u001b[0;31m---------------------------------------------------------------------------\u001b[0m",
      "\u001b[0;31mAttributeError\u001b[0m                            Traceback (most recent call last)",
      "\u001b[1;32m/Users/astroxjrk/Desktop/dataanalytic (ASEC)/Week4/ASEC lecture/Pre-work/4_strings.ipynb Cell 30\u001b[0m in \u001b[0;36m<cell line: 2>\u001b[0;34m()\u001b[0m\n\u001b[1;32m      <a href='vscode-notebook-cell:/Users/astroxjrk/Desktop/dataanalytic%20%28ASEC%29/Week4/ASEC%20lecture/Pre-work/4_strings.ipynb#ch0000029?line=0'>1</a>\u001b[0m \u001b[39m# Danger zone! copy() method doesn't work with strings\u001b[39;00m\n\u001b[0;32m----> <a href='vscode-notebook-cell:/Users/astroxjrk/Desktop/dataanalytic%20%28ASEC%29/Week4/ASEC%20lecture/Pre-work/4_strings.ipynb#ch0000029?line=1'>2</a>\u001b[0m untidy_cpy \u001b[39m=\u001b[39m untidy\u001b[39m.\u001b[39;49mcopy()\n",
      "\u001b[0;31mAttributeError\u001b[0m: 'str' object has no attribute 'copy'"
     ]
    }
   ],
   "source": [
    "# Danger zone! copy() method doesn't work with strings\n",
    "untidy_cpy = untidy.copy()"
   ]
  },
  {
   "cell_type": "code",
   "execution_count": null,
   "metadata": {},
   "outputs": [],
   "source": [
    "# Instead, we do this\n",
    "untidy_cpy = untidy"
   ]
  },
  {
   "cell_type": "markdown",
   "metadata": {},
   "source": [
    "3.1 Remove any whitespace from the beginning or the end"
   ]
  },
  {
   "cell_type": "code",
   "execution_count": null,
   "metadata": {},
   "outputs": [
    {
     "name": "stdout",
     "output_type": "stream",
     "text": [
      "HEELO, World! This is computer science course?\n"
     ]
    }
   ],
   "source": [
    "# strip() method\n",
    "untidy_cpy = untidy_cpy.strip()\n",
    "print(untidy_cpy)"
   ]
  },
  {
   "cell_type": "markdown",
   "metadata": {},
   "source": [
    "3.2 Upper / Lower case"
   ]
  },
  {
   "cell_type": "code",
   "execution_count": null,
   "metadata": {},
   "outputs": [
    {
     "name": "stdout",
     "output_type": "stream",
     "text": [
      "HEELO, WORLD! THIS IS COMPUTER SCIENCE COURSE?\n"
     ]
    }
   ],
   "source": [
    "# upper() method\n",
    "untidy_cpy = untidy_cpy.upper()\n",
    "print(untidy_cpy)"
   ]
  },
  {
   "cell_type": "code",
   "execution_count": null,
   "metadata": {},
   "outputs": [
    {
     "name": "stdout",
     "output_type": "stream",
     "text": [
      "heelo, world! this is computer science course?\n"
     ]
    }
   ],
   "source": [
    "# lower() methid\n",
    "untidy_cpy = untidy_cpy.lower()\n",
    "print(untidy_cpy)"
   ]
  },
  {
   "cell_type": "markdown",
   "metadata": {},
   "source": [
    "3.3 Replace"
   ]
  },
  {
   "cell_type": "code",
   "execution_count": null,
   "metadata": {},
   "outputs": [
    {
     "name": "stdout",
     "output_type": "stream",
     "text": [
      "hello, world! this is computer science course?\n",
      "hello, world! this is computer science course.\n"
     ]
    }
   ],
   "source": [
    "# Fix Hello with replace()\n",
    "untidy_cpy = untidy_cpy.replace('el' , 'll')\n",
    "print(untidy_cpy)\n",
    "\n",
    "# Fix question mark with replace ()\n",
    "untidy_cpy = untidy_cpy.replace('?' , '.')\n",
    "print(untidy_cpy)"
   ]
  },
  {
   "cell_type": "markdown",
   "metadata": {},
   "source": [
    "3.4 Split - This will return as a list"
   ]
  },
  {
   "cell_type": "code",
   "execution_count": null,
   "metadata": {},
   "outputs": [],
   "source": [
    "# Split a strinf with split()\n",
    "splitted = untidy_cpy.split(',')\n",
    "\n",
    "print(type(splitted))\n",
    "print(splitted)"
   ]
  },
  {
   "cell_type": "markdown",
   "metadata": {},
   "source": [
    "3.5 Concatenate strings"
   ]
  },
  {
   "cell_type": "code",
   "execution_count": null,
   "metadata": {},
   "outputs": [
    {
     "name": "stdout",
     "output_type": "stream",
     "text": [
      "helloworld\n",
      "hello world\n",
      "hello_world\n"
     ]
    }
   ],
   "source": [
    "# Concatenate strings\n",
    "h = 'hello'\n",
    "w = 'world'\n",
    "\n",
    "greeting = h+\"_\"+w\n",
    "\n",
    "print(h+w)\n",
    "print(h+\" \"+w)\n",
    "print(greeting)"
   ]
  },
  {
   "cell_type": "markdown",
   "metadata": {},
   "source": [
    "Nice to know! You can do everything at once. Process begins from left to right"
   ]
  },
  {
   "cell_type": "code",
   "execution_count": 22,
   "metadata": {},
   "outputs": [
    {
     "name": "stdout",
     "output_type": "stream",
     "text": [
      "hello, world! this is computer science course.\n"
     ]
    }
   ],
   "source": [
    "# Without split\n",
    "tidy = untidy.strip().lower().replace('el', 'll').replace('?', '.')\n",
    "print(tidy)"
   ]
  },
  {
   "cell_type": "markdown",
   "metadata": {},
   "source": [
    "Working with split(), be aware of the sequece."
   ]
  },
  {
   "cell_type": "code",
   "execution_count": null,
   "metadata": {},
   "outputs": [
    {
     "ename": "NameError",
     "evalue": "name 'untidy' is not defined",
     "output_type": "error",
     "traceback": [
      "\u001b[0;31m---------------------------------------------------------------------------\u001b[0m",
      "\u001b[0;31mNameError\u001b[0m                                 Traceback (most recent call last)",
      "\u001b[1;32m/Users/astroxjrk/Desktop/dataanalytic (ASEC)/Week4/ASEC lecture/Pre-work/4_strings.ipynb Cell 46\u001b[0m in \u001b[0;36m<cell line: 2>\u001b[0;34m()\u001b[0m\n\u001b[1;32m      <a href='vscode-notebook-cell:/Users/astroxjrk/Desktop/dataanalytic%20%28ASEC%29/Week4/ASEC%20lecture/Pre-work/4_strings.ipynb#ch0000045?line=0'>1</a>\u001b[0m \u001b[39m# You can't do this - bacause you will get a list at the early step. \u001b[39;00m\n\u001b[0;32m----> <a href='vscode-notebook-cell:/Users/astroxjrk/Desktop/dataanalytic%20%28ASEC%29/Week4/ASEC%20lecture/Pre-work/4_strings.ipynb#ch0000045?line=1'>2</a>\u001b[0m tidy \u001b[39m=\u001b[39m untidy\u001b[39m.\u001b[39msplit(\u001b[39m\"\u001b[39m\u001b[39m,\u001b[39m\u001b[39m\"\u001b[39m)\u001b[39m.\u001b[39mstrip()\u001b[39m.\u001b[39mlower()\u001b[39m.\u001b[39mreplace(\u001b[39m'\u001b[39m\u001b[39mel\u001b[39m\u001b[39m'\u001b[39m, \u001b[39m'\u001b[39m\u001b[39mll\u001b[39m\u001b[39m'\u001b[39m)\u001b[39m.\u001b[39mreplace(\u001b[39m'\u001b[39m\u001b[39m?\u001b[39m\u001b[39m'\u001b[39m, \u001b[39m'\u001b[39m\u001b[39m.\u001b[39m\u001b[39m'\u001b[39m)\n\u001b[1;32m      <a href='vscode-notebook-cell:/Users/astroxjrk/Desktop/dataanalytic%20%28ASEC%29/Week4/ASEC%20lecture/Pre-work/4_strings.ipynb#ch0000045?line=2'>3</a>\u001b[0m \u001b[39mprint\u001b[39m(tidy)\n",
      "\u001b[0;31mNameError\u001b[0m: name 'untidy' is not defined"
     ]
    }
   ],
   "source": [
    "# You can't do this - bacause you will get a list at the early step. \n",
    "tidy = untidy.split(\",\").strip().lower().replace('el', 'll').replace('?', '.')\n",
    "print(tidy)"
   ]
  },
  {
   "cell_type": "code",
   "execution_count": 23,
   "metadata": {},
   "outputs": [
    {
     "name": "stdout",
     "output_type": "stream",
     "text": [
      "['hello', ' world! this is computer science course.']\n"
     ]
    }
   ],
   "source": [
    "# But you can do this - split them at last\n",
    "tidy = untidy.strip().lower().replace('el', 'll').replace('?', '.').split(\",\")\n",
    "print(tidy)"
   ]
  },
  {
   "cell_type": "markdown",
   "metadata": {},
   "source": [
    "Quick exercise: Let's get the proper product variant information from the following string. <br>\n",
    "The final result should look like this: <br>\n",
    "<br>\n",
    "['tablet', 'black', '128gb']"
   ]
  },
  {
   "cell_type": "code",
   "execution_count": null,
   "metadata": {},
   "outputs": [],
   "source": [
    "product = 'tabelt BLACK 128GB  '"
   ]
  },
  {
   "cell_type": "code",
   "execution_count": null,
   "metadata": {},
   "outputs": [
    {
     "data": {
      "text/plain": [
       "['tablet', 'black', '128gb']"
      ]
     },
     "execution_count": 48,
     "metadata": {},
     "output_type": "execute_result"
    }
   ],
   "source": [
    "# Your answer\n",
    "product.strip().lower().replace('el', 'le').split(\" \")"
   ]
  },
  {
   "cell_type": "markdown",
   "metadata": {},
   "source": [
    "A bit more challenging (try it at home): Now let's maintain the memory unit to be the capital 'GB'. You may use slicing and contenating methods to complete the task. <br>\n",
    "The final result should look like this: <br>\n",
    "<br>\n",
    "['tablet', 'black', '128GB']"
   ]
  },
  {
   "cell_type": "code",
   "execution_count": null,
   "metadata": {},
   "outputs": [
    {
     "data": {
      "text/plain": [
       "['tablet', 'black', '128GB']"
      ]
     },
     "execution_count": 51,
     "metadata": {},
     "output_type": "execute_result"
    }
   ],
   "source": [
    "# Your answer\n",
    "product_sep = product.strip().lower().replace('el','le').replace('gb','GB').split(' ')\n",
    "product_sep\n"
   ]
  },
  {
   "cell_type": "code",
   "execution_count": null,
   "metadata": {},
   "outputs": [
    {
     "name": "stdout",
     "output_type": "stream",
     "text": [
      "['tablet', 'black', '128GB']\n"
     ]
    }
   ],
   "source": [
    "prod_split = product.strip().lower().replace(\"el\", \"le\").split(\" \")\n",
    "prod_split[2] = prod_split[2].upper()\n",
    "print(prod_split)"
   ]
  },
  {
   "cell_type": "markdown",
   "metadata": {},
   "source": [
    "#### 4. Escape characters\n",
    "If you try to run the below code block, it will complaint a systax error"
   ]
  },
  {
   "cell_type": "code",
   "execution_count": 24,
   "metadata": {},
   "outputs": [
    {
     "ename": "SyntaxError",
     "evalue": "invalid syntax (3091736553.py, line 1)",
     "output_type": "error",
     "traceback": [
      "\u001b[0;36m  Input \u001b[0;32mIn [24]\u001b[0;36m\u001b[0m\n\u001b[0;31m    greeting = 'Hi, my name is 'Paula''\u001b[0m\n\u001b[0m                                ^\u001b[0m\n\u001b[0;31mSyntaxError\u001b[0m\u001b[0;31m:\u001b[0m invalid syntax\n"
     ]
    }
   ],
   "source": [
    "greeting = 'Hi, my name is 'Paula''"
   ]
  },
  {
   "cell_type": "markdown",
   "metadata": {},
   "source": [
    "To solve this, we use the escape character \\\" to avoid the error"
   ]
  },
  {
   "cell_type": "code",
   "execution_count": 25,
   "metadata": {},
   "outputs": [
    {
     "name": "stdout",
     "output_type": "stream",
     "text": [
      "Hi, my name is 'Paula' \n"
     ]
    }
   ],
   "source": [
    "greeting = 'Hi, my name is \\'Paula\\' '\n",
    "print(greeting)"
   ]
  },
  {
   "cell_type": "markdown",
   "metadata": {},
   "source": [
    " Escape characters are also used in other cases\n",
    " - \\t for tab\n",
    " - \\n for new lines"
   ]
  },
  {
   "cell_type": "code",
   "execution_count": 26,
   "metadata": {},
   "outputs": [
    {
     "name": "stdout",
     "output_type": "stream",
     "text": [
      "\tIndentation\n",
      "Newline 1 without indentation\n",
      "\tNewline 2 with indentation\n"
     ]
    }
   ],
   "source": [
    "multi = '\\tIndentation\\nNewline 1 without indentation\\n\\tNewline 2 with indentation'\n",
    "print(multi)"
   ]
  },
  {
   "cell_type": "markdown",
   "metadata": {},
   "source": [
    "To get rid of these escape charaters, we can use replace to replace them"
   ]
  },
  {
   "cell_type": "code",
   "execution_count": null,
   "metadata": {},
   "outputs": [
    {
     "data": {
      "text/plain": [
       "'Indentation Newline 1 without indentation  Newline 2 with indentation'"
      ]
     },
     "execution_count": 46,
     "metadata": {},
     "output_type": "execute_result"
    }
   ],
   "source": [
    "multi_c = multi.replace('\\n',' ').replace('\\t', ' ').strip()\n",
    "multi_c"
   ]
  },
  {
   "cell_type": "markdown",
   "metadata": {},
   "source": [
    "Exercise: Do you remember a multiline string? Can you try to put everything into a single line?"
   ]
  },
  {
   "cell_type": "code",
   "execution_count": null,
   "metadata": {},
   "outputs": [
    {
     "data": {
      "text/plain": [
       "'This is a multiline string.\\nTo make this becomes a single line string,\\nyou need to find the escape character\\nand get rid of it.'"
      ]
     },
     "execution_count": 76,
     "metadata": {},
     "output_type": "execute_result"
    }
   ],
   "source": [
    "multi_txt = \"\"\"This is a multiline string.\n",
    "To make this becomes a single line string,\n",
    "you need to find the escape character\n",
    "and get rid of it.\"\"\"\n",
    "multi_txt"
   ]
  },
  {
   "cell_type": "code",
   "execution_count": null,
   "metadata": {},
   "outputs": [
    {
     "data": {
      "text/plain": [
       "'This is a multiline string. To make this becomes a single line string, you need to find the escape character and get rid of it.'"
      ]
     },
     "execution_count": 78,
     "metadata": {},
     "output_type": "execute_result"
    }
   ],
   "source": [
    "# You answer\n",
    "single = multi_txt.replace('\\n',' ')\n",
    "single"
   ]
  },
  {
   "cell_type": "markdown",
   "metadata": {},
   "source": [
    "#### 5. Strings formatting\n",
    "Let's try this example"
   ]
  },
  {
   "cell_type": "code",
   "execution_count": 27,
   "metadata": {},
   "outputs": [
    {
     "ename": "TypeError",
     "evalue": "can only concatenate str (not \"int\") to str",
     "output_type": "error",
     "traceback": [
      "\u001b[0;31m---------------------------------------------------------------------------\u001b[0m",
      "\u001b[0;31mTypeError\u001b[0m                                 Traceback (most recent call last)",
      "\u001b[1;32m/Users/astroxjrk/Desktop/dataanalytic (ASEC)/Week4/ASEC lecture/Pre-work/4_strings.ipynb Cell 66\u001b[0m in \u001b[0;36m<cell line: 3>\u001b[0;34m()\u001b[0m\n\u001b[1;32m      <a href='vscode-notebook-cell:/Users/astroxjrk/Desktop/dataanalytic%20%28ASEC%29/Week4/ASEC%20lecture/Pre-work/4_strings.ipynb#ch0000065?line=0'>1</a>\u001b[0m \u001b[39m# Error, string cannot concatenate with integer\u001b[39;00m\n\u001b[1;32m      <a href='vscode-notebook-cell:/Users/astroxjrk/Desktop/dataanalytic%20%28ASEC%29/Week4/ASEC%20lecture/Pre-work/4_strings.ipynb#ch0000065?line=1'>2</a>\u001b[0m age \u001b[39m=\u001b[39m \u001b[39m36\u001b[39m\n\u001b[0;32m----> <a href='vscode-notebook-cell:/Users/astroxjrk/Desktop/dataanalytic%20%28ASEC%29/Week4/ASEC%20lecture/Pre-work/4_strings.ipynb#ch0000065?line=2'>3</a>\u001b[0m txt \u001b[39m=\u001b[39m \u001b[39m\"\u001b[39;49m\u001b[39mMy name is John, I am \u001b[39;49m\u001b[39m\"\u001b[39;49m \u001b[39m+\u001b[39;49m age\n\u001b[1;32m      <a href='vscode-notebook-cell:/Users/astroxjrk/Desktop/dataanalytic%20%28ASEC%29/Week4/ASEC%20lecture/Pre-work/4_strings.ipynb#ch0000065?line=3'>4</a>\u001b[0m \u001b[39mprint\u001b[39m(txt)\n",
      "\u001b[0;31mTypeError\u001b[0m: can only concatenate str (not \"int\") to str"
     ]
    }
   ],
   "source": [
    "# Error, string cannot concatenate with integer\n",
    "age = 36\n",
    "txt = \"My name is John, I am \" + age\n",
    "print(txt)"
   ]
  },
  {
   "cell_type": "code",
   "execution_count": null,
   "metadata": {},
   "outputs": [
    {
     "name": "stdout",
     "output_type": "stream",
     "text": [
      "My name is John, and I am 36\n",
      "OR\n",
      "My name is John, and I am 36\n"
     ]
    }
   ],
   "source": [
    "# Alternatively, this works\n",
    "age = 36\n",
    "txt = \"My name is John, and I am {}\"\n",
    "print(txt.format(age))\n",
    "print(\"OR\")\n",
    "print(f'My name is John, and I am {age}')"
   ]
  },
  {
   "cell_type": "code",
   "execution_count": null,
   "metadata": {},
   "outputs": [
    {
     "name": "stdout",
     "output_type": "stream",
     "text": [
      "I want 3 pieces of item 567 for 49.95 dollars.\n"
     ]
    }
   ],
   "source": [
    "# Multiple formatting\n",
    "quantity = 3\n",
    "itemno = 567\n",
    "price = 49.95\n",
    "myorder = \"I want {} pieces of item {} for {} dollars.\"\n",
    "print(myorder.format(quantity, itemno, price))"
   ]
  },
  {
   "cell_type": "code",
   "execution_count": null,
   "metadata": {},
   "outputs": [
    {
     "name": "stdout",
     "output_type": "stream",
     "text": [
      "I want to pay 49.95 dollars for 3 pieces of item 567.\n"
     ]
    }
   ],
   "source": [
    "# Multiple formatting with index\n",
    "quantity = 3\n",
    "itemno = 567\n",
    "price = 49.95\n",
    "myorder = \"I want to pay {2} dollars for {0} pieces of item {1}.\"\n",
    "print(myorder.format(quantity, itemno, price))"
   ]
  },
  {
   "cell_type": "markdown",
   "metadata": {},
   "source": []
  },
  {
   "cell_type": "markdown",
   "metadata": {},
   "source": [
    "#### STRIP "
   ]
  },
  {
   "cell_type": "code",
   "execution_count": null,
   "metadata": {},
   "outputs": [
    {
     "name": "stdout",
     "output_type": "stream",
     "text": [
      "Python\n"
     ]
    }
   ],
   "source": [
    "txt = \"......Python,,,,#\"\n",
    "\n",
    "x = txt.strip(\".,#\")\n",
    "\n",
    "print(x)"
   ]
  }
 ],
 "metadata": {
  "kernelspec": {
   "display_name": "Python 3.10.4 64-bit",
   "language": "python",
   "name": "python3"
  },
  "language_info": {
   "codemirror_mode": {
    "name": "ipython",
    "version": 3
   },
   "file_extension": ".py",
   "mimetype": "text/x-python",
   "name": "python",
   "nbconvert_exporter": "python",
   "pygments_lexer": "ipython3",
   "version": "3.10.4"
  },
  "vscode": {
   "interpreter": {
    "hash": "aee8b7b246df8f9039afb4144a1f6fd8d2ca17a180786b69acc140d282b71a49"
   }
  }
 },
 "nbformat": 4,
 "nbformat_minor": 4
}
