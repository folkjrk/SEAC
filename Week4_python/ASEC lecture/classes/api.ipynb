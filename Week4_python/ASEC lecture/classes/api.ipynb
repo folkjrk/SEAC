{
 "cells": [
  {
   "cell_type": "code",
   "execution_count": 1,
   "id": "342b7b60",
   "metadata": {},
   "outputs": [],
   "source": [
    "import requests"
   ]
  },
  {
   "cell_type": "code",
   "execution_count": 3,
   "id": "4d66d841",
   "metadata": {},
   "outputs": [
    {
     "data": {
      "text/plain": [
       "'\\n<!DOCTYPE html>\\n\\n<html>\\n  <head>\\n    <meta charset=\"utf-8\" />\\n    <meta name=\"viewport\" content=\"width=device-width, initial-scale=1.0\" /><meta name=\"generator\" content=\"Docutils 0.17.1: http://docutils.sourceforge.net/\" />\\n\\n    <title>numpy.vstack &#8212; NumPy v1.23 Manual</title>\\n    \\n  <!-- Loaded before other Sphinx assets -->\\n  <link href=\"../../_static/styles/theme.css?digest=1999514e3f237ded88cf\" rel=\"stylesheet\">\\n<link href=\"../../_static/styles/pydata-sphinx-theme.css?digest=1999514e3f237ded88cf\" rel=\"stylesheet\">\\n\\n    \\n  <link rel=\"stylesheet\"\\n    href=\"../../_static/vendor/fontawesome/5.13.0/css/all.min.css\">\\n  <link rel=\"preload\" as=\"font\" type=\"font/woff2\" crossorigin\\n    href=\"../../_static/vendor/fontawesome/5.13.0/webfonts/fa-solid-900.woff2\">\\n  <link rel=\"preload\" as=\"font\" type=\"font/woff2\" crossorigin\\n    href=\"../../_static/vendor/fontawesome/5.13.0/webfonts/fa-brands-400.woff2\">\\n\\n    <link rel=\"stylesheet\" type=\"text/css\" href=\"../../_static/pygments.css\" />\\n    <link rel=\"stylesheet\" type=\"text/css\" href=\"../../_static/graphviz.css\" />\\n    <link rel=\"stylesheet\" type=\"text/css\" href=\"../../_static/plot_directive.css\" />\\n    <link rel=\"stylesheet\" type=\"text/css\" href=\"../../_static/panels-main.c949a650a448cc0ae9fd3441c0e17fb0.css\" />\\n    <link rel=\"stylesheet\" type=\"text/css\" href=\"../../_static/panels-variables.06eb56fa6e07937060861dad626602ad.css\" />\\n    <link rel=\"stylesheet\" type=\"text/css\" href=\"../../_static/numpy.css\" />\\n    \\n  <!-- Pre-loaded scripts that we\\'ll load fully later -->\\n  <link rel=\"preload\" as=\"script\" href=\"../../_static/scripts/pydata-sphinx-theme.js?digest=1999514e3f237ded88cf\">\\n\\n    <script data-url_root=\"../../\" id=\"documentation_options\" src=\"../../_static/documentation_options.js\"></script>\\n    <script src=\"../../_static/jquery.js\"></script>\\n    <script src=\"../../_static/underscore.js\"></script>\\n    <script src=\"../../_static/doctools.js\"></script>\\n    <link rel=\"shortcut icon\" href=\"../../_static/favicon.ico\"/>\\n    <link rel=\"index\" title=\"Index\" href=\"../../genindex.html\" />\\n    <link rel=\"search\" title=\"Search\" href=\"../../search.html\" />\\n    <link rel=\"next\" title=\"numpy.hstack\" href=\"numpy.hstack.html\" />\\n    <link rel=\"prev\" title=\"numpy.block\" href=\"numpy.block.html\" />\\n    <meta name=\"viewport\" content=\"width=device-width, initial-scale=1\" />\\n    <meta name=\"docsearch:language\" content=\"None\">\\n    \\n\\n    <!-- Google Analytics -->\\n    \\n  </head>\\n  <body data-spy=\"scroll\" data-target=\"#bd-toc-nav\" data-offset=\"60\">\\n    \\n    <div class=\"container-fluid\" id=\"banner\"></div>\\n\\n    \\n    <nav class=\"navbar navbar-light navbar-expand-lg bg-light fixed-top bd-navbar\" id=\"navbar-main\"><div class=\"container-xl\">\\n\\n  <div id=\"navbar-start\">\\n    \\n    \\n\\n<a class=\"navbar-brand\" href=\"../../index.html\">\\n  <img src=\"../../_static/numpylogo.svg\" class=\"logo\" alt=\"logo\">\\n</a>\\n\\n\\n    \\n  </div>\\n\\n  <button class=\"navbar-toggler\" type=\"button\" data-toggle=\"collapse\" data-target=\"#navbar-collapsible\" aria-controls=\"navbar-collapsible\" aria-expanded=\"false\" aria-label=\"Toggle navigation\">\\n    <span class=\"navbar-toggler-icon\"></span>\\n  </button>\\n\\n  \\n  <div id=\"navbar-collapsible\" class=\"col-lg-9 collapse navbar-collapse\">\\n    <div id=\"navbar-center\" class=\"mr-auto\">\\n      \\n      <div class=\"navbar-center-item\">\\n        <ul id=\"navbar-main-elements\" class=\"navbar-nav\">\\n    <li class=\"toctree-l1 nav-item\">\\n <a class=\"reference internal nav-link\" href=\"../../user/index.html\">\\n  User Guide\\n </a>\\n</li>\\n\\n<li class=\"toctree-l1 current active nav-item\">\\n <a class=\"reference internal nav-link\" href=\"../index.html\">\\n  API reference\\n </a>\\n</li>\\n\\n<li class=\"toctree-l1 nav-item\">\\n <a class=\"reference internal nav-link\" href=\"../../dev/index.html\">\\n  Development\\n </a>\\n</li>\\n\\n<li class=\"toctree-l1 nav-item\">\\n <a class=\"reference internal nav-link\" href=\"../../release.html\">\\n  Release notes\\n </a>\\n</li>\\n\\n    \\n    <li class=\"nav-item\">\\n        <a class=\"nav-link nav-external\" href=\"https://numpy.org/numpy-tutorials/\">Learn<i class=\"fas fa-external-link-alt\"></i></a>\\n    </li>\\n    \\n</ul>\\n      </div>\\n      \\n    </div>\\n\\n    <div id=\"navbar-end\">\\n      \\n      <div class=\"navbar-end-item\">\\n        <div class=\"dropdown\" id=\"version_switcher\">\\n    <button type=\"button\" class=\"btn btn-primary btn-sm navbar-btn dropdown-toggle\" id=\"version_switcher_button\" data-toggle=\"dropdown\">\\n        doc/1.23  <!-- this text may get changed later by javascript -->\\n        <span class=\"caret\"></span>\\n    </button>\\n    <div id=\"version_switcher_menu\" class=\"dropdown-menu list-group-flush py-0\" aria-labelledby=\"version_switcher_button\">\\n    <!-- dropdown will be populated by javascript on page load -->\\n    </div>\\n</div>\\n\\n<!-- NOTE: this JS must live here (not in our global JS file) because it relies\\n     on being processed by Jinja before it is run (specifically for replacing\\n     variables reference/generated/numpy.vstack and {\\'version_match\\': \\'doc/1.23\\', \\'json_url\\': \\'https://numpy.org/doc/_static/versions.json\\'}.\\n-->\\n\\n<script type=\"text/javascript\">\\n// Check if corresponding page path exists in other version of docs\\n// and, if so, go there instead of the homepage of the other docs version\\nfunction checkPageExistsAndRedirect(event) {\\n    const currentFilePath = \"reference/generated/numpy.vstack.html\",\\n          tryUrl = event.target.getAttribute(\"href\");\\n    let otherDocsHomepage = tryUrl.replace(currentFilePath, \"\");\\n    $.ajax({\\n        type: \\'HEAD\\',\\n        url: tryUrl,\\n        // if the page exists, go there\\n        success: function() {\\n            location.href = tryUrl;\\n        }\\n    }).fail(function() {\\n        location.href = otherDocsHomepage;\\n    });\\n    // this prevents the browser from following the href of the clicked node\\n    // (which is fine because this function takes care of redirecting)\\n    return false;\\n}\\n\\n// Populate the version switcher from the JSON config file\\n(function () {\\n    $.getJSON(\"https://numpy.org/doc/_static/versions.json\", function(data, textStatus, jqXHR) {\\n        const currentFilePath = \"reference/generated/numpy.vstack.html\";\\n        // create links to the corresponding page in the other docs versions\\n        $.each(data, function(index, entry) {\\n            // if no custom name specified (e.g., \"latest\"), use version string\\n            if (!(\"name\" in entry)) {\\n                entry.name = entry.version;\\n            }\\n            // create the node\\n            const node = document.createElement(\"a\");\\n            node.setAttribute(\"class\", \"list-group-item list-group-item-action py-1\");\\n            node.textContent = `${entry.name}`;\\n            node.setAttribute(\"href\", `${entry.url}${currentFilePath}`);\\n            // on click, AJAX calls will check if the linked page exists before\\n            // trying to redirect, and if not, will redirect to the homepage\\n            // for that version of the docs.\\n            node.onclick = checkPageExistsAndRedirect;\\n            // Add dataset values for the version and name in case people want\\n            // to apply CSS styling based on this information.\\n            node.dataset[\"versionName\"] = entry.name;\\n            node.dataset[\"version\"] = entry.version;\\n\\n            $(\"#version_switcher_menu\").append(node);\\n            // replace dropdown button text with the preferred display name of\\n            // this version, rather than using sphinx\\'s 1.23 variable.\\n            // also highlight the dropdown entry for the currently-viewed\\n            // version\\'s entry\\n            if (entry.version == \"doc/1.23\") {\\n                node.classList.add(\"active\");\\n                let btn = document.getElementById(\"version_switcher_button\");\\n                btn.innerText = btn.dataset[\"activeVersionName\"] = entry.name;\\n                btn.dataset[\"activeVersion\"] = entry.version;\\n            }\\n        });\\n    });\\n})();\\n</script>\\n      </div>\\n      \\n      <div class=\"navbar-end-item\">\\n        <ul id=\"navbar-icon-links\" class=\"navbar-nav\" aria-label=\"Icon Links\">\\n        <li class=\"nav-item\">\\n          <a class=\"nav-link\" href=\"https://github.com/numpy/numpy\" rel=\"noopener\" target=\"_blank\" title=\"GitHub\"><span><i class=\"fab fa-github-square\"></i></span>\\n            <label class=\"sr-only\">GitHub</label></a>\\n        </li>\\n        <li class=\"nav-item\">\\n          <a class=\"nav-link\" href=\"https://twitter.com/numpy_team\" rel=\"noopener\" target=\"_blank\" title=\"Twitter\"><span><i class=\"fab fa-twitter-square\"></i></span>\\n            <label class=\"sr-only\">Twitter</label></a>\\n        </li>\\n      </ul>\\n      </div>\\n      \\n    </div>\\n  </div>\\n</div>\\n    </nav>\\n    \\n\\n    <div class=\"container-xl\">\\n      <div class=\"row\">\\n          \\n            \\n            <!-- Only show if we have sidebars configured, else just a small margin  -->\\n            <div class=\"col-12 col-md-3 bd-sidebar\">\\n              <div class=\"sidebar-start-items\"><form class=\"bd-search d-flex align-items-center\" action=\"../../search.html\" method=\"get\">\\n  <i class=\"icon fas fa-search\"></i>\\n  <input type=\"search\" class=\"form-control\" name=\"q\" id=\"search-input\" placeholder=\"Search the docs ...\" aria-label=\"Search the docs ...\" autocomplete=\"off\" >\\n</form><nav class=\"bd-links\" id=\"bd-docs-nav\" aria-label=\"Main navigation\">\\n  <div class=\"bd-toc-item active\">\\n    <ul class=\"current nav bd-sidenav\">\\n <li class=\"toctree-l1\">\\n  <a class=\"reference internal\" href=\"../arrays.html\">\\n   Array objects\\n  </a>\\n </li>\\n <li class=\"toctree-l1\">\\n  <a class=\"reference internal\" href=\"../array_api.html\">\\n   Array API Standard Compatibility\\n  </a>\\n </li>\\n <li class=\"toctree-l1\">\\n  <a class=\"reference internal\" href=\"../constants.html\">\\n   Constants\\n  </a>\\n </li>\\n <li class=\"toctree-l1\">\\n  <a class=\"reference internal\" href=\"../ufuncs.html\">\\n   Universal functions (\\n   <code class=\"xref py py-class docutils literal notranslate\">\\n    <span class=\"pre\">\\n     ufunc\\n    </span>\\n   </code>\\n   )\\n  </a>\\n </li>\\n <li class=\"toctree-l1 current active has-children\">\\n  <a class=\"reference internal\" href=\"../routines.html\">\\n   Routines\\n  </a>\\n  <input checked=\"\" class=\"toctree-checkbox\" id=\"toctree-checkbox-1\" name=\"toctree-checkbox-1\" type=\"checkbox\"/>\\n  <label for=\"toctree-checkbox-1\">\\n   <i class=\"fas fa-chevron-down\">\\n   </i>\\n  </label>\\n  <ul class=\"current\">\\n   <li class=\"toctree-l2\">\\n    <a class=\"reference internal\" href=\"../routines.array-creation.html\">\\n     Array creation routines\\n    </a>\\n   </li>\\n   <li class=\"toctree-l2 current active has-children\">\\n    <a class=\"reference internal\" href=\"../routines.array-manipulation.html\">\\n     Array manipulation routines\\n    </a>\\n    <input checked=\"\" class=\"toctree-checkbox\" id=\"toctree-checkbox-2\" name=\"toctree-checkbox-2\" type=\"checkbox\"/>\\n    <label for=\"toctree-checkbox-2\">\\n     <i class=\"fas fa-chevron-down\">\\n     </i>\\n    </label>\\n    <ul class=\"current\">\\n     <li class=\"toctree-l3\">\\n      <a class=\"reference internal\" href=\"numpy.copyto.html\">\\n       numpy.copyto\\n      </a>\\n     </li>\\n     <li class=\"toctree-l3\">\\n      <a class=\"reference internal\" href=\"numpy.shape.html\">\\n       numpy.shape\\n      </a>\\n     </li>\\n     <li class=\"toctree-l3\">\\n      <a class=\"reference internal\" href=\"numpy.reshape.html\">\\n       numpy.reshape\\n      </a>\\n     </li>\\n     <li class=\"toctree-l3\">\\n      <a class=\"reference internal\" href=\"numpy.ravel.html\">\\n       numpy.ravel\\n      </a>\\n     </li>\\n     <li class=\"toctree-l3\">\\n      <a class=\"reference internal\" href=\"numpy.ndarray.flat.html\">\\n       numpy.ndarray.flat\\n      </a>\\n     </li>\\n     <li class=\"toctree-l3\">\\n      <a class=\"reference internal\" href=\"numpy.ndarray.flatten.html\">\\n       numpy.ndarray.flatten\\n      </a>\\n     </li>\\n     <li class=\"toctree-l3\">\\n      <a class=\"reference internal\" href=\"numpy.moveaxis.html\">\\n       numpy.moveaxis\\n      </a>\\n     </li>\\n     <li class=\"toctree-l3\">\\n      <a class=\"reference internal\" href=\"numpy.rollaxis.html\">\\n       numpy.rollaxis\\n      </a>\\n     </li>\\n     <li class=\"toctree-l3\">\\n      <a class=\"reference internal\" href=\"numpy.swapaxes.html\">\\n       numpy.swapaxes\\n      </a>\\n     </li>\\n     <li class=\"toctree-l3\">\\n      <a class=\"reference internal\" href=\"numpy.ndarray.T.html\">\\n       numpy.ndarray.T\\n      </a>\\n     </li>\\n     <li class=\"toctree-l3\">\\n      <a class=\"reference internal\" href=\"numpy.transpose.html\">\\n       numpy.transpose\\n      </a>\\n     </li>\\n     <li class=\"toctree-l3\">\\n      <a class=\"reference internal\" href=\"numpy.atleast_1d.html\">\\n       numpy.atleast_1d\\n      </a>\\n     </li>\\n     <li class=\"toctree-l3\">\\n      <a class=\"reference internal\" href=\"numpy.atleast_2d.html\">\\n       numpy.atleast_2d\\n      </a>\\n     </li>\\n     <li class=\"toctree-l3\">\\n      <a class=\"reference internal\" href=\"numpy.atleast_3d.html\">\\n       numpy.atleast_3d\\n      </a>\\n     </li>\\n     <li class=\"toctree-l3\">\\n      <a class=\"reference internal\" href=\"numpy.broadcast.html\">\\n       numpy.broadcast\\n      </a>\\n     </li>\\n     <li class=\"toctree-l3\">\\n      <a class=\"reference internal\" href=\"numpy.broadcast_to.html\">\\n       numpy.broadcast_to\\n      </a>\\n     </li>\\n     <li class=\"toctree-l3\">\\n      <a class=\"reference internal\" href=\"numpy.broadcast_arrays.html\">\\n       numpy.broadcast_arrays\\n      </a>\\n     </li>\\n     <li class=\"toctree-l3\">\\n      <a class=\"reference internal\" href=\"numpy.expand_dims.html\">\\n       numpy.expand_dims\\n      </a>\\n     </li>\\n     <li class=\"toctree-l3\">\\n      <a class=\"reference internal\" href=\"numpy.squeeze.html\">\\n       numpy.squeeze\\n      </a>\\n     </li>\\n     <li class=\"toctree-l3\">\\n      <a class=\"reference internal\" href=\"numpy.asarray.html\">\\n       numpy.asarray\\n      </a>\\n     </li>\\n     <li class=\"toctree-l3\">\\n      <a class=\"reference internal\" href=\"numpy.asanyarray.html\">\\n       numpy.asanyarray\\n      </a>\\n     </li>\\n     <li class=\"toctree-l3\">\\n      <a class=\"reference internal\" href=\"numpy.asmatrix.html\">\\n       numpy.asmatrix\\n      </a>\\n     </li>\\n     <li class=\"toctree-l3\">\\n      <a class=\"reference internal\" href=\"numpy.asfarray.html\">\\n       numpy.asfarray\\n      </a>\\n     </li>\\n     <li class=\"toctree-l3\">\\n      <a class=\"reference internal\" href=\"numpy.asfortranarray.html\">\\n       numpy.asfortranarray\\n      </a>\\n     </li>\\n     <li class=\"toctree-l3\">\\n      <a class=\"reference internal\" href=\"numpy.ascontiguousarray.html\">\\n       numpy.ascontiguousarray\\n      </a>\\n     </li>\\n     <li class=\"toctree-l3\">\\n      <a class=\"reference internal\" href=\"numpy.asarray_chkfinite.html\">\\n       numpy.asarray_chkfinite\\n      </a>\\n     </li>\\n     <li class=\"toctree-l3\">\\n      <a class=\"reference internal\" href=\"numpy.require.html\">\\n       numpy.require\\n      </a>\\n     </li>\\n     <li class=\"toctree-l3\">\\n      <a class=\"reference internal\" href=\"numpy.concatenate.html\">\\n       numpy.concatenate\\n      </a>\\n     </li>\\n     <li class=\"toctree-l3\">\\n      <a class=\"reference internal\" href=\"numpy.stack.html\">\\n       numpy.stack\\n      </a>\\n     </li>\\n     <li class=\"toctree-l3\">\\n      <a class=\"reference internal\" href=\"numpy.block.html\">\\n       numpy.block\\n      </a>\\n     </li>\\n     <li class=\"toctree-l3 current active\">\\n      <a class=\"current reference internal\" href=\"#\">\\n       numpy.vstack\\n      </a>\\n     </li>\\n     <li class=\"toctree-l3\">\\n      <a class=\"reference internal\" href=\"numpy.hstack.html\">\\n       numpy.hstack\\n      </a>\\n     </li>\\n     <li class=\"toctree-l3\">\\n      <a class=\"reference internal\" href=\"numpy.dstack.html\">\\n       numpy.dstack\\n      </a>\\n     </li>\\n     <li class=\"toctree-l3\">\\n      <a class=\"reference internal\" href=\"numpy.column_stack.html\">\\n       numpy.column_stack\\n      </a>\\n     </li>\\n     <li class=\"toctree-l3\">\\n      <a class=\"reference internal\" href=\"numpy.row_stack.html\">\\n       numpy.row_stack\\n      </a>\\n     </li>\\n     <li class=\"toctree-l3\">\\n      <a class=\"reference internal\" href=\"numpy.split.html\">\\n       numpy.split\\n      </a>\\n     </li>\\n     <li class=\"toctree-l3\">\\n      <a class=\"reference internal\" href=\"numpy.array_split.html\">\\n       numpy.array_split\\n      </a>\\n     </li>\\n     <li class=\"toctree-l3\">\\n      <a class=\"reference internal\" href=\"numpy.dsplit.html\">\\n       numpy.dsplit\\n      </a>\\n     </li>\\n     <li class=\"toctree-l3\">\\n      <a class=\"reference internal\" href=\"numpy.hsplit.html\">\\n       numpy.hsplit\\n      </a>\\n     </li>\\n     <li class=\"toctree-l3\">\\n      <a class=\"reference internal\" href=\"numpy.vsplit.html\">\\n       numpy.vsplit\\n      </a>\\n     </li>\\n     <li class=\"toctree-l3\">\\n      <a class=\"reference internal\" href=\"numpy.tile.html\">\\n       numpy.tile\\n      </a>\\n     </li>\\n     <li class=\"toctree-l3\">\\n      <a class=\"reference internal\" href=\"numpy.repeat.html\">\\n       numpy.repeat\\n      </a>\\n     </li>\\n     <li class=\"toctree-l3\">\\n      <a class=\"reference internal\" href=\"numpy.delete.html\">\\n       numpy.delete\\n      </a>\\n     </li>\\n     <li class=\"toctree-l3\">\\n      <a class=\"reference internal\" href=\"numpy.insert.html\">\\n       numpy.insert\\n      </a>\\n     </li>\\n     <li class=\"toctree-l3\">\\n      <a class=\"reference internal\" href=\"numpy.append.html\">\\n       numpy.append\\n      </a>\\n     </li>\\n     <li class=\"toctree-l3\">\\n      <a class=\"reference internal\" href=\"numpy.resize.html\">\\n       numpy.resize\\n      </a>\\n     </li>\\n     <li class=\"toctree-l3\">\\n      <a class=\"reference internal\" href=\"numpy.trim_zeros.html\">\\n       numpy.trim_zeros\\n      </a>\\n     </li>\\n     <li class=\"toctree-l3\">\\n      <a class=\"reference internal\" href=\"numpy.unique.html\">\\n       numpy.unique\\n      </a>\\n     </li>\\n     <li class=\"toctree-l3\">\\n      <a class=\"reference internal\" href=\"numpy.flip.html\">\\n       numpy.flip\\n      </a>\\n     </li>\\n     <li class=\"toctree-l3\">\\n      <a class=\"reference internal\" href=\"numpy.fliplr.html\">\\n       numpy.fliplr\\n      </a>\\n     </li>\\n     <li class=\"toctree-l3\">\\n      <a class=\"reference internal\" href=\"numpy.flipud.html\">\\n       numpy.flipud\\n      </a>\\n     </li>\\n     <li class=\"toctree-l3\">\\n      <a class=\"reference internal\" href=\"numpy.reshape.html\">\\n       numpy.reshape\\n      </a>\\n     </li>\\n     <li class=\"toctree-l3\">\\n      <a class=\"reference internal\" href=\"numpy.roll.html\">\\n       numpy.roll\\n      </a>\\n     </li>\\n     <li class=\"toctree-l3\">\\n      <a class=\"reference internal\" href=\"numpy.rot90.html\">\\n       numpy.rot90\\n      </a>\\n     </li>\\n    </ul>\\n   </li>\\n   <li class=\"toctree-l2\">\\n    <a class=\"reference internal\" href=\"../routines.bitwise.html\">\\n     Binary operations\\n    </a>\\n   </li>\\n   <li class=\"toctree-l2\">\\n    <a class=\"reference internal\" href=\"../routines.char.html\">\\n     String operations\\n    </a>\\n   </li>\\n   <li class=\"toctree-l2\">\\n    <a class=\"reference internal\" href=\"../routines.ctypeslib.html\">\\n     C-Types Foreign Function Interface (\\n     <code class=\"xref py py-mod docutils literal notranslate\">\\n      <span class=\"pre\">\\n       numpy.ctypeslib\\n      </span>\\n     </code>\\n     )\\n    </a>\\n   </li>\\n   <li class=\"toctree-l2\">\\n    <a class=\"reference internal\" href=\"../routines.datetime.html\">\\n     Datetime Support Functions\\n    </a>\\n   </li>\\n   <li class=\"toctree-l2\">\\n    <a class=\"reference internal\" href=\"../routines.dtype.html\">\\n     Data type routines\\n    </a>\\n   </li>\\n   <li class=\"toctree-l2\">\\n    <a class=\"reference internal\" href=\"../routines.dual.html\">\\n     Optionally SciPy-accelerated routines (\\n     <code class=\"xref py py-mod docutils literal notranslate\">\\n      <span class=\"pre\">\\n       numpy.dual\\n      </span>\\n     </code>\\n     )\\n    </a>\\n   </li>\\n   <li class=\"toctree-l2\">\\n    <a class=\"reference internal\" href=\"../routines.emath.html\">\\n     Mathematical functions with automatic domain\\n    </a>\\n   </li>\\n   <li class=\"toctree-l2\">\\n    <a class=\"reference internal\" href=\"../routines.err.html\">\\n     Floating point error handling\\n    </a>\\n   </li>\\n   <li class=\"toctree-l2\">\\n    <a class=\"reference internal\" href=\"../routines.fft.html\">\\n     Discrete Fourier Transform (\\n     <code class=\"xref py py-mod docutils literal notranslate\">\\n      <span class=\"pre\">\\n       numpy.fft\\n      </span>\\n     </code>\\n     )\\n    </a>\\n   </li>\\n   <li class=\"toctree-l2\">\\n    <a class=\"reference internal\" href=\"../routines.functional.html\">\\n     Functional programming\\n    </a>\\n   </li>\\n   <li class=\"toctree-l2\">\\n    <a class=\"reference internal\" href=\"../routines.help.html\">\\n     NumPy-specific help functions\\n    </a>\\n   </li>\\n   <li class=\"toctree-l2\">\\n    <a class=\"reference internal\" href=\"../routines.io.html\">\\n     Input and output\\n    </a>\\n   </li>\\n   <li class=\"toctree-l2\">\\n    <a class=\"reference internal\" href=\"../routines.linalg.html\">\\n     Linear algebra (\\n     <code class=\"xref py py-mod docutils literal notranslate\">\\n      <span class=\"pre\">\\n       numpy.linalg\\n      </span>\\n     </code>\\n     )\\n    </a>\\n   </li>\\n   <li class=\"toctree-l2\">\\n    <a class=\"reference internal\" href=\"../routines.logic.html\">\\n     Logic functions\\n    </a>\\n   </li>\\n   <li class=\"toctree-l2\">\\n    <a class=\"reference internal\" href=\"../routines.ma.html\">\\n     Masked array operations\\n    </a>\\n   </li>\\n   <li class=\"toctree-l2\">\\n    <a class=\"reference internal\" href=\"../routines.math.html\">\\n     Mathematical functions\\n    </a>\\n   </li>\\n   <li class=\"toctree-l2\">\\n    <a class=\"reference internal\" href=\"../routines.matlib.html\">\\n     Matrix library (\\n     <code class=\"xref py py-mod docutils literal notranslate\">\\n      <span class=\"pre\">\\n       numpy.matlib\\n      </span>\\n     </code>\\n     )\\n    </a>\\n   </li>\\n   <li class=\"toctree-l2\">\\n    <a class=\"reference internal\" href=\"../routines.other.html\">\\n     Miscellaneous routines\\n    </a>\\n   </li>\\n   <li class=\"toctree-l2\">\\n    <a class=\"reference internal\" href=\"../routines.padding.html\">\\n     Padding Arrays\\n    </a>\\n   </li>\\n   <li class=\"toctree-l2\">\\n    <a class=\"reference internal\" href=\"../routines.polynomials.html\">\\n     Polynomials\\n    </a>\\n   </li>\\n   <li class=\"toctree-l2\">\\n    <a class=\"reference internal\" href=\"../random/index.html\">\\n     Random sampling (\\n     <code class=\"xref py py-mod docutils literal notranslate\">\\n      <span class=\"pre\">\\n       numpy.random\\n      </span>\\n     </code>\\n     )\\n    </a>\\n   </li>\\n   <li class=\"toctree-l2\">\\n    <a class=\"reference internal\" href=\"../routines.set.html\">\\n     Set routines\\n    </a>\\n   </li>\\n   <li class=\"toctree-l2\">\\n    <a class=\"reference internal\" href=\"../routines.sort.html\">\\n     Sorting, searching, and counting\\n    </a>\\n   </li>\\n   <li class=\"toctree-l2\">\\n    <a class=\"reference internal\" href=\"../routines.statistics.html\">\\n     Statistics\\n    </a>\\n   </li>\\n   <li class=\"toctree-l2\">\\n    <a class=\"reference internal\" href=\"../routines.testing.html\">\\n     Test Support (\\n     <code class=\"xref py py-mod docutils literal notranslate\">\\n      <span class=\"pre\">\\n       numpy.testing\\n      </span>\\n     </code>\\n     )\\n    </a>\\n   </li>\\n   <li class=\"toctree-l2\">\\n    <a class=\"reference internal\" href=\"../routines.window.html\">\\n     Window functions\\n    </a>\\n   </li>\\n  </ul>\\n </li>\\n <li class=\"toctree-l1\">\\n  <a class=\"reference internal\" href=\"../typing.html\">\\n   Typing (\\n   <code class=\"xref py py-mod docutils literal notranslate\">\\n    <span class=\"pre\">\\n     numpy.typing\\n    </span>\\n   </code>\\n   )\\n  </a>\\n </li>\\n <li class=\"toctree-l1\">\\n  <a class=\"reference internal\" href=\"../global_state.html\">\\n   Global State\\n  </a>\\n </li>\\n <li class=\"toctree-l1\">\\n  <a class=\"reference internal\" href=\"../distutils.html\">\\n   Packaging (\\n   <code class=\"xref py py-mod docutils literal notranslate\">\\n    <span class=\"pre\">\\n     numpy.distutils\\n    </span>\\n   </code>\\n   )\\n  </a>\\n </li>\\n <li class=\"toctree-l1\">\\n  <a class=\"reference internal\" href=\"../distutils_guide.html\">\\n   NumPy Distutils - Users Guide\\n  </a>\\n </li>\\n <li class=\"toctree-l1\">\\n  <a class=\"reference internal\" href=\"../distutils_status_migration.html\">\\n   Status of\\n   <code class=\"docutils literal notranslate\">\\n    <span class=\"pre\">\\n     numpy.distutils\\n    </span>\\n   </code>\\n   and migration advice\\n  </a>\\n </li>\\n <li class=\"toctree-l1\">\\n  <a class=\"reference internal\" href=\"../c-api/index.html\">\\n   NumPy C-API\\n  </a>\\n </li>\\n <li class=\"toctree-l1\">\\n  <a class=\"reference internal\" href=\"../simd/index.html\">\\n   CPU/SIMD Optimizations\\n  </a>\\n </li>\\n <li class=\"toctree-l1\">\\n  <a class=\"reference internal\" href=\"../swig.html\">\\n   NumPy and SWIG\\n  </a>\\n </li>\\n</ul>\\n\\n  </div>\\n</nav>\\n              </div>\\n              <div class=\"sidebar-end-items\">\\n              </div>\\n            </div>\\n            \\n          \\n\\n          \\n          <div class=\"d-none d-xl-block col-xl-2 bd-toc\">\\n            \\n              \\n              <div class=\"toc-item\">\\n                \\n\\n<nav id=\"bd-toc-nav\">\\n    \\n</nav>\\n              </div>\\n              \\n              <div class=\"toc-item\">\\n                \\n              </div>\\n              \\n            \\n          </div>\\n          \\n\\n          \\n          \\n            \\n          \\n          <main class=\"col-12 col-md-9 col-xl-7 py-md-5 pl-md-5 pr-md-4 bd-content\" role=\"main\">\\n              \\n              <div>\\n                \\n  <section id=\"numpy-vstack\">\\n<h1>numpy.vstack<a class=\"headerlink\" href=\"#numpy-vstack\" title=\"Permalink to this headline\">#</a></h1>\\n<dl class=\"py function\">\\n<dt class=\"sig sig-object py\" id=\"numpy.vstack\">\\n<span class=\"sig-prename descclassname\"><span class=\"pre\">numpy.</span></span><span class=\"sig-name descname\"><span class=\"pre\">vstack</span></span><span class=\"sig-paren\">(</span><em class=\"sig-param\"><span class=\"n\"><span class=\"pre\">tup</span></span></em><span class=\"sig-paren\">)</span><a class=\"reference external\" href=\"https://github.com/numpy/numpy/blob/v1.23.0/numpy/core/shape_base.py#L222-L282\"><span class=\"viewcode-link\"><span class=\"pre\">[source]</span></span></a><a class=\"headerlink\" href=\"#numpy.vstack\" title=\"Permalink to this definition\">#</a></dt>\\n<dd><p>Stack arrays in sequence vertically (row wise).</p>\\n<p>This is equivalent to concatenation along the first axis after 1-D arrays\\nof shape <em class=\"xref py py-obj\">(N,)</em> have been reshaped to <em class=\"xref py py-obj\">(1,N)</em>. Rebuilds arrays divided by\\n<a class=\"reference internal\" href=\"numpy.vsplit.html#numpy.vsplit\" title=\"numpy.vsplit\"><code class=\"xref py py-obj docutils literal notranslate\"><span class=\"pre\">vsplit</span></code></a>.</p>\\n<p>This function makes most sense for arrays with up to 3 dimensions. For\\ninstance, for pixel-data with a height (first axis), width (second axis),\\nand r/g/b channels (third axis). The functions <a class=\"reference internal\" href=\"numpy.concatenate.html#numpy.concatenate\" title=\"numpy.concatenate\"><code class=\"xref py py-obj docutils literal notranslate\"><span class=\"pre\">concatenate</span></code></a>, <a class=\"reference internal\" href=\"numpy.stack.html#numpy.stack\" title=\"numpy.stack\"><code class=\"xref py py-obj docutils literal notranslate\"><span class=\"pre\">stack</span></code></a> and\\n<a class=\"reference internal\" href=\"numpy.block.html#numpy.block\" title=\"numpy.block\"><code class=\"xref py py-obj docutils literal notranslate\"><span class=\"pre\">block</span></code></a> provide more general stacking and concatenation operations.</p>\\n<dl class=\"field-list simple\">\\n<dt class=\"field-odd\">Parameters</dt>\\n<dd class=\"field-odd\"><dl class=\"simple\">\\n<dt><strong>tup</strong><span class=\"classifier\">sequence of ndarrays</span></dt><dd><p>The arrays must have the same shape along all but the first axis.\\n1-D arrays must have the same length.</p>\\n</dd>\\n</dl>\\n</dd>\\n<dt class=\"field-even\">Returns</dt>\\n<dd class=\"field-even\"><dl class=\"simple\">\\n<dt><strong>stacked</strong><span class=\"classifier\">ndarray</span></dt><dd><p>The array formed by stacking the given arrays, will be at least 2-D.</p>\\n</dd>\\n</dl>\\n</dd>\\n</dl>\\n<div class=\"admonition seealso\">\\n<p class=\"admonition-title\">See also</p>\\n<dl class=\"simple\">\\n<dt><a class=\"reference internal\" href=\"numpy.concatenate.html#numpy.concatenate\" title=\"numpy.concatenate\"><code class=\"xref py py-obj docutils literal notranslate\"><span class=\"pre\">concatenate</span></code></a></dt><dd><p>Join a sequence of arrays along an existing axis.</p>\\n</dd>\\n<dt><a class=\"reference internal\" href=\"numpy.stack.html#numpy.stack\" title=\"numpy.stack\"><code class=\"xref py py-obj docutils literal notranslate\"><span class=\"pre\">stack</span></code></a></dt><dd><p>Join a sequence of arrays along a new axis.</p>\\n</dd>\\n<dt><a class=\"reference internal\" href=\"numpy.block.html#numpy.block\" title=\"numpy.block\"><code class=\"xref py py-obj docutils literal notranslate\"><span class=\"pre\">block</span></code></a></dt><dd><p>Assemble an nd-array from nested lists of blocks.</p>\\n</dd>\\n<dt><a class=\"reference internal\" href=\"numpy.hstack.html#numpy.hstack\" title=\"numpy.hstack\"><code class=\"xref py py-obj docutils literal notranslate\"><span class=\"pre\">hstack</span></code></a></dt><dd><p>Stack arrays in sequence horizontally (column wise).</p>\\n</dd>\\n<dt><a class=\"reference internal\" href=\"numpy.dstack.html#numpy.dstack\" title=\"numpy.dstack\"><code class=\"xref py py-obj docutils literal notranslate\"><span class=\"pre\">dstack</span></code></a></dt><dd><p>Stack arrays in sequence depth wise (along third axis).</p>\\n</dd>\\n<dt><a class=\"reference internal\" href=\"numpy.column_stack.html#numpy.column_stack\" title=\"numpy.column_stack\"><code class=\"xref py py-obj docutils literal notranslate\"><span class=\"pre\">column_stack</span></code></a></dt><dd><p>Stack 1-D arrays as columns into a 2-D array.</p>\\n</dd>\\n<dt><a class=\"reference internal\" href=\"numpy.vsplit.html#numpy.vsplit\" title=\"numpy.vsplit\"><code class=\"xref py py-obj docutils literal notranslate\"><span class=\"pre\">vsplit</span></code></a></dt><dd><p>Split an array into multiple sub-arrays vertically (row-wise).</p>\\n</dd>\\n</dl>\\n</div>\\n<p class=\"rubric\">Examples</p>\\n<div class=\"doctest highlight-default notranslate\"><div class=\"highlight\"><pre><span></span><span class=\"gp\">&gt;&gt;&gt; </span><span class=\"n\">a</span> <span class=\"o\">=</span> <span class=\"n\">np</span><span class=\"o\">.</span><span class=\"n\">array</span><span class=\"p\">([</span><span class=\"mi\">1</span><span class=\"p\">,</span> <span class=\"mi\">2</span><span class=\"p\">,</span> <span class=\"mi\">3</span><span class=\"p\">])</span>\\n<span class=\"gp\">&gt;&gt;&gt; </span><span class=\"n\">b</span> <span class=\"o\">=</span> <span class=\"n\">np</span><span class=\"o\">.</span><span class=\"n\">array</span><span class=\"p\">([</span><span class=\"mi\">4</span><span class=\"p\">,</span> <span class=\"mi\">5</span><span class=\"p\">,</span> <span class=\"mi\">6</span><span class=\"p\">])</span>\\n<span class=\"gp\">&gt;&gt;&gt; </span><span class=\"n\">np</span><span class=\"o\">.</span><span class=\"n\">vstack</span><span class=\"p\">((</span><span class=\"n\">a</span><span class=\"p\">,</span><span class=\"n\">b</span><span class=\"p\">))</span>\\n<span class=\"go\">array([[1, 2, 3],</span>\\n<span class=\"go\">       [4, 5, 6]])</span>\\n</pre></div>\\n</div>\\n<div class=\"doctest highlight-default notranslate\"><div class=\"highlight\"><pre><span></span><span class=\"gp\">&gt;&gt;&gt; </span><span class=\"n\">a</span> <span class=\"o\">=</span> <span class=\"n\">np</span><span class=\"o\">.</span><span class=\"n\">array</span><span class=\"p\">([[</span><span class=\"mi\">1</span><span class=\"p\">],</span> <span class=\"p\">[</span><span class=\"mi\">2</span><span class=\"p\">],</span> <span class=\"p\">[</span><span class=\"mi\">3</span><span class=\"p\">]])</span>\\n<span class=\"gp\">&gt;&gt;&gt; </span><span class=\"n\">b</span> <span class=\"o\">=</span> <span class=\"n\">np</span><span class=\"o\">.</span><span class=\"n\">array</span><span class=\"p\">([[</span><span class=\"mi\">4</span><span class=\"p\">],</span> <span class=\"p\">[</span><span class=\"mi\">5</span><span class=\"p\">],</span> <span class=\"p\">[</span><span class=\"mi\">6</span><span class=\"p\">]])</span>\\n<span class=\"gp\">&gt;&gt;&gt; </span><span class=\"n\">np</span><span class=\"o\">.</span><span class=\"n\">vstack</span><span class=\"p\">((</span><span class=\"n\">a</span><span class=\"p\">,</span><span class=\"n\">b</span><span class=\"p\">))</span>\\n<span class=\"go\">array([[1],</span>\\n<span class=\"go\">       [2],</span>\\n<span class=\"go\">       [3],</span>\\n<span class=\"go\">       [4],</span>\\n<span class=\"go\">       [5],</span>\\n<span class=\"go\">       [6]])</span>\\n</pre></div>\\n</div>\\n</dd></dl>\\n\\n</section>\\n\\n\\n              </div>\\n              \\n              \\n              <!-- Previous / next buttons -->\\n<div class=\\'prev-next-area\\'>\\n    <a class=\\'left-prev\\' id=\"prev-link\" href=\"numpy.block.html\" title=\"previous page\">\\n        <i class=\"fas fa-angle-left\"></i>\\n        <div class=\"prev-next-info\">\\n            <p class=\"prev-next-subtitle\">previous</p>\\n            <p class=\"prev-next-title\">numpy.block</p>\\n        </div>\\n    </a>\\n    <a class=\\'right-next\\' id=\"next-link\" href=\"numpy.hstack.html\" title=\"next page\">\\n    <div class=\"prev-next-info\">\\n        <p class=\"prev-next-subtitle\">next</p>\\n        <p class=\"prev-next-title\">numpy.hstack</p>\\n    </div>\\n    <i class=\"fas fa-angle-right\"></i>\\n    </a>\\n</div>\\n              \\n          </main>\\n          \\n\\n      </div>\\n    </div>\\n  \\n  <!-- Scripts loaded after <body> so the DOM is not blocked -->\\n  <script src=\"../../_static/scripts/pydata-sphinx-theme.js?digest=1999514e3f237ded88cf\"></script>\\n<footer class=\"footer mt-5 mt-md-0\">\\n  <div class=\"container\">\\n    \\n    <div class=\"footer-item\">\\n      <p class=\"copyright\">\\n    &copy; Copyright 2008-2022, NumPy Developers.<br>\\n</p>\\n    </div>\\n    \\n    <div class=\"footer-item\">\\n      <p class=\"sphinx-version\">\\nCreated using <a href=\"https://www.sphinx-doc.org/\">Sphinx</a> 4.5.0.<br>\\n</p>\\n    </div>\\n    \\n  </div>\\n</footer>\\n  </body>\\n</html>'"
      ]
     },
     "execution_count": 3,
     "metadata": {},
     "output_type": "execute_result"
    }
   ],
   "source": [
    "res = requests.get('https://numpy.org/doc/1.23/reference/generated/numpy.vstack.html')\n",
    "res.text"
   ]
  },
  {
   "cell_type": "code",
   "execution_count": 13,
   "id": "6e95af56",
   "metadata": {},
   "outputs": [
    {
     "data": {
      "text/plain": [
       "{'request': {'type': 'City',\n",
       "  'query': 'Bangkok, Thailand',\n",
       "  'language': 'en',\n",
       "  'unit': 'm'},\n",
       " 'location': {'name': 'Bangkok',\n",
       "  'country': 'Thailand',\n",
       "  'region': 'Krung Thep',\n",
       "  'lat': '13.750',\n",
       "  'lon': '100.517',\n",
       "  'timezone_id': 'Asia/Bangkok',\n",
       "  'localtime': '2022-07-02 14:33',\n",
       "  'localtime_epoch': 1656772380,\n",
       "  'utc_offset': '7.0'},\n",
       " 'current': {'observation_time': '07:33 AM',\n",
       "  'temperature': 34,\n",
       "  'weather_code': 116,\n",
       "  'weather_icons': ['https://assets.weatherstack.com/images/wsymbols01_png_64/wsymbol_0002_sunny_intervals.png'],\n",
       "  'weather_descriptions': ['Partly cloudy'],\n",
       "  'wind_speed': 4,\n",
       "  'wind_degree': 250,\n",
       "  'wind_dir': 'WSW',\n",
       "  'pressure': 1002,\n",
       "  'precip': 0,\n",
       "  'humidity': 53,\n",
       "  'cloudcover': 50,\n",
       "  'feelslike': 38,\n",
       "  'uv_index': 7,\n",
       "  'visibility': 10,\n",
       "  'is_day': 'yes'}}"
      ]
     },
     "execution_count": 13,
     "metadata": {},
     "output_type": "execute_result"
    }
   ],
   "source": [
    "# weather api \n",
    "token = '1d89521e96ee3726d767d81c0699c160'\n",
    "url = 'http://api.weatherstack.com/current'\n",
    "query = 'Bangkok'\n",
    "\n",
    "params = {\n",
    "    'access_key': token,\n",
    "    'query': query\n",
    "}\n",
    "\n",
    "res = requests.get(url, params)\n",
    "res.json()"
   ]
  },
  {
   "cell_type": "code",
   "execution_count": 14,
   "id": "0362e17d",
   "metadata": {},
   "outputs": [],
   "source": [
    "# weather api \n",
    "token = '1d89521e96ee3726d767d81c0699c160'\n",
    "url = 'http://api.weatherstack.com/current'\n",
    "queries = ['Bangkok', 'Chiang Mai', 'Phuket']\n",
    "\n",
    "results = dict\n",
    "for query in queries:\n",
    "    params = {\n",
    "        'access_key': token,\n",
    "        'query': query\n",
    "    }\n",
    "\n",
    "    res = requests.get(url, params)\n",
    "    results.append(res.json())"
   ]
  },
  {
   "cell_type": "code",
   "execution_count": 19,
   "id": "b2cae807",
   "metadata": {},
   "outputs": [
    {
     "data": {
      "text/plain": [
       "{'request': {'type': 'City',\n",
       "  'query': 'Bangkok, Thailand',\n",
       "  'language': 'en',\n",
       "  'unit': 'm'},\n",
       " 'location': {'name': 'Bangkok',\n",
       "  'country': 'Thailand',\n",
       "  'region': 'Krung Thep',\n",
       "  'lat': '13.750',\n",
       "  'lon': '100.517',\n",
       "  'timezone_id': 'Asia/Bangkok',\n",
       "  'localtime': '2022-07-02 14:39',\n",
       "  'localtime_epoch': 1656772740,\n",
       "  'utc_offset': '7.0'},\n",
       " 'current': {'observation_time': '07:39 AM',\n",
       "  'temperature': 33,\n",
       "  'weather_code': 116,\n",
       "  'weather_icons': ['https://assets.weatherstack.com/images/wsymbols01_png_64/wsymbol_0002_sunny_intervals.png'],\n",
       "  'weather_descriptions': ['Partly cloudy'],\n",
       "  'wind_speed': 15,\n",
       "  'wind_degree': 220,\n",
       "  'wind_dir': 'SW',\n",
       "  'pressure': 1001,\n",
       "  'precip': 0,\n",
       "  'humidity': 59,\n",
       "  'cloudcover': 50,\n",
       "  'feelslike': 36,\n",
       "  'uv_index': 7,\n",
       "  'visibility': 10,\n",
       "  'is_day': 'yes'}}"
      ]
     },
     "execution_count": 19,
     "metadata": {},
     "output_type": "execute_result"
    }
   ],
   "source": [
    "results[0]"
   ]
  },
  {
   "cell_type": "code",
   "execution_count": 16,
   "id": "c2b65c5c",
   "metadata": {},
   "outputs": [],
   "source": [
    "import pandas as pd"
   ]
  },
  {
   "cell_type": "code",
   "execution_count": 18,
   "id": "8c605cb7",
   "metadata": {},
   "outputs": [
    {
     "data": {
      "text/html": [
       "<div>\n",
       "<style scoped>\n",
       "    .dataframe tbody tr th:only-of-type {\n",
       "        vertical-align: middle;\n",
       "    }\n",
       "\n",
       "    .dataframe tbody tr th {\n",
       "        vertical-align: top;\n",
       "    }\n",
       "\n",
       "    .dataframe thead th {\n",
       "        text-align: right;\n",
       "    }\n",
       "</style>\n",
       "<table border=\"1\" class=\"dataframe\">\n",
       "  <thead>\n",
       "    <tr style=\"text-align: right;\">\n",
       "      <th></th>\n",
       "      <th>request</th>\n",
       "      <th>location</th>\n",
       "      <th>current</th>\n",
       "    </tr>\n",
       "  </thead>\n",
       "  <tbody>\n",
       "    <tr>\n",
       "      <th>0</th>\n",
       "      <td>{'type': 'City', 'query': 'Bangkok, Thailand',...</td>\n",
       "      <td>{'name': 'Bangkok', 'country': 'Thailand', 're...</td>\n",
       "      <td>{'observation_time': '07:39 AM', 'temperature'...</td>\n",
       "    </tr>\n",
       "    <tr>\n",
       "      <th>1</th>\n",
       "      <td>{'type': 'City', 'query': 'Chiang Mai, Thailan...</td>\n",
       "      <td>{'name': 'Chiang Mai', 'country': 'Thailand', ...</td>\n",
       "      <td>{'observation_time': '07:40 AM', 'temperature'...</td>\n",
       "    </tr>\n",
       "    <tr>\n",
       "      <th>2</th>\n",
       "      <td>{'type': 'City', 'query': 'Phuket, Thailand', ...</td>\n",
       "      <td>{'name': 'Phuket', 'country': 'Thailand', 'reg...</td>\n",
       "      <td>{'observation_time': '07:40 AM', 'temperature'...</td>\n",
       "    </tr>\n",
       "  </tbody>\n",
       "</table>\n",
       "</div>"
      ],
      "text/plain": [
       "                                             request  \\\n",
       "0  {'type': 'City', 'query': 'Bangkok, Thailand',...   \n",
       "1  {'type': 'City', 'query': 'Chiang Mai, Thailan...   \n",
       "2  {'type': 'City', 'query': 'Phuket, Thailand', ...   \n",
       "\n",
       "                                            location  \\\n",
       "0  {'name': 'Bangkok', 'country': 'Thailand', 're...   \n",
       "1  {'name': 'Chiang Mai', 'country': 'Thailand', ...   \n",
       "2  {'name': 'Phuket', 'country': 'Thailand', 'reg...   \n",
       "\n",
       "                                             current  \n",
       "0  {'observation_time': '07:39 AM', 'temperature'...  \n",
       "1  {'observation_time': '07:40 AM', 'temperature'...  \n",
       "2  {'observation_time': '07:40 AM', 'temperature'...  "
      ]
     },
     "execution_count": 18,
     "metadata": {},
     "output_type": "execute_result"
    }
   ],
   "source": [
    "df = pd.DataFrame(results)\n",
    "df "
   ]
  },
  {
   "cell_type": "code",
   "execution_count": null,
   "id": "6dd73e7f",
   "metadata": {},
   "outputs": [],
   "source": []
  }
 ],
 "metadata": {
  "kernelspec": {
   "display_name": "Python 3 (ipykernel)",
   "language": "python",
   "name": "python3"
  },
  "language_info": {
   "codemirror_mode": {
    "name": "ipython",
    "version": 3
   },
   "file_extension": ".py",
   "mimetype": "text/x-python",
   "name": "python",
   "nbconvert_exporter": "python",
   "pygments_lexer": "ipython3",
   "version": "3.9.12"
  }
 },
 "nbformat": 4,
 "nbformat_minor": 5
}
